{
  "nbformat": 4,
  "nbformat_minor": 0,
  "metadata": {
    "colab": {
      "name": "08_Neural_Networks",
      "provenance": [],
      "collapsed_sections": [],
      "toc_visible": true
    },
    "kernelspec": {
      "name": "python3",
      "display_name": "Python 3"
    }
  },
  "cells": [
    {
      "cell_type": "markdown",
      "source": [
        "<div align=\"center\">\n",
        "<h1><img width=\"30\" src=\"https://madewithml.com/static/images/rounded_logo.png\">&nbsp;<a href=\"https://madewithml.com/\">Made With ML</a></h1>\n",
        "Applied ML · MLOps · Production\n",
        "<br>\n",
        "Join 30K+ developers in learning how to responsibly <a href=\"https://madewithml.com/about/\">deliver value</a> with ML.\n",
        "    <br>\n",
        "</div>\n",
        "\n",
        "<br>\n",
        "\n",
        "<div align=\"center\">\n",
        "    <a target=\"_blank\" href=\"https://newsletter.madewithml.com\"><img src=\"https://img.shields.io/badge/Subscribe-30K-brightgreen\"></a>&nbsp;\n",
        "    <a target=\"_blank\" href=\"https://github.com/GokuMohandas/MadeWithML\"><img src=\"https://img.shields.io/github/stars/GokuMohandas/MadeWithML.svg?style=social&label=Star\"></a>&nbsp;\n",
        "    <a target=\"_blank\" href=\"https://www.linkedin.com/in/goku\"><img src=\"https://img.shields.io/badge/style--5eba00.svg?label=LinkedIn&logo=linkedin&style=social\"></a>&nbsp;\n",
        "    <a target=\"_blank\" href=\"https://twitter.com/GokuMohandas\"><img src=\"https://img.shields.io/twitter/follow/GokuMohandas.svg?label=Follow&style=social\"></a>\n",
        "    <br>\n",
        "    🔥&nbsp; Among the <a href=\"https://github.com/topics/deep-learning\" target=\"_blank\">top ML</a> repositories on GitHub\n",
        "</div>\n",
        "\n",
        "<br>\n",
        "<hr>"
      ],
      "metadata": {
        "id": "hVPVtBmT2lxP"
      }
    },
    {
      "cell_type": "markdown",
      "source": [
        "# Neural Networks\n",
        "\n",
        "In this lesson, we will explore multilayer perceptrons (MLPs) which are a basic type of neural network. We'll first motivate non-linear activation functions by trying to fit a linear model (logistic regression) on our non-linear spiral data. Then we'll implement an MLP using just NumPy and then with PyTorch."
      ],
      "metadata": {
        "id": "eTdCMVl9YAXw"
      }
    },
    {
      "cell_type": "markdown",
      "source": [
        "<div align=\"left\">\n",
        "<a target=\"_blank\" href=\"https://madewithml.com/courses/foundations/neural-networks/\"><img src=\"https://img.shields.io/badge/📖 Read-blog post-9cf\"></a>&nbsp;\n",
        "<a href=\"https://github.com/GokuMohandas/MadeWithML/blob/main/notebooks/08_Neural_Networks.ipynb\" role=\"button\"><img src=\"https://img.shields.io/static/v1?label=&amp;message=View%20On%20GitHub&amp;color=586069&amp;logo=github&amp;labelColor=2f363d\"></a>&nbsp;\n",
        "<a href=\"https://colab.research.google.com/github/GokuMohandas/MadeWithML/blob/main/notebooks/08_Neural_Networks.ipynb\"><img src=\"https://colab.research.google.com/assets/colab-badge.svg\" alt=\"Open In Colab\"></a>\n",
        "</div>"
      ],
      "metadata": {
        "id": "xuabAj4PYj57"
      }
    },
    {
      "cell_type": "markdown",
      "source": [
        "# Overview"
      ],
      "metadata": {
        "id": "VoMq0eFRvugb"
      }
    },
    {
      "cell_type": "markdown",
      "source": [
        "Our goal is to learn a model $\\hat{y}$ that models $y$ given $X$ . You'll notice that neural networks are just extensions of the generalized linear methods we've seen so far but with non-linear activation functions since our data will be highly non-linear.\n",
        "\n",
        "<div align=\"left\">\n",
        "<img src=\"https://raw.githubusercontent.com/GokuMohandas/MadeWithML/main/images/foundations/neural-networks/mlp.png\" width=\"500\">\n",
        "</div>\n",
        "\n",
        "$z_1 = XW_1$\n",
        "\n",
        "$a_1 = f(z_1)$\n",
        "\n",
        "$z_2 = a_1W_2$\n",
        "\n",
        "$\\hat{y} = softmax(z_2)$ # classification\n",
        "\n",
        "* $X$ = inputs | $\\in \\mathbb{R}^{NXD}$ ($D$ is the number of features)\n",
        "* $W_1$ = 1st layer weights | $\\in \\mathbb{R}^{DXH}$ ($H$ is the number of hidden units in layer 1)\n",
        "* $z_1$ = outputs from first layer  $\\in \\mathbb{R}^{NXH}$\n",
        "* $f$ = non-linear activation function\n",
        "* $a_1$ = activation applied first layer's outputs | $\\in \\mathbb{R}^{NXH}$\n",
        "* $W_2$ = 2nd layer weights | $\\in \\mathbb{R}^{HXC}$ ($C$ is the number of classes)\n",
        "* $z_2$ = outputs from second layer  $\\in \\mathbb{R}^{NXH}$\n",
        "* $\\hat{y}$ = prediction | $\\in \\mathbb{R}^{NXC}$ ($N$ is the number of samples)"
      ],
      "metadata": {
        "id": "qWro5T5qTJJL"
      }
    },
    {
      "cell_type": "markdown",
      "source": [
        "* **Objective:**  Predict the probability of class $y$ given the inputs $X$. Non-linearity is introduced to model the complex, non-linear data.\n",
        "* **Advantages:**\n",
        "  * Can model non-linear patterns in the data really well.\n",
        "* **Disadvantages:**\n",
        "  * Overfits easily.\n",
        "  * Computationally intensive as network increases in size.\n",
        "  * Not easily interpretable.\n",
        "* **Miscellaneous:** Future neural network architectures that we'll see use the MLP as a modular unit for feed forward operations (affine transformation (XW) followed by a non-linear operation)."
      ],
      "metadata": {
        "id": "JqxyljU18hvt"
      }
    },
    {
      "cell_type": "markdown",
      "source": [
        "> We're going to leave out the bias terms $\\beta$ to avoid further crowding the backpropagation calculations."
      ],
      "metadata": {
        "id": "3GHB1Qi3sskB"
      }
    },
    {
      "cell_type": "markdown",
      "source": [
        "# Set up"
      ],
      "metadata": {
        "id": "9vbZa-cxlujX"
      }
    },
    {
      "cell_type": "code",
      "execution_count": 1,
      "source": [
        "import numpy as np\n",
        "import random"
      ],
      "outputs": [],
      "metadata": {
        "id": "uQNbn5-LFO7w"
      }
    },
    {
      "cell_type": "code",
      "execution_count": 3,
      "source": [
        "SEED = 1234"
      ],
      "outputs": [],
      "metadata": {
        "id": "_cRUTo0hFO-i"
      }
    },
    {
      "cell_type": "code",
      "execution_count": 4,
      "source": [
        "# Set seed for reproducibility\n",
        "np.random.seed(SEED)\n",
        "random.seed(SEED)"
      ],
      "outputs": [],
      "metadata": {
        "id": "EU0SEgIFFPA-"
      }
    },
    {
      "cell_type": "markdown",
      "source": [
        "## Load data"
      ],
      "metadata": {
        "id": "XtKqNioAayCy"
      }
    },
    {
      "cell_type": "markdown",
      "source": [
        "I created some non-linearly separable spiral data so let's go ahead and download it for our classification task."
      ],
      "metadata": {
        "id": "X3OrtMpFayFC"
      }
    },
    {
      "cell_type": "code",
      "execution_count": 5,
      "source": [
        "import matplotlib.pyplot as plt\n",
        "import pandas as pd"
      ],
      "outputs": [],
      "metadata": {
        "id": "9NfIz_4OPYpG"
      }
    },
    {
      "cell_type": "code",
      "execution_count": 6,
      "source": [
        "# Load data\n",
        "url = \"https://raw.githubusercontent.com/GokuMohandas/MadeWithML/main/datasets/spiral.csv\"\n",
        "df = pd.read_csv(url, header=0) # load\n",
        "df = df.sample(frac=1).reset_index(drop=True) # shuffle\n",
        "df.head()"
      ],
      "outputs": [
        {
          "output_type": "execute_result",
          "data": {
            "text/html": [
              "\n",
              "  <div id=\"df-8f787fad-77c1-473b-9083-a2ac23ec3d42\">\n",
              "    <div class=\"colab-df-container\">\n",
              "      <div>\n",
              "<style scoped>\n",
              "    .dataframe tbody tr th:only-of-type {\n",
              "        vertical-align: middle;\n",
              "    }\n",
              "\n",
              "    .dataframe tbody tr th {\n",
              "        vertical-align: top;\n",
              "    }\n",
              "\n",
              "    .dataframe thead th {\n",
              "        text-align: right;\n",
              "    }\n",
              "</style>\n",
              "<table border=\"1\" class=\"dataframe\">\n",
              "  <thead>\n",
              "    <tr style=\"text-align: right;\">\n",
              "      <th></th>\n",
              "      <th>X1</th>\n",
              "      <th>X2</th>\n",
              "      <th>color</th>\n",
              "    </tr>\n",
              "  </thead>\n",
              "  <tbody>\n",
              "    <tr>\n",
              "      <th>0</th>\n",
              "      <td>0.106737</td>\n",
              "      <td>0.114197</td>\n",
              "      <td>c1</td>\n",
              "    </tr>\n",
              "    <tr>\n",
              "      <th>1</th>\n",
              "      <td>0.311513</td>\n",
              "      <td>-0.664028</td>\n",
              "      <td>c1</td>\n",
              "    </tr>\n",
              "    <tr>\n",
              "      <th>2</th>\n",
              "      <td>0.019870</td>\n",
              "      <td>-0.703126</td>\n",
              "      <td>c1</td>\n",
              "    </tr>\n",
              "    <tr>\n",
              "      <th>3</th>\n",
              "      <td>-0.054017</td>\n",
              "      <td>0.508159</td>\n",
              "      <td>c3</td>\n",
              "    </tr>\n",
              "    <tr>\n",
              "      <th>4</th>\n",
              "      <td>-0.127751</td>\n",
              "      <td>-0.011382</td>\n",
              "      <td>c3</td>\n",
              "    </tr>\n",
              "  </tbody>\n",
              "</table>\n",
              "</div>\n",
              "      <button class=\"colab-df-convert\" onclick=\"convertToInteractive('df-8f787fad-77c1-473b-9083-a2ac23ec3d42')\"\n",
              "              title=\"Convert this dataframe to an interactive table.\"\n",
              "              style=\"display:none;\">\n",
              "        \n",
              "  <svg xmlns=\"http://www.w3.org/2000/svg\" height=\"24px\"viewBox=\"0 0 24 24\"\n",
              "       width=\"24px\">\n",
              "    <path d=\"M0 0h24v24H0V0z\" fill=\"none\"/>\n",
              "    <path d=\"M18.56 5.44l.94 2.06.94-2.06 2.06-.94-2.06-.94-.94-2.06-.94 2.06-2.06.94zm-11 1L8.5 8.5l.94-2.06 2.06-.94-2.06-.94L8.5 2.5l-.94 2.06-2.06.94zm10 10l.94 2.06.94-2.06 2.06-.94-2.06-.94-.94-2.06-.94 2.06-2.06.94z\"/><path d=\"M17.41 7.96l-1.37-1.37c-.4-.4-.92-.59-1.43-.59-.52 0-1.04.2-1.43.59L10.3 9.45l-7.72 7.72c-.78.78-.78 2.05 0 2.83L4 21.41c.39.39.9.59 1.41.59.51 0 1.02-.2 1.41-.59l7.78-7.78 2.81-2.81c.8-.78.8-2.07 0-2.86zM5.41 20L4 18.59l7.72-7.72 1.47 1.35L5.41 20z\"/>\n",
              "  </svg>\n",
              "      </button>\n",
              "      \n",
              "  <style>\n",
              "    .colab-df-container {\n",
              "      display:flex;\n",
              "      flex-wrap:wrap;\n",
              "      gap: 12px;\n",
              "    }\n",
              "\n",
              "    .colab-df-convert {\n",
              "      background-color: #E8F0FE;\n",
              "      border: none;\n",
              "      border-radius: 50%;\n",
              "      cursor: pointer;\n",
              "      display: none;\n",
              "      fill: #1967D2;\n",
              "      height: 32px;\n",
              "      padding: 0 0 0 0;\n",
              "      width: 32px;\n",
              "    }\n",
              "\n",
              "    .colab-df-convert:hover {\n",
              "      background-color: #E2EBFA;\n",
              "      box-shadow: 0px 1px 2px rgba(60, 64, 67, 0.3), 0px 1px 3px 1px rgba(60, 64, 67, 0.15);\n",
              "      fill: #174EA6;\n",
              "    }\n",
              "\n",
              "    [theme=dark] .colab-df-convert {\n",
              "      background-color: #3B4455;\n",
              "      fill: #D2E3FC;\n",
              "    }\n",
              "\n",
              "    [theme=dark] .colab-df-convert:hover {\n",
              "      background-color: #434B5C;\n",
              "      box-shadow: 0px 1px 3px 1px rgba(0, 0, 0, 0.15);\n",
              "      filter: drop-shadow(0px 1px 2px rgba(0, 0, 0, 0.3));\n",
              "      fill: #FFFFFF;\n",
              "    }\n",
              "  </style>\n",
              "\n",
              "      <script>\n",
              "        const buttonEl =\n",
              "          document.querySelector('#df-8f787fad-77c1-473b-9083-a2ac23ec3d42 button.colab-df-convert');\n",
              "        buttonEl.style.display =\n",
              "          google.colab.kernel.accessAllowed ? 'block' : 'none';\n",
              "\n",
              "        async function convertToInteractive(key) {\n",
              "          const element = document.querySelector('#df-8f787fad-77c1-473b-9083-a2ac23ec3d42');\n",
              "          const dataTable =\n",
              "            await google.colab.kernel.invokeFunction('convertToInteractive',\n",
              "                                                     [key], {});\n",
              "          if (!dataTable) return;\n",
              "\n",
              "          const docLinkHtml = 'Like what you see? Visit the ' +\n",
              "            '<a target=\"_blank\" href=https://colab.research.google.com/notebooks/data_table.ipynb>data table notebook</a>'\n",
              "            + ' to learn more about interactive tables.';\n",
              "          element.innerHTML = '';\n",
              "          dataTable['output_type'] = 'display_data';\n",
              "          await google.colab.output.renderOutput(dataTable, element);\n",
              "          const docLink = document.createElement('div');\n",
              "          docLink.innerHTML = docLinkHtml;\n",
              "          element.appendChild(docLink);\n",
              "        }\n",
              "      </script>\n",
              "    </div>\n",
              "  </div>\n",
              "  "
            ],
            "text/plain": [
              "         X1        X2 color\n",
              "0  0.106737  0.114197    c1\n",
              "1  0.311513 -0.664028    c1\n",
              "2  0.019870 -0.703126    c1\n",
              "3 -0.054017  0.508159    c3\n",
              "4 -0.127751 -0.011382    c3"
            ]
          },
          "metadata": {},
          "execution_count": 6
        }
      ],
      "metadata": {
        "id": "efS3lVYETA17",
        "colab": {
          "base_uri": "https://localhost:8080/",
          "height": 206
        },
        "outputId": "f2400bd8-f7a6-4d84-fbd8-0e02b10c7545"
      }
    },
    {
      "cell_type": "code",
      "execution_count": 7,
      "source": [
        "# Data shapes\n",
        "X = df[[\"X1\", \"X2\"]].values\n",
        "y = df[\"color\"].values\n",
        "print (\"X: \", np.shape(X))\n",
        "print (\"y: \", np.shape(y))"
      ],
      "outputs": [
        {
          "output_type": "stream",
          "name": "stdout",
          "text": [
            "X:  (1500, 2)\n",
            "y:  (1500,)\n"
          ]
        }
      ],
      "metadata": {
        "id": "jmTwuA9kHjhA",
        "colab": {
          "base_uri": "https://localhost:8080/"
        },
        "outputId": "35df0e7c-b9cd-4a28-d16e-57bec84be1db"
      }
    },
    {
      "cell_type": "code",
      "execution_count": 8,
      "source": [
        "# Visualize data\n",
        "plt.title(\"Generated non-linear data\")\n",
        "colors = {\"c1\": \"red\", \"c2\": \"yellow\", \"c3\": \"blue\"}\n",
        "plt.scatter(X[:, 0], X[:, 1], c=[colors[_y] for _y in y], edgecolors=\"k\", s=25)\n",
        "plt.show()"
      ],
      "outputs": [
        {
          "output_type": "display_data",
          "data": {
            "image/png": "[encoded data removed]",
            "text/plain": [
              "<Figure size 432x288 with 1 Axes>"
            ]
          },
          "metadata": {
            "needs_background": "light"
          }
        }
      ],
      "metadata": {
        "id": "jgVjStv8VnX2",
        "colab": {
          "base_uri": "https://localhost:8080/",
          "height": 281
        },
        "outputId": "13f0fb90-906f-42d2-951b-9bebe0a81441"
      }
    },
    {
      "cell_type": "markdown",
      "source": [
        "## Split data"
      ],
      "metadata": {
        "id": "f01ldQXXS3lc"
      }
    },
    {
      "cell_type": "markdown",
      "source": [
        "We'll shuffle our dataset (since it's ordered by class) and then create our data splits (stratified on class)."
      ],
      "metadata": {
        "id": "-wZmsNeUf7Ky"
      }
    },
    {
      "cell_type": "code",
      "execution_count": 9,
      "source": [
        "import collections\n",
        "from sklearn.model_selection import train_test_split"
      ],
      "outputs": [],
      "metadata": {
        "id": "a7HwlgP9-G52"
      }
    },
    {
      "cell_type": "code",
      "execution_count": 11,
      "source": [
        "TRAIN_SIZE = 0.7\n",
        "VAL_SIZE = 0.15\n",
        "TEST_SIZE = 0.15"
      ],
      "outputs": [],
      "metadata": {
        "id": "wRVOgVxDDcx3"
      }
    },
    {
      "cell_type": "code",
      "execution_count": 12,
      "source": [
        "def train_val_test_split(X, y, train_size):\n",
        "    \"\"\"Split dataset into data splits.\"\"\"\n",
        "    X_train, X_, y_train, y_ = train_test_split(X, y, train_size=TRAIN_SIZE, stratify=y)\n",
        "    X_val, X_test, y_val, y_test = train_test_split(X_, y_, train_size=0.5, stratify=y_)\n",
        "    return X_train, X_val, X_test, y_train, y_val, y_test"
      ],
      "outputs": [],
      "metadata": {
        "id": "Ad9RNqcQf2cA"
      }
    },
    {
      "cell_type": "code",
      "execution_count": 13,
      "source": [
        "# Create data splits\n",
        "X_train, X_val, X_test, y_train, y_val, y_test = train_val_test_split(\n",
        "    X=X, y=y, train_size=TRAIN_SIZE)\n",
        "print (f\"X_train: {X_train.shape}, y_train: {y_train.shape}\")\n",
        "print (f\"X_val: {X_val.shape}, y_val: {y_val.shape}\")\n",
        "print (f\"X_test: {X_test.shape}, y_test: {y_test.shape}\")\n",
        "print (f\"Sample point: {X_train[0]} → {y_train[0]}\")"
      ],
      "outputs": [
        {
          "output_type": "stream",
          "name": "stdout",
          "text": [
            "X_train: (1050, 2), y_train: (1050,)\n",
            "X_val: (225, 2), y_val: (225,)\n",
            "X_test: (225, 2), y_test: (225,)\n",
            "Sample point: [-0.63919105 -0.69724176] → c1\n"
          ]
        }
      ],
      "metadata": {
        "id": "gGFqcqTDXhkl",
        "colab": {
          "base_uri": "https://localhost:8080/"
        },
        "outputId": "d89f0bc1-79c8-4bd1-e987-0dc7c0533dc8"
      }
    },
    {
      "cell_type": "markdown",
      "source": [
        "## Label encoding"
      ],
      "metadata": {
        "id": "w8EQEwO2OWfN"
      }
    },
    {
      "cell_type": "markdown",
      "source": [
        "In the previous lesson we wrote our own label encoder class to see the inner functions but this time we'll use scikit-learn [`LabelEncoder`](https://scikit-learn.org/stable/modules/generated/sklearn.preprocessing.LabelEncoder.html) class which does the same operations as ours."
      ],
      "metadata": {
        "id": "6fd9d-NSgH6D"
      }
    },
    {
      "cell_type": "code",
      "execution_count": 15,
      "source": [
        "from sklearn.preprocessing import LabelEncoder"
      ],
      "outputs": [],
      "metadata": {
        "id": "0ldFOhAqObcd"
      }
    },
    {
      "cell_type": "code",
      "execution_count": 16,
      "source": [
        "# Output vectorizer\n",
        "label_encoder = LabelEncoder()"
      ],
      "outputs": [],
      "metadata": {
        "id": "mYjAYlTdObf0"
      }
    },
    {
      "cell_type": "code",
      "execution_count": 17,
      "source": [
        "# Fit on train data\n",
        "label_encoder = label_encoder.fit(y_train)\n",
        "classes = list(label_encoder.classes_)\n",
        "print (f\"classes: {classes}\")"
      ],
      "outputs": [
        {
          "output_type": "stream",
          "name": "stdout",
          "text": [
            "classes: ['c1', 'c2', 'c3']\n"
          ]
        }
      ],
      "metadata": {
        "id": "VO1uxrdgObkf",
        "colab": {
          "base_uri": "https://localhost:8080/"
        },
        "outputId": "14127eb9-4444-4a01-c2eb-a4c09a6ab18e"
      }
    },
    {
      "cell_type": "code",
      "execution_count": 18,
      "source": [
        "# Convert labels to tokens\n",
        "print (f\"y_train[0]: {y_train[0]}\")\n",
        "y_train = label_encoder.transform(y_train)\n",
        "y_val = label_encoder.transform(y_val)\n",
        "y_test = label_encoder.transform(y_test)\n",
        "print (f\"y_train[0]: {y_train[0]}\")"
      ],
      "outputs": [
        {
          "output_type": "stream",
          "name": "stdout",
          "text": [
            "y_train[0]: c1\n",
            "y_train[0]: 0\n"
          ]
        }
      ],
      "metadata": {
        "id": "1t9vjih9Oeq9",
        "colab": {
          "base_uri": "https://localhost:8080/"
        },
        "outputId": "093f945c-4f5d-4b6a-c569-b0fd233c5db6"
      }
    },
    {
      "cell_type": "code",
      "execution_count": 19,
      "source": [
        "# Class weights\n",
        "counts = np.bincount(y_train)\n",
        "class_weights = {i: 1.0/count for i, count in enumerate(counts)}\n",
        "print (f\"counts: {counts}\\nweights: {class_weights}\")"
      ],
      "outputs": [
        {
          "output_type": "stream",
          "name": "stdout",
          "text": [
            "counts: [350 350 350]\n",
            "weights: {0: 0.002857142857142857, 1: 0.002857142857142857, 2: 0.002857142857142857}\n"
          ]
        }
      ],
      "metadata": {
        "id": "QVgNHgSkInPE",
        "colab": {
          "base_uri": "https://localhost:8080/"
        },
        "outputId": "7307b767-a10a-4829-8259-14ab6bd405db"
      }
    },
    {
      "cell_type": "markdown",
      "source": [
        "## Standardize data"
      ],
      "metadata": {
        "id": "MDFM5gQte5rQ"
      }
    },
    {
      "cell_type": "markdown",
      "source": [
        "We need to standardize our data (zero mean and unit variance) so a specific feature's magnitude doesn't affect how the model learns its weights. We're only going to standardize the inputs X because our outputs y are class values."
      ],
      "metadata": {
        "id": "JlmiwCUre_ZH"
      }
    },
    {
      "cell_type": "code",
      "execution_count": 20,
      "source": [
        "from sklearn.preprocessing import StandardScaler"
      ],
      "outputs": [],
      "metadata": {
        "id": "D4uCG3vMe52J"
      }
    },
    {
      "cell_type": "code",
      "execution_count": 21,
      "source": [
        "# Standardize the data (mean=0, std=1) using training data\n",
        "X_scaler = StandardScaler().fit(X_train)"
      ],
      "outputs": [],
      "metadata": {
        "id": "3tTbwUOme5z7"
      }
    },
    {
      "cell_type": "code",
      "execution_count": 22,
      "source": [
        "# Apply scaler on training and test data (don't standardize outputs for classification)\n",
        "X_train = X_scaler.transform(X_train)\n",
        "X_val = X_scaler.transform(X_val)\n",
        "X_test = X_scaler.transform(X_test)"
      ],
      "outputs": [],
      "metadata": {
        "id": "zGTQNaRie5xb"
      }
    },
    {
      "cell_type": "code",
      "execution_count": 23,
      "source": [
        "# Check (means should be ~0 and std should be ~1)\n",
        "print (f\"X_test[0]: mean: {np.mean(X_test[:, 0], axis=0):.1f}, std: {np.std(X_test[:, 0], axis=0):.1f}\")\n",
        "print (f\"X_test[1]: mean: {np.mean(X_test[:, 1], axis=0):.1f}, std: {np.std(X_test[:, 1], axis=0):.1f}\")"
      ],
      "outputs": [
        {
          "output_type": "stream",
          "name": "stdout",
          "text": [
            "X_test[0]: mean: 0.1, std: 0.9\n",
            "X_test[1]: mean: 0.0, std: 1.0\n"
          ]
        }
      ],
      "metadata": {
        "id": "dstH0Cm-fLgK",
        "colab": {
          "base_uri": "https://localhost:8080/"
        },
        "outputId": "52b4728d-a695-465d-e43d-b6b4b24b218a"
      }
    },
    {
      "cell_type": "markdown",
      "source": [
        "# Linear model"
      ],
      "metadata": {
        "id": "IHofozO7RIiV"
      }
    },
    {
      "cell_type": "markdown",
      "source": [
        "Before we get to our neural network, we're going to motivate non-linear activation functions by implementing a generalized linear model (logistic regression). We'll see why linear models (with linear activations) won't suffice for our dataset."
      ],
      "metadata": {
        "id": "DlVmr5XkRMCf"
      }
    },
    {
      "cell_type": "code",
      "execution_count": 24,
      "source": [
        "import torch"
      ],
      "outputs": [],
      "metadata": {
        "id": "4K2qHbffAeGL"
      }
    },
    {
      "cell_type": "code",
      "execution_count": 25,
      "source": [
        "# Set seed for reproducibility\n",
        "torch.manual_seed(SEED)"
      ],
      "outputs": [
        {
          "output_type": "execute_result",
          "data": {
            "text/plain": [
              "<torch._C.Generator at 0x7fd6e3b7f530>"
            ]
          },
          "metadata": {},
          "execution_count": 25
        }
      ],
      "metadata": {
        "id": "bn9Kr2XrAeCR",
        "colab": {
          "base_uri": "https://localhost:8080/"
        },
        "outputId": "13de616a-ff54-4f09-cf0d-b50ed855afcc"
      }
    },
    {
      "cell_type": "markdown",
      "source": [
        "## Model"
      ],
      "metadata": {
        "id": "5YkMN-nU-gz7"
      }
    },
    {
      "cell_type": "code",
      "execution_count": 26,
      "source": [
        "from torch import nn\n",
        "import torch.nn.functional as F"
      ],
      "outputs": [],
      "metadata": {
        "id": "hMzXPa6g-467"
      }
    },
    {
      "cell_type": "code",
      "execution_count": 27,
      "source": [
        "INPUT_DIM = X_train.shape[1] # X is 2-dimensional\n",
        "HIDDEN_DIM = 100\n",
        "NUM_CLASSES = len(classes) # 3 classes"
      ],
      "outputs": [],
      "metadata": {
        "id": "RJlz9hEe_2xX"
      }
    },
    {
      "cell_type": "code",
      "execution_count": 28,
      "source": [
        "class LinearModel(nn.Module):\n",
        "    def __init__(self, input_dim, hidden_dim, num_classes):\n",
        "        super(LinearModel, self).__init__()\n",
        "        self.fc1 = nn.Linear(input_dim, hidden_dim)\n",
        "        self.fc2 = nn.Linear(hidden_dim, num_classes)\n",
        "        \n",
        "    def forward(self, x_in, apply_softmax=False):\n",
        "        z = self.fc1(x_in) # linear activation\n",
        "        y_pred = self.fc2(z)\n",
        "        if apply_softmax:\n",
        "            y_pred = F.softmax(y_pred, dim=1) \n",
        "        return y_pred"
      ],
      "outputs": [],
      "metadata": {
        "id": "oolBQZaE-43y"
      }
    },
    {
      "cell_type": "code",
      "execution_count": 29,
      "source": [
        "# Initialize model\n",
        "model = LinearModel(input_dim=INPUT_DIM, hidden_dim=HIDDEN_DIM, num_classes=NUM_CLASSES)\n",
        "print (model.named_parameters)"
      ],
      "outputs": [
        {
          "output_type": "stream",
          "name": "stdout",
          "text": [
            "<bound method Module.named_parameters of LinearModel(\n",
            "  (fc1): Linear(in_features=2, out_features=100, bias=True)\n",
            "  (fc2): Linear(in_features=100, out_features=3, bias=True)\n",
            ")>\n"
          ]
        }
      ],
      "metadata": {
        "id": "q1aORSTK-41F",
        "colab": {
          "base_uri": "https://localhost:8080/"
        },
        "outputId": "0aa6de63-25fe-41f2-ea27-d59f765d7cf5"
      }
    },
    {
      "cell_type": "markdown",
      "source": [
        "## Training"
      ],
      "metadata": {
        "id": "AUdgkiuRBZIo"
      }
    },
    {
      "cell_type": "code",
      "execution_count": 30,
      "source": [
        "from torch.optim import Adam"
      ],
      "outputs": [],
      "metadata": {
        "id": "SiqIcs6FBo70"
      }
    },
    {
      "cell_type": "code",
      "execution_count": 31,
      "source": [
        "LEARNING_RATE = 1e-2\n",
        "NUM_EPOCHS = 10\n",
        "BATCH_SIZE = 32"
      ],
      "outputs": [],
      "metadata": {
        "id": "UmOydQRnBYqc"
      }
    },
    {
      "cell_type": "code",
      "execution_count": 32,
      "source": [
        "# Define Loss\n",
        "class_weights_tensor = torch.Tensor(list(class_weights.values()))\n",
        "loss_fn = nn.CrossEntropyLoss(weight=class_weights_tensor)"
      ],
      "outputs": [],
      "metadata": {
        "id": "qg8YRdv9AZ6p"
      }
    },
    {
      "cell_type": "code",
      "execution_count": 33,
      "source": [
        "# Accuracy\n",
        "def accuracy_fn(y_pred, y_true):\n",
        "    n_correct = torch.eq(y_pred, y_true).sum().item()\n",
        "    accuracy = (n_correct / len(y_pred)) * 100\n",
        "    return accuracy"
      ],
      "outputs": [],
      "metadata": {
        "id": "NFwrk5E2AZ2g"
      }
    },
    {
      "cell_type": "code",
      "execution_count": 34,
      "source": [
        "# Optimizer\n",
        "optimizer = Adam(model.parameters(), lr=LEARNING_RATE) "
      ],
      "outputs": [],
      "metadata": {
        "id": "dVA58YPNc2_f"
      }
    },
    {
      "cell_type": "code",
      "execution_count": 35,
      "source": [
        "# Convert data to tensors\n",
        "X_train = torch.Tensor(X_train)\n",
        "y_train = torch.LongTensor(y_train)\n",
        "X_val = torch.Tensor(X_val)\n",
        "y_val = torch.LongTensor(y_val)\n",
        "X_test = torch.Tensor(X_test)\n",
        "y_test = torch.LongTensor(y_test)"
      ],
      "outputs": [],
      "metadata": {
        "id": "bpBgduAbadfa"
      }
    },
    {
      "cell_type": "code",
      "execution_count": 36,
      "source": [
        "# Training\n",
        "for epoch in range(NUM_EPOCHS):\n",
        "    # Forward pass\n",
        "    y_pred = model(X_train)\n",
        "\n",
        "    # Loss\n",
        "    loss = loss_fn(y_pred, y_train)\n",
        "\n",
        "    # Zero all gradients\n",
        "    optimizer.zero_grad()\n",
        "\n",
        "    # Backward pass\n",
        "    loss.backward()\n",
        "\n",
        "    # Update weights\n",
        "    optimizer.step()\n",
        "\n",
        "    if epoch%1==0: \n",
        "        predictions = y_pred.max(dim=1)[1] # class\n",
        "        accuracy = accuracy_fn(y_pred=predictions, y_true=y_train)\n",
        "        print (f\"Epoch: {epoch} | loss: {loss:.2f}, accuracy: {accuracy:.1f}\")"
      ],
      "outputs": [
        {
          "output_type": "stream",
          "name": "stdout",
          "text": [
            "Epoch: 0 | loss: 1.13, accuracy: 49.9\n",
            "Epoch: 1 | loss: 0.91, accuracy: 50.3\n",
            "Epoch: 2 | loss: 0.79, accuracy: 55.3\n",
            "Epoch: 3 | loss: 0.74, accuracy: 54.6\n",
            "Epoch: 4 | loss: 0.74, accuracy: 53.7\n",
            "Epoch: 5 | loss: 0.75, accuracy: 53.6\n",
            "Epoch: 6 | loss: 0.76, accuracy: 53.7\n",
            "Epoch: 7 | loss: 0.77, accuracy: 53.8\n",
            "Epoch: 8 | loss: 0.77, accuracy: 53.9\n",
            "Epoch: 9 | loss: 0.78, accuracy: 53.9\n"
          ]
        }
      ],
      "metadata": {
        "id": "47LEsByWc3bp",
        "colab": {
          "base_uri": "https://localhost:8080/"
        },
        "outputId": "c632a473-06fc-4c64-d350-24725b0b6272"
      }
    },
    {
      "cell_type": "markdown",
      "source": [
        "## Evaluation"
      ],
      "metadata": {
        "id": "_gIcdLFeCLR_"
      }
    },
    {
      "cell_type": "code",
      "execution_count": 37,
      "source": [
        "import json\n",
        "import matplotlib.pyplot as plt\n",
        "from sklearn.metrics import precision_recall_fscore_support"
      ],
      "outputs": [],
      "metadata": {
        "id": "TyfL-k6uBzMW"
      }
    },
    {
      "cell_type": "code",
      "execution_count": 38,
      "source": [
        "def get_performance(y_true, y_pred, classes):\n",
        "    \"\"\"Per-class performance metrics.\"\"\"\n",
        "    # Performance\n",
        "    performance = {\"overall\": {}, \"class\": {}}\n",
        "\n",
        "    # Overall performance\n",
        "    metrics = precision_recall_fscore_support(y_true, y_pred, average=\"weighted\")\n",
        "    performance[\"overall\"][\"precision\"] = metrics[0]\n",
        "    performance[\"overall\"][\"recall\"] = metrics[1]\n",
        "    performance[\"overall\"][\"f1\"] = metrics[2]\n",
        "    performance[\"overall\"][\"num_samples\"] = np.float64(len(y_true))\n",
        "\n",
        "    # Per-class performance\n",
        "    metrics = precision_recall_fscore_support(y_true, y_pred, average=None)\n",
        "    for i in range(len(classes)):\n",
        "        performance[\"class\"][classes[i]] = {\n",
        "            \"precision\": metrics[0][i],\n",
        "            \"recall\": metrics[1][i],\n",
        "            \"f1\": metrics[2][i],\n",
        "            \"num_samples\": np.float64(metrics[3][i]),\n",
        "        }\n",
        "\n",
        "    return performance"
      ],
      "outputs": [],
      "metadata": {
        "id": "55oQ-dCfgv2T"
      }
    },
    {
      "cell_type": "code",
      "execution_count": 39,
      "source": [
        "# Predictions\n",
        "y_prob = model(X_test, apply_softmax=True)\n",
        "print (f\"sample probability: {y_prob[0]}\")\n",
        "y_pred = y_prob.max(dim=1)[1]\n",
        "print (f\"sample class: {y_pred[0]}\")"
      ],
      "outputs": [
        {
          "output_type": "stream",
          "name": "stdout",
          "text": [
            "sample probability: tensor([0.8995, 0.0286, 0.0719], grad_fn=<SelectBackward0>)\n",
            "sample class: 0\n"
          ]
        }
      ],
      "metadata": {
        "id": "Au0tESHKC8Rj",
        "colab": {
          "base_uri": "https://localhost:8080/"
        },
        "outputId": "51fc16ea-8a30-4f3c-df63-978b78a6d965"
      }
    },
    {
      "cell_type": "code",
      "execution_count": 40,
      "source": [
        "# Performance report\n",
        "performance = get_performance(y_true=y_test, y_pred=y_pred, classes=classes)\n",
        "print (json.dumps(performance, indent=2))"
      ],
      "outputs": [
        {
          "output_type": "stream",
          "name": "stdout",
          "text": [
            "{\n",
            "  \"overall\": {\n",
            "    \"precision\": 0.5326832791621523,\n",
            "    \"recall\": 0.5333333333333333,\n",
            "    \"f1\": 0.5327986224880954,\n",
            "    \"num_samples\": 225.0\n",
            "  },\n",
            "  \"class\": {\n",
            "    \"c1\": {\n",
            "      \"precision\": 0.5,\n",
            "      \"recall\": 0.5066666666666667,\n",
            "      \"f1\": 0.5033112582781457,\n",
            "      \"num_samples\": 75.0\n",
            "    },\n",
            "    \"c2\": {\n",
            "      \"precision\": 0.5211267605633803,\n",
            "      \"recall\": 0.49333333333333335,\n",
            "      \"f1\": 0.5068493150684932,\n",
            "      \"num_samples\": 75.0\n",
            "    },\n",
            "    \"c3\": {\n",
            "      \"precision\": 0.5769230769230769,\n",
            "      \"recall\": 0.6,\n",
            "      \"f1\": 0.5882352941176471,\n",
            "      \"num_samples\": 75.0\n",
            "    }\n",
            "  }\n",
            "}\n"
          ]
        }
      ],
      "metadata": {
        "colab": {
          "base_uri": "https://localhost:8080/"
        },
        "id": "LfvOtw6lgv5E",
        "outputId": "5a25431d-85c3-49af-fad9-9c43de62a393"
      }
    },
    {
      "cell_type": "code",
      "execution_count": 41,
      "source": [
        "def plot_multiclass_decision_boundary(model, X, y):\n",
        "    x_min, x_max = X[:, 0].min() - 0.1, X[:, 0].max() + 0.1\n",
        "    y_min, y_max = X[:, 1].min() - 0.1, X[:, 1].max() + 0.1\n",
        "    xx, yy = np.meshgrid(np.linspace(x_min, x_max, 101), np.linspace(y_min, y_max, 101))\n",
        "    cmap = plt.cm.Spectral\n",
        "    \n",
        "    X_test = torch.from_numpy(np.c_[xx.ravel(), yy.ravel()]).float()\n",
        "    y_pred = model(X_test, apply_softmax=True)\n",
        "    _, y_pred = y_pred.max(dim=1)\n",
        "    y_pred = y_pred.reshape(xx.shape)\n",
        "    plt.contourf(xx, yy, y_pred, cmap=plt.cm.Spectral, alpha=0.8)\n",
        "    plt.scatter(X[:, 0], X[:, 1], c=y, s=40, cmap=plt.cm.RdYlBu)\n",
        "    plt.xlim(xx.min(), xx.max())\n",
        "    plt.ylim(yy.min(), yy.max())"
      ],
      "outputs": [],
      "metadata": {
        "id": "gdzQ8LVuGJL3"
      }
    },
    {
      "cell_type": "code",
      "execution_count": 42,
      "source": [
        "# Visualize the decision boundary\n",
        "plt.figure(figsize=(12,5))\n",
        "plt.subplot(1, 2, 1)\n",
        "plt.title(\"Train\")\n",
        "plot_multiclass_decision_boundary(model=model, X=X_train, y=y_train)\n",
        "plt.subplot(1, 2, 2)\n",
        "plt.title(\"Test\")\n",
        "plot_multiclass_decision_boundary(model=model, X=X_test, y=y_test)\n",
        "plt.show()"
      ],
      "outputs": [
        {
          "output_type": "display_data",
          "data": {
            "image/png": "[encoded data removed]",
            "text/plain": [
              "<Figure size 864x360 with 2 Axes>"
            ]
          },
          "metadata": {
            "needs_background": "light"
          }
        }
      ],
      "metadata": {
        "id": "gGfevv1kusw8",
        "colab": {
          "base_uri": "https://localhost:8080/",
          "height": 336
        },
        "outputId": "72ebebe4-9493-400f-e98f-9d94b6ab0cff"
      }
    },
    {
      "cell_type": "markdown",
      "source": [
        "# Activation functions"
      ],
      "metadata": {
        "id": "R3OK8p-Ng3BC"
      }
    },
    {
      "cell_type": "markdown",
      "source": [
        "Using the generalized linear method (logistic regression) yielded poor results because of the non-linearity present in our data yet our activation functions were linear. We need to use an activation function that can allow our model to learn and map the non-linearity in our data. There are many different options so let's explore a few."
      ],
      "metadata": {
        "id": "ghf5uLuhg3D0"
      }
    },
    {
      "cell_type": "code",
      "execution_count": 43,
      "source": [
        "# Fig size\n",
        "plt.figure(figsize=(12,3))\n",
        "\n",
        "# Data\n",
        "x = torch.arange(-5., 5., 0.1)\n",
        "\n",
        "# Sigmoid activation (constrain a value between 0 and 1.)\n",
        "plt.subplot(1, 3, 1)\n",
        "plt.title(\"Sigmoid activation\")\n",
        "y = torch.sigmoid(x)\n",
        "plt.plot(x.numpy(), y.numpy())\n",
        "\n",
        "# Tanh activation (constrain a value between -1 and 1.)\n",
        "plt.subplot(1, 3, 2)\n",
        "y = torch.tanh(x)\n",
        "plt.title(\"Tanh activation\")\n",
        "plt.plot(x.numpy(), y.numpy())\n",
        "\n",
        "# Relu (clip the negative values to 0)\n",
        "plt.subplot(1, 3, 3)\n",
        "y = F.relu(x)\n",
        "plt.title(\"ReLU activation\")\n",
        "plt.plot(x.numpy(), y.numpy())\n",
        "\n",
        "# Show plots\n",
        "plt.show()"
      ],
      "outputs": [
        {
          "output_type": "display_data",
          "data": {
            "image/png": "[encoded data removed]",
            "text/plain": [
              "<Figure size 864x216 with 3 Axes>"
            ]
          },
          "metadata": {
            "needs_background": "light"
          }
        }
      ],
      "metadata": {
        "id": "ivnfSKEhg3Md",
        "colab": {
          "base_uri": "https://localhost:8080/",
          "height": 227
        },
        "outputId": "e9b6d9cb-843f-496d-c865-6b27344e4ffb"
      }
    },
    {
      "cell_type": "markdown",
      "source": [
        "The ReLU activation function ($max(0,z)$) is by far the most widely used activation function for neural networks. But as you can see, each activation function has its own constraints so there are circumstances where you'll want to use different ones. For example, if we need to constrain our outputs between 0 and 1, then the sigmoid activation is the best choice."
      ],
      "metadata": {
        "id": "b_yo9fwwciDY"
      }
    },
    {
      "cell_type": "markdown",
      "source": [
        "> In some cases, using a ReLU activation function may not be sufficient. For instance, when the outputs from our neurons are mostly negative, the activation function will produce zeros. This effectively creates a \"dying ReLU\" and a recovery is unlikely. To mitigate this effect, we could lower the learning rate or use [alternative ReLU activations](https://medium.com/@danqing/a-practical-guide-to-relu-b83ca804f1f7), ex. leaky ReLU or parametric ReLU (PReLU), which have a small slope for negative neuron outputs. "
      ],
      "metadata": {
        "id": "u72au7H9oHk7"
      }
    },
    {
      "cell_type": "markdown",
      "source": [
        "# NumPy\n",
        "\n",
        "Now let's create our multilayer perceptron (MLP) which is going to be exactly like the logistic regression model but with the activation function to map the non-linearity in our data. \n",
        "\n",
        "> It's normal to find the math and code in this section slightly complex. You can still read each of the steps to build intuition for when we implement this using PyTorch.\n"
      ],
      "metadata": {
        "id": "xqWpi0X2dWpe"
      }
    },
    {
      "cell_type": "markdown",
      "source": [
        "Our goal is to learn a model  𝑦̂   that models  𝑦  given  𝑋 . You'll notice that neural networks are just extensions of the generalized linear methods we've seen so far but with non-linear activation functions since our data will be highly non-linear.\n",
        "\n",
        "$z_1 = XW_1$\n",
        "\n",
        "$a_1 = f(z_1)$\n",
        "\n",
        "$z_2 = a_1W_2$\n",
        "\n",
        "$\\hat{y} = softmax(z_2)$ # classification\n",
        "\n",
        "* $X$ = inputs | $\\in \\mathbb{R}^{NXD}$ ($D$ is the number of features)\n",
        "* $W_1$ = 1st layer weights | $\\in \\mathbb{R}^{DXH}$ ($H$ is the number of hidden units in layer 1)\n",
        "* $z_1$ = outputs from first layer  $\\in \\mathbb{R}^{NXH}$\n",
        "* $f$ = non-linear activation function\n",
        "* $a_1$ = activation applied first layer's outputs | $\\in \\mathbb{R}^{NXH}$\n",
        "* $W_2$ = 2nd layer weights | $\\in \\mathbb{R}^{HXC}$ ($C$ is the number of classes)\n",
        "* $z_2$ = outputs from second layer  $\\in \\mathbb{R}^{NXH}$\n",
        "* $\\hat{y}$ = prediction | $\\in \\mathbb{R}^{NXC}$ ($N$ is the number of samples)"
      ],
      "metadata": {
        "id": "0prEPVOlv1F4"
      }
    },
    {
      "cell_type": "markdown",
      "source": [
        "## Initialize weights"
      ],
      "metadata": {
        "id": "pB1N3X34EHLS"
      }
    },
    {
      "cell_type": "markdown",
      "source": [
        "1. Randomly initialize the model's weights $W$ (we'll cover more effective initialization strategies later in this lesson)."
      ],
      "metadata": {
        "id": "a25Zg2yyvhKL"
      }
    },
    {
      "cell_type": "code",
      "execution_count": 44,
      "source": [
        "# Initialize first layer's weights\n",
        "W1 = 0.01 * np.random.randn(INPUT_DIM, HIDDEN_DIM)\n",
        "b1 = np.zeros((1, HIDDEN_DIM))\n",
        "print (f\"W1: {W1.shape}\")\n",
        "print (f\"b1: {b1.shape}\")"
      ],
      "outputs": [
        {
          "output_type": "stream",
          "name": "stdout",
          "text": [
            "W1: (2, 100)\n",
            "b1: (1, 100)\n"
          ]
        }
      ],
      "metadata": {
        "id": "Y3udiI1Idr62",
        "colab": {
          "base_uri": "https://localhost:8080/"
        },
        "outputId": "609cfa4c-b2d5-4141-dd1a-fa26126ed372"
      }
    },
    {
      "cell_type": "markdown",
      "source": [
        "## Model"
      ],
      "metadata": {
        "id": "oxF3FnErEKfr"
      }
    },
    {
      "cell_type": "markdown",
      "source": [
        "2. Feed inputs $X$ into the model to do the forward pass and receive the probabilities."
      ],
      "metadata": {
        "id": "CqllhIMgxGq7"
      }
    },
    {
      "cell_type": "markdown",
      "source": [
        "First we pass the inputs into the first layer.\n",
        "  * $z_1 = XW_1$"
      ],
      "metadata": {
        "id": "pH9-D8YE4pHH"
      }
    },
    {
      "cell_type": "code",
      "execution_count": 45,
      "source": [
        "# z1 = [NX2] · [2X100] + [1X100] = [NX100]\n",
        "z1 = np.dot(X_train, W1) + b1\n",
        "print (f\"z1: {z1.shape}\")"
      ],
      "outputs": [
        {
          "output_type": "stream",
          "name": "stdout",
          "text": [
            "z1: (1050, 100)\n"
          ]
        }
      ],
      "metadata": {
        "id": "TAeYeoMtdr-t",
        "colab": {
          "base_uri": "https://localhost:8080/"
        },
        "outputId": "887e44ff-a440-4809-a553-04eb67bbda92"
      }
    },
    {
      "cell_type": "markdown",
      "source": [
        "Next we apply the non-linear activation function, ReLU ($max(0,z)$) in this case.\n",
        "  * $a_1 = f(z_1)$"
      ],
      "metadata": {
        "id": "15yZEt903YOO"
      }
    },
    {
      "cell_type": "code",
      "execution_count": 46,
      "source": [
        "# Apply activation function\n",
        "a1 = np.maximum(0, z1) # ReLU\n",
        "print (f\"a_1: {a1.shape}\")"
      ],
      "outputs": [
        {
          "output_type": "stream",
          "name": "stdout",
          "text": [
            "a_1: (1050, 100)\n"
          ]
        }
      ],
      "metadata": {
        "id": "yAFau-Zm3YVM",
        "colab": {
          "base_uri": "https://localhost:8080/"
        },
        "outputId": "54ca034b-b006-40e3-ab48-d38f25e91bd4"
      }
    },
    {
      "cell_type": "markdown",
      "source": [
        "We pass the activations to the second layer to get our logits.\n",
        "  * $z_2 = a_1W_2$"
      ],
      "metadata": {
        "id": "gNHCPVa03YGB"
      }
    },
    {
      "cell_type": "code",
      "execution_count": 47,
      "source": [
        "# Initialize second layer's weights\n",
        "W2 = 0.01 * np.random.randn(HIDDEN_DIM, NUM_CLASSES)\n",
        "b2 = np.zeros((1, NUM_CLASSES))\n",
        "print (f\"W2: {W2.shape}\")\n",
        "print (f\"b2: {b2.shape}\")"
      ],
      "outputs": [
        {
          "output_type": "stream",
          "name": "stdout",
          "text": [
            "W2: (100, 3)\n",
            "b2: (1, 3)\n"
          ]
        }
      ],
      "metadata": {
        "id": "kyJS1y2o3YJb",
        "colab": {
          "base_uri": "https://localhost:8080/"
        },
        "outputId": "08e17338-b16a-43da-dadc-f8b319287d67"
      }
    },
    {
      "cell_type": "code",
      "execution_count": 48,
      "source": [
        "# z2 = logits = [NX100] · [100X3] + [1X3] = [NX3]\n",
        "logits = np.dot(a1, W2) + b2\n",
        "print (f\"logits: {logits.shape}\")\n",
        "print (f\"sample: {logits[0]}\")"
      ],
      "outputs": [
        {
          "output_type": "stream",
          "name": "stdout",
          "text": [
            "logits: (1050, 3)\n",
            "sample: [-0.00010001  0.00418463 -0.00067274]\n"
          ]
        }
      ],
      "metadata": {
        "id": "k_sCtbVh5DfI",
        "colab": {
          "base_uri": "https://localhost:8080/"
        },
        "outputId": "9dced3f1-382e-4f1f-da1b-af3fbbc99af0"
      }
    },
    {
      "cell_type": "markdown",
      "source": [
        "We'll apply the softmax function to normalize the logits and btain class probabilities.\n",
        "  * $\\hat{y} = softmax(z_2)$"
      ],
      "metadata": {
        "id": "6r_NhZuP3X5g"
      }
    },
    {
      "cell_type": "code",
      "execution_count": 49,
      "source": [
        "# Normalization via softmax to obtain class probabilities\n",
        "exp_logits = np.exp(logits)\n",
        "y_hat = exp_logits / np.sum(exp_logits, axis=1, keepdims=True)\n",
        "print (f\"y_hat: {y_hat.shape}\")\n",
        "print (f\"sample: {y_hat[0]}\")"
      ],
      "outputs": [
        {
          "output_type": "stream",
          "name": "stdout",
          "text": [
            "y_hat: (1050, 3)\n",
            "sample: [0.33292037 0.33434987 0.33272975]\n"
          ]
        }
      ],
      "metadata": {
        "id": "wI3jpHGJ3X_i",
        "colab": {
          "base_uri": "https://localhost:8080/"
        },
        "outputId": "57c8afc1-1571-4b24-e895-516ff248c7fa"
      }
    },
    {
      "cell_type": "markdown",
      "source": [
        "## Loss"
      ],
      "metadata": {
        "id": "AhbLV8h7EPUT"
      }
    },
    {
      "cell_type": "markdown",
      "source": [
        "3. Compare the predictions $\\hat{y}$ (ex.  [0.3, 0.3, 0.4]) with the actual target values $y$ (ex. class 2 would look like [0, 0, 1]) with the objective (cost) function to determine loss $J$. A common objective function for classification tasks is cross-entropy loss. \n",
        "  * $J(\\theta) = - \\sum_i ln(\\hat{y_i}) = - \\sum_i ln (\\frac{e^{X_iW_y}}{\\sum_j e^{X_iW}}) $"
      ],
      "metadata": {
        "id": "_VzjdcZG2h_h"
      }
    },
    {
      "cell_type": "code",
      "execution_count": 50,
      "source": [
        "# Loss\n",
        "correct_class_logprobs = -np.log(y_hat[range(len(y_hat)), y_train])\n",
        "loss = np.sum(correct_class_logprobs) / len(y_train)"
      ],
      "outputs": [],
      "metadata": {
        "id": "0llchiDhxGGI"
      }
    },
    {
      "cell_type": "markdown",
      "source": [
        "## Gradients"
      ],
      "metadata": {
        "id": "OsLXL8rxEYE6"
      }
    },
    {
      "cell_type": "markdown",
      "source": [
        "4. Calculate the gradient of loss $J(\\theta)$ w.r.t to the model weights. \n",
        "\n",
        "The gradient of the loss w.r.t to $W_2$ is the same as the gradients from logistic regression since $\\hat{y} = softmax(z_2)$.\n",
        "  * $\\frac{\\partial{J}}{\\partial{W_{2j}}} = \\frac{\\partial{J}}{\\partial{\\hat{y}}}\\frac{\\partial{\\hat{y}}}{\\partial{W_{2j}}} = - \\frac{1}{\\hat{y}}\\frac{\\partial{\\hat{y}}}{\\partial{W_{2j}}} = - \\frac{1}{\\frac{e^{W_{2y}a_1}}{\\sum_j e^{a_1W}}}\\frac{\\sum_j e^{a_1W}e^{a_1W_{2y}}0 - e^{a_1W_{2y}}e^{a_1W_{2j}}a_1}{(\\sum_j e^{a_1W})^2} = \\frac{a_1e^{a_1W_{2j}}}{\\sum_j e^{a_1W}} = a_1\\hat{y}$\n",
        "  * $\\frac{\\partial{J}}{\\partial{W_{2y}}} = \\frac{\\partial{J}}{\\partial{\\hat{y}}}\\frac{\\partial{\\hat{y}}}{\\partial{W_{2y}}} = - \\frac{1}{\\hat{y}}\\frac{\\partial{\\hat{y}}}{\\partial{W_{2y}}} = - \\frac{1}{\\frac{e^{W_{2y}a_1}}{\\sum_j e^{a_1W}}}\\frac{\\sum_j e^{a_1W}e^{a_1W_{2y}}a_1 - e^{a_1W_{2y}}e^{a_1W_{2y}}a_1}{(\\sum_j e^{a_1W})^2} = \\frac{1}{\\hat{y}}(a_1\\hat{y} - a_1\\hat{y}^2) = a_1(\\hat{y}-1)$\n",
        "\n",
        "The gradient of the loss w.r.t $W_1$ is a bit trickier since we have to backpropagate through two sets of weights.\n",
        "  * $ \\frac{\\partial{J}}{\\partial{W_1}} = \\frac{\\partial{J}}{\\partial{\\hat{y}}} \\frac{\\partial{\\hat{y}}}{\\partial{a_1}}  \\frac{\\partial{a_1}}{\\partial{z_1}}  \\frac{\\partial{z_1}}{\\partial{W_1}}  = W_2(\\partial{scores})(\\partial{ReLU})X $"
      ],
      "metadata": {
        "id": "6y4ZWFp32jd2"
      }
    },
    {
      "cell_type": "code",
      "execution_count": 51,
      "source": [
        "# dJ/dW2\n",
        "dscores = y_hat\n",
        "dscores[range(len(y_hat)), y_train] -= 1\n",
        "dscores /= len(y_train)\n",
        "dW2 = np.dot(a1.T, dscores)\n",
        "db2 = np.sum(dscores, axis=0, keepdims=True)"
      ],
      "outputs": [],
      "metadata": {
        "id": "9D2ujwNOxGQ1"
      }
    },
    {
      "cell_type": "code",
      "execution_count": 52,
      "source": [
        "# dJ/dW1\n",
        "dhidden = np.dot(dscores, W2.T)\n",
        "dhidden[a1 <= 0] = 0 # ReLu backprop\n",
        "dW1 = np.dot(X_train.T, dhidden)\n",
        "db1 = np.sum(dhidden, axis=0, keepdims=True)"
      ],
      "outputs": [],
      "metadata": {
        "id": "gEpKpAgn78h4"
      }
    },
    {
      "cell_type": "markdown",
      "source": [
        "## Update weights"
      ],
      "metadata": {
        "id": "tKlRXHmoEafb"
      }
    },
    {
      "cell_type": "markdown",
      "source": [
        "5. Update the weights $W$ using a small learning rate $\\alpha$. The updates will penalize the probability for the incorrect classes ($j$) and encourage a higher probability for the correct class ($y$).\n",
        "  * $W_i = W_i - \\alpha\\frac{\\partial{J}}{\\partial{W_i}}$"
      ],
      "metadata": {
        "id": "z1j-lgGq2lb_"
      }
    },
    {
      "cell_type": "code",
      "execution_count": 53,
      "source": [
        "# Update weights\n",
        "W1 += -LEARNING_RATE * dW1\n",
        "b1 += -LEARNING_RATE * db1\n",
        "W2 += -LEARNING_RATE * dW2\n",
        "b2 += -LEARNING_RATE * db2"
      ],
      "outputs": [],
      "metadata": {
        "id": "6kZoWyx-xGW8"
      }
    },
    {
      "cell_type": "markdown",
      "source": [
        "## Training"
      ],
      "metadata": {
        "id": "7K8S9rf1EdHy"
      }
    },
    {
      "cell_type": "markdown",
      "source": [
        "6. Repeat steps 2 - 4 until model performs well."
      ],
      "metadata": {
        "id": "6lho6k572mge"
      }
    },
    {
      "cell_type": "code",
      "execution_count": 54,
      "source": [
        "# Convert tensors to NumPy arrays\n",
        "X_train = X_train.numpy()\n",
        "y_train = y_train.numpy()\n",
        "X_val = X_val.numpy()\n",
        "y_val = y_val.numpy()\n",
        "X_test = X_test.numpy()\n",
        "y_test = y_test.numpy()"
      ],
      "outputs": [],
      "metadata": {
        "id": "BFH0tHlZaoaS"
      }
    },
    {
      "cell_type": "code",
      "execution_count": 55,
      "source": [
        "# Initialize random weights\n",
        "W1 = 0.01 * np.random.randn(INPUT_DIM, HIDDEN_DIM)\n",
        "b1 = np.zeros((1, HIDDEN_DIM))\n",
        "W2 = 0.01 * np.random.randn(HIDDEN_DIM, NUM_CLASSES)\n",
        "b2 = np.zeros((1, NUM_CLASSES))\n",
        "\n",
        "# Training loop\n",
        "for epoch_num in range(1000):\n",
        "\n",
        "    # First layer forward pass [NX2] · [2X100] = [NX100]\n",
        "    z1 = np.dot(X_train, W1) + b1\n",
        "\n",
        "    # Apply activation function\n",
        "    a1 = np.maximum(0, z1) # ReLU\n",
        "\n",
        "    # z2 = logits = [NX100] · [100X3] = [NX3]\n",
        "    logits = np.dot(a1, W2) + b2\n",
        "    \n",
        "    # Normalization via softmax to obtain class probabilities\n",
        "    exp_logits = np.exp(logits)\n",
        "    y_hat = exp_logits / np.sum(exp_logits, axis=1, keepdims=True)\n",
        "\n",
        "    # Loss\n",
        "    correct_class_logprobs = -np.log(y_hat[range(len(y_hat)), y_train])\n",
        "    loss = np.sum(correct_class_logprobs) / len(y_train)\n",
        "\n",
        "    # show progress\n",
        "    if epoch_num%100 == 0:\n",
        "        # Accuracy\n",
        "        y_pred = np.argmax(logits, axis=1)\n",
        "        accuracy =  np.mean(np.equal(y_train, y_pred))\n",
        "        print (f\"Epoch: {epoch_num}, loss: {loss:.3f}, accuracy: {accuracy:.3f}\")\n",
        "\n",
        "    # dJ/dW2\n",
        "    dscores = y_hat\n",
        "    dscores[range(len(y_hat)), y_train] -= 1\n",
        "    dscores /= len(y_train)\n",
        "    dW2 = np.dot(a1.T, dscores)\n",
        "    db2 = np.sum(dscores, axis=0, keepdims=True)\n",
        "\n",
        "    # dJ/dW1\n",
        "    dhidden = np.dot(dscores, W2.T)\n",
        "    dhidden[a1 <= 0] = 0 # ReLu backprop\n",
        "    dW1 = np.dot(X_train.T, dhidden)\n",
        "    db1 = np.sum(dhidden, axis=0, keepdims=True)\n",
        "\n",
        "    # Update weights\n",
        "    W1 += -1e0 * dW1\n",
        "    b1 += -1e0 * db1\n",
        "    W2 += -1e0 * dW2\n",
        "    b2 += -1e0 * db2"
      ],
      "outputs": [
        {
          "output_type": "stream",
          "name": "stdout",
          "text": [
            "Epoch: 0, loss: 1.099, accuracy: 0.349\n",
            "Epoch: 100, loss: 0.545, accuracy: 0.687\n",
            "Epoch: 200, loss: 0.247, accuracy: 0.903\n",
            "Epoch: 300, loss: 0.142, accuracy: 0.949\n",
            "Epoch: 400, loss: 0.099, accuracy: 0.974\n",
            "Epoch: 500, loss: 0.076, accuracy: 0.986\n",
            "Epoch: 600, loss: 0.062, accuracy: 0.990\n",
            "Epoch: 700, loss: 0.052, accuracy: 0.994\n",
            "Epoch: 800, loss: 0.046, accuracy: 0.995\n",
            "Epoch: 900, loss: 0.041, accuracy: 0.995\n"
          ]
        }
      ],
      "metadata": {
        "id": "ScHz7h6OxGU_",
        "colab": {
          "base_uri": "https://localhost:8080/"
        },
        "outputId": "9e6b1512-1c3c-4a11-8bc6-1cc8ab8891b9"
      }
    },
    {
      "cell_type": "markdown",
      "source": [
        "## Evaluation"
      ],
      "metadata": {
        "id": "5Ds6s29xiDgx"
      }
    },
    {
      "cell_type": "code",
      "execution_count": 56,
      "source": [
        "class MLPFromScratch():\n",
        "    def predict(self, x):\n",
        "        z1 = np.dot(x, W1) + b1\n",
        "        a1 = np.maximum(0, z1)\n",
        "        logits = np.dot(a1, W2) + b2\n",
        "        exp_logits = np.exp(logits)\n",
        "        y_hat = exp_logits / np.sum(exp_logits, axis=1, keepdims=True)\n",
        "        return y_hat"
      ],
      "outputs": [],
      "metadata": {
        "id": "2hDGiO6Ng8CI"
      }
    },
    {
      "cell_type": "code",
      "execution_count": 57,
      "source": [
        "# Evaluation\n",
        "model = MLPFromScratch()\n",
        "y_prob = model.predict(X_test)\n",
        "y_pred = np.argmax(y_prob, axis=1)"
      ],
      "outputs": [],
      "metadata": {
        "id": "Dv5Y3-1ibuPM"
      }
    },
    {
      "cell_type": "code",
      "execution_count": 58,
      "source": [
        "# Performance report\n",
        "performance = get_performance(y_true=y_test, y_pred=y_pred, classes=classes)\n",
        "print (json.dumps(performance, indent=2))"
      ],
      "outputs": [
        {
          "output_type": "stream",
          "name": "stdout",
          "text": [
            "{\n",
            "  \"overall\": {\n",
            "    \"precision\": 0.9956140350877192,\n",
            "    \"recall\": 0.9955555555555555,\n",
            "    \"f1\": 0.9955553580159118,\n",
            "    \"num_samples\": 225.0\n",
            "  },\n",
            "  \"class\": {\n",
            "    \"c1\": {\n",
            "      \"precision\": 1.0,\n",
            "      \"recall\": 0.9866666666666667,\n",
            "      \"f1\": 0.9932885906040269,\n",
            "      \"num_samples\": 75.0\n",
            "    },\n",
            "    \"c2\": {\n",
            "      \"precision\": 1.0,\n",
            "      \"recall\": 1.0,\n",
            "      \"f1\": 1.0,\n",
            "      \"num_samples\": 75.0\n",
            "    },\n",
            "    \"c3\": {\n",
            "      \"precision\": 0.9868421052631579,\n",
            "      \"recall\": 1.0,\n",
            "      \"f1\": 0.9933774834437086,\n",
            "      \"num_samples\": 75.0\n",
            "    }\n",
            "  }\n",
            "}\n"
          ]
        }
      ],
      "metadata": {
        "id": "XfmYidNSgkcv",
        "colab": {
          "base_uri": "https://localhost:8080/"
        },
        "outputId": "28351ad8-b996-4456-ec5d-996b7460491e"
      }
    },
    {
      "cell_type": "code",
      "execution_count": 59,
      "source": [
        "def plot_multiclass_decision_boundary_numpy(model, X, y, savefig_fp=None):\n",
        "    \"\"\"Plot the multiclass decision boundary for a model that accepts 2D inputs.\n",
        "    Credit: https://cs231n.github.io/neural-networks-case-study/\n",
        "\n",
        "    Arguments:\n",
        "        model {function} -- trained model with function model.predict(x_in).\n",
        "        X {numpy.ndarray} -- 2D inputs with shape (N, 2).\n",
        "        y {numpy.ndarray} -- 1D outputs with shape (N,).\n",
        "    \"\"\"\n",
        "    # Axis boundaries\n",
        "    x_min, x_max = X[:, 0].min() - 0.1, X[:, 0].max() + 0.1\n",
        "    y_min, y_max = X[:, 1].min() - 0.1, X[:, 1].max() + 0.1\n",
        "    xx, yy = np.meshgrid(np.linspace(x_min, x_max, 101),\n",
        "                         np.linspace(y_min, y_max, 101))\n",
        "\n",
        "    # Create predictions\n",
        "    x_in = np.c_[xx.ravel(), yy.ravel()]\n",
        "    y_pred = model.predict(x_in)\n",
        "    y_pred = np.argmax(y_pred, axis=1).reshape(xx.shape)\n",
        "\n",
        "    # Plot decision boundary\n",
        "    plt.contourf(xx, yy, y_pred, cmap=plt.cm.Spectral, alpha=0.8)\n",
        "    plt.scatter(X[:, 0], X[:, 1], c=y, s=40, cmap=plt.cm.RdYlBu)\n",
        "    plt.xlim(xx.min(), xx.max())\n",
        "    plt.ylim(yy.min(), yy.max())\n",
        "\n",
        "    # Plot\n",
        "    if savefig_fp:\n",
        "        plt.savefig(savefig_fp, format=\"png\")"
      ],
      "outputs": [],
      "metadata": {
        "id": "gesG_0FIdRom"
      }
    },
    {
      "cell_type": "code",
      "execution_count": 60,
      "source": [
        "# Visualize the decision boundary\n",
        "plt.figure(figsize=(12,5))\n",
        "plt.subplot(1, 2, 1)\n",
        "plt.title(\"Train\")\n",
        "plot_multiclass_decision_boundary_numpy(model=model, X=X_train, y=y_train)\n",
        "plt.subplot(1, 2, 2)\n",
        "plt.title(\"Test\")\n",
        "plot_multiclass_decision_boundary_numpy(model=model, X=X_test, y=y_test)\n",
        "plt.show()"
      ],
      "outputs": [
        {
          "output_type": "display_data",
          "data": {
            "image/png": "[encoded data removed]",
            "text/plain": [
              "<Figure size 864x360 with 2 Axes>"
            ]
          },
          "metadata": {
            "needs_background": "light"
          }
        }
      ],
      "metadata": {
        "id": "I5pDl4hdgkaE",
        "colab": {
          "base_uri": "https://localhost:8080/",
          "height": 336
        },
        "outputId": "c8171f26-7f2a-4cdd-c80d-e888d4cc1c0d"
      }
    },
    {
      "cell_type": "markdown",
      "source": [
        "# PyTorch"
      ],
      "metadata": {
        "id": "br_O_NUCjkwm"
      }
    },
    {
      "cell_type": "markdown",
      "source": [
        "## Model"
      ],
      "metadata": {
        "id": "kNwK9qm6FpVm"
      }
    },
    {
      "cell_type": "markdown",
      "source": [
        "We'll be using two linear layers along with PyTorch [Functional](https://pytorch.org/docs/stable/nn.functional.html) API's [ReLU](https://pytorch.org/docs/stable/nn.functional.html#torch.nn.functional.relu) operation. "
      ],
      "metadata": {
        "id": "ZZP6Tp6qY6m2"
      }
    },
    {
      "cell_type": "code",
      "execution_count": 61,
      "source": [
        "class MLP(nn.Module):\n",
        "    def __init__(self, input_dim, hidden_dim, num_classes):\n",
        "        super(MLP, self).__init__()\n",
        "        self.fc1 = nn.Linear(input_dim, hidden_dim)\n",
        "        self.fc2 = nn.Linear(hidden_dim, num_classes)\n",
        "        \n",
        "    def forward(self, x_in, apply_softmax=False):\n",
        "        z = F.relu(self.fc1(x_in)) # ReLU activaton function added!\n",
        "        y_pred = self.fc2(z)\n",
        "        if apply_softmax:\n",
        "            y_pred = F.softmax(y_pred, dim=1) \n",
        "        return y_pred"
      ],
      "outputs": [],
      "metadata": {
        "id": "YtZvQVVpvl5p"
      }
    },
    {
      "cell_type": "code",
      "execution_count": 62,
      "source": [
        "# Initialize model\n",
        "model = MLP(input_dim=INPUT_DIM, hidden_dim=HIDDEN_DIM, num_classes=NUM_CLASSES)\n",
        "print (model.named_parameters)"
      ],
      "outputs": [
        {
          "output_type": "stream",
          "name": "stdout",
          "text": [
            "<bound method Module.named_parameters of MLP(\n",
            "  (fc1): Linear(in_features=2, out_features=100, bias=True)\n",
            "  (fc2): Linear(in_features=100, out_features=3, bias=True)\n",
            ")>\n"
          ]
        }
      ],
      "metadata": {
        "id": "NwnvrAUGFrZW",
        "colab": {
          "base_uri": "https://localhost:8080/"
        },
        "outputId": "3188f490-5852-4e2d-abe9-5141e639f9f4"
      }
    },
    {
      "cell_type": "markdown",
      "source": [
        "## Training"
      ],
      "metadata": {
        "id": "o942ZstYFtHm"
      }
    },
    {
      "cell_type": "code",
      "execution_count": 63,
      "source": [
        "# Define Loss\n",
        "class_weights_tensor = torch.Tensor(list(class_weights.values()))\n",
        "loss_fn = nn.CrossEntropyLoss(weight=class_weights_tensor)"
      ],
      "outputs": [],
      "metadata": {
        "id": "K5fIv-0sbpJ8"
      }
    },
    {
      "cell_type": "code",
      "execution_count": 64,
      "source": [
        "# Accuracy\n",
        "def accuracy_fn(y_pred, y_true):\n",
        "    n_correct = torch.eq(y_pred, y_true).sum().item()\n",
        "    accuracy = (n_correct / len(y_pred)) * 100\n",
        "    return accuracy"
      ],
      "outputs": [],
      "metadata": {
        "id": "TN0Jh_drczUh"
      }
    },
    {
      "cell_type": "code",
      "execution_count": 65,
      "source": [
        "# Optimizer\n",
        "optimizer = Adam(model.parameters(), lr=LEARNING_RATE) "
      ],
      "outputs": [],
      "metadata": {
        "id": "nmeU45XF0O-U"
      }
    },
    {
      "cell_type": "code",
      "execution_count": 66,
      "source": [
        "# Convert data to tensors\n",
        "X_train = torch.Tensor(X_train)\n",
        "y_train = torch.LongTensor(y_train)\n",
        "X_val = torch.Tensor(X_val)\n",
        "y_val = torch.LongTensor(y_val)\n",
        "X_test = torch.Tensor(X_test)\n",
        "y_test = torch.LongTensor(y_test)"
      ],
      "outputs": [],
      "metadata": {
        "id": "SHKHbn4xFwjl"
      }
    },
    {
      "cell_type": "code",
      "execution_count": 67,
      "source": [
        "# Training\n",
        "for epoch in range(NUM_EPOCHS*10):\n",
        "    # Forward pass\n",
        "    y_pred = model(X_train)\n",
        "\n",
        "    # Loss\n",
        "    loss = loss_fn(y_pred, y_train)\n",
        "\n",
        "    # Zero all gradients\n",
        "    optimizer.zero_grad()\n",
        "\n",
        "    # Backward pass\n",
        "    loss.backward()\n",
        "\n",
        "    # Update weights\n",
        "    optimizer.step()\n",
        "\n",
        "    if epoch%10==0: \n",
        "        predictions = y_pred.max(dim=1)[1] # class\n",
        "        accuracy = accuracy_fn(y_pred=predictions, y_true=y_train)\n",
        "        print (f\"Epoch: {epoch} | loss: {loss:.2f}, accuracy: {accuracy:.1f}\")"
      ],
      "outputs": [
        {
          "output_type": "stream",
          "name": "stdout",
          "text": [
            "Epoch: 0 | loss: 1.11, accuracy: 24.3\n",
            "Epoch: 10 | loss: 0.67, accuracy: 55.4\n",
            "Epoch: 20 | loss: 0.51, accuracy: 70.6\n",
            "Epoch: 30 | loss: 0.39, accuracy: 88.5\n",
            "Epoch: 40 | loss: 0.29, accuracy: 90.3\n",
            "Epoch: 50 | loss: 0.22, accuracy: 93.4\n",
            "Epoch: 60 | loss: 0.18, accuracy: 94.7\n",
            "Epoch: 70 | loss: 0.15, accuracy: 95.9\n",
            "Epoch: 80 | loss: 0.12, accuracy: 97.3\n",
            "Epoch: 90 | loss: 0.11, accuracy: 97.7\n"
          ]
        }
      ],
      "metadata": {
        "id": "SJc5obfebwEp",
        "colab": {
          "base_uri": "https://localhost:8080/"
        },
        "outputId": "91a576f4-fd38-42a7-828d-3b47be7627e1"
      }
    },
    {
      "cell_type": "markdown",
      "source": [
        "## Evaluation"
      ],
      "metadata": {
        "id": "10HGpWGTF4oR"
      }
    },
    {
      "cell_type": "code",
      "execution_count": 68,
      "source": [
        "# Predictions\n",
        "y_prob = model(X_test, apply_softmax=True)\n",
        "y_pred = y_prob.max(dim=1)[1]"
      ],
      "outputs": [],
      "metadata": {
        "id": "Y4tI2iZ1vl8e"
      }
    },
    {
      "cell_type": "code",
      "execution_count": 69,
      "source": [
        "# Performance report\n",
        "performance = get_performance(y_true=y_test, y_pred=y_pred, classes=classes)\n",
        "print (json.dumps(performance, indent=2))"
      ],
      "outputs": [
        {
          "output_type": "stream",
          "name": "stdout",
          "text": [
            "{\n",
            "  \"overall\": {\n",
            "    \"precision\": 0.9913419913419913,\n",
            "    \"recall\": 0.9911111111111112,\n",
            "    \"f1\": 0.9911095305832148,\n",
            "    \"num_samples\": 225.0\n",
            "  },\n",
            "  \"class\": {\n",
            "    \"c1\": {\n",
            "      \"precision\": 1.0,\n",
            "      \"recall\": 0.9733333333333334,\n",
            "      \"f1\": 0.9864864864864865,\n",
            "      \"num_samples\": 75.0\n",
            "    },\n",
            "    \"c2\": {\n",
            "      \"precision\": 1.0,\n",
            "      \"recall\": 1.0,\n",
            "      \"f1\": 1.0,\n",
            "      \"num_samples\": 75.0\n",
            "    },\n",
            "    \"c3\": {\n",
            "      \"precision\": 0.974025974025974,\n",
            "      \"recall\": 1.0,\n",
            "      \"f1\": 0.9868421052631579,\n",
            "      \"num_samples\": 75.0\n",
            "    }\n",
            "  }\n",
            "}\n"
          ]
        }
      ],
      "metadata": {
        "colab": {
          "base_uri": "https://localhost:8080/"
        },
        "id": "AztBDtaziBQZ",
        "outputId": "27cbf999-2cd2-4422-f4cb-e43f8ef359a3"
      }
    },
    {
      "cell_type": "code",
      "execution_count": 70,
      "source": [
        "# Visualize the decision boundary\n",
        "plt.figure(figsize=(12,5))\n",
        "plt.subplot(1, 2, 1)\n",
        "plt.title(\"Train\")\n",
        "plot_multiclass_decision_boundary(model=model, X=X_train, y=y_train)\n",
        "plt.subplot(1, 2, 2)\n",
        "plt.title(\"Test\")\n",
        "plot_multiclass_decision_boundary(model=model, X=X_test, y=y_test)\n",
        "plt.show()"
      ],
      "outputs": [
        {
          "output_type": "display_data",
          "data": {
            "image/png": "[encoded data removed]",
            "text/plain": [
              "<Figure size 864x360 with 2 Axes>"
            ]
          },
          "metadata": {
            "needs_background": "light"
          }
        }
      ],
      "metadata": {
        "id": "Xj7cwzZ4NoVI",
        "colab": {
          "base_uri": "https://localhost:8080/",
          "height": 336
        },
        "outputId": "a6c52d87-6612-4520-8630-79bbded3ac36"
      }
    },
    {
      "cell_type": "markdown",
      "source": [
        "## Inference"
      ],
      "metadata": {
        "id": "6Cv3ev9Uo1Ii"
      }
    },
    {
      "cell_type": "code",
      "execution_count": 72,
      "source": [
        "# Inputs for inference\n",
        "X_infer = pd.DataFrame([{\"X1\": 0.1, \"X2\": 0.1}])\n",
        "X_infer.head()"
      ],
      "outputs": [
        {
          "output_type": "execute_result",
          "data": {
            "text/html": [
              "\n",
              "  <div id=\"df-91c618da-9502-49e3-8c4f-28ed8a31cb84\">\n",
              "    <div class=\"colab-df-container\">\n",
              "      <div>\n",
              "<style scoped>\n",
              "    .dataframe tbody tr th:only-of-type {\n",
              "        vertical-align: middle;\n",
              "    }\n",
              "\n",
              "    .dataframe tbody tr th {\n",
              "        vertical-align: top;\n",
              "    }\n",
              "\n",
              "    .dataframe thead th {\n",
              "        text-align: right;\n",
              "    }\n",
              "</style>\n",
              "<table border=\"1\" class=\"dataframe\">\n",
              "  <thead>\n",
              "    <tr style=\"text-align: right;\">\n",
              "      <th></th>\n",
              "      <th>X1</th>\n",
              "      <th>X2</th>\n",
              "    </tr>\n",
              "  </thead>\n",
              "  <tbody>\n",
              "    <tr>\n",
              "      <th>0</th>\n",
              "      <td>0.1</td>\n",
              "      <td>0.1</td>\n",
              "    </tr>\n",
              "  </tbody>\n",
              "</table>\n",
              "</div>\n",
              "      <button class=\"colab-df-convert\" onclick=\"convertToInteractive('df-91c618da-9502-49e3-8c4f-28ed8a31cb84')\"\n",
              "              title=\"Convert this dataframe to an interactive table.\"\n",
              "              style=\"display:none;\">\n",
              "        \n",
              "  <svg xmlns=\"http://www.w3.org/2000/svg\" height=\"24px\"viewBox=\"0 0 24 24\"\n",
              "       width=\"24px\">\n",
              "    <path d=\"M0 0h24v24H0V0z\" fill=\"none\"/>\n",
              "    <path d=\"M18.56 5.44l.94 2.06.94-2.06 2.06-.94-2.06-.94-.94-2.06-.94 2.06-2.06.94zm-11 1L8.5 8.5l.94-2.06 2.06-.94-2.06-.94L8.5 2.5l-.94 2.06-2.06.94zm10 10l.94 2.06.94-2.06 2.06-.94-2.06-.94-.94-2.06-.94 2.06-2.06.94z\"/><path d=\"M17.41 7.96l-1.37-1.37c-.4-.4-.92-.59-1.43-.59-.52 0-1.04.2-1.43.59L10.3 9.45l-7.72 7.72c-.78.78-.78 2.05 0 2.83L4 21.41c.39.39.9.59 1.41.59.51 0 1.02-.2 1.41-.59l7.78-7.78 2.81-2.81c.8-.78.8-2.07 0-2.86zM5.41 20L4 18.59l7.72-7.72 1.47 1.35L5.41 20z\"/>\n",
              "  </svg>\n",
              "      </button>\n",
              "      \n",
              "  <style>\n",
              "    .colab-df-container {\n",
              "      display:flex;\n",
              "      flex-wrap:wrap;\n",
              "      gap: 12px;\n",
              "    }\n",
              "\n",
              "    .colab-df-convert {\n",
              "      background-color: #E8F0FE;\n",
              "      border: none;\n",
              "      border-radius: 50%;\n",
              "      cursor: pointer;\n",
              "      display: none;\n",
              "      fill: #1967D2;\n",
              "      height: 32px;\n",
              "      padding: 0 0 0 0;\n",
              "      width: 32px;\n",
              "    }\n",
              "\n",
              "    .colab-df-convert:hover {\n",
              "      background-color: #E2EBFA;\n",
              "      box-shadow: 0px 1px 2px rgba(60, 64, 67, 0.3), 0px 1px 3px 1px rgba(60, 64, 67, 0.15);\n",
              "      fill: #174EA6;\n",
              "    }\n",
              "\n",
              "    [theme=dark] .colab-df-convert {\n",
              "      background-color: #3B4455;\n",
              "      fill: #D2E3FC;\n",
              "    }\n",
              "\n",
              "    [theme=dark] .colab-df-convert:hover {\n",
              "      background-color: #434B5C;\n",
              "      box-shadow: 0px 1px 3px 1px rgba(0, 0, 0, 0.15);\n",
              "      filter: drop-shadow(0px 1px 2px rgba(0, 0, 0, 0.3));\n",
              "      fill: #FFFFFF;\n",
              "    }\n",
              "  </style>\n",
              "\n",
              "      <script>\n",
              "        const buttonEl =\n",
              "          document.querySelector('#df-91c618da-9502-49e3-8c4f-28ed8a31cb84 button.colab-df-convert');\n",
              "        buttonEl.style.display =\n",
              "          google.colab.kernel.accessAllowed ? 'block' : 'none';\n",
              "\n",
              "        async function convertToInteractive(key) {\n",
              "          const element = document.querySelector('#df-91c618da-9502-49e3-8c4f-28ed8a31cb84');\n",
              "          const dataTable =\n",
              "            await google.colab.kernel.invokeFunction('convertToInteractive',\n",
              "                                                     [key], {});\n",
              "          if (!dataTable) return;\n",
              "\n",
              "          const docLinkHtml = 'Like what you see? Visit the ' +\n",
              "            '<a target=\"_blank\" href=https://colab.research.google.com/notebooks/data_table.ipynb>data table notebook</a>'\n",
              "            + ' to learn more about interactive tables.';\n",
              "          element.innerHTML = '';\n",
              "          dataTable['output_type'] = 'display_data';\n",
              "          await google.colab.output.renderOutput(dataTable, element);\n",
              "          const docLink = document.createElement('div');\n",
              "          docLink.innerHTML = docLinkHtml;\n",
              "          element.appendChild(docLink);\n",
              "        }\n",
              "      </script>\n",
              "    </div>\n",
              "  </div>\n",
              "  "
            ],
            "text/plain": [
              "    X1   X2\n",
              "0  0.1  0.1"
            ]
          },
          "metadata": {},
          "execution_count": 72
        }
      ],
      "metadata": {
        "id": "h25pUbR8o9eF",
        "colab": {
          "base_uri": "https://localhost:8080/",
          "height": 80
        },
        "outputId": "393d5f13-b74a-45b3-e4b3-d46120f9991e"
      }
    },
    {
      "cell_type": "code",
      "execution_count": 73,
      "source": [
        "# Standardize\n",
        "X_infer = X_scaler.transform(X_infer)\n",
        "print (X_infer)"
      ],
      "outputs": [
        {
          "output_type": "stream",
          "name": "stdout",
          "text": [
            "[[0.29906749 0.30544029]]\n"
          ]
        },
        {
          "output_type": "stream",
          "name": "stderr",
          "text": [
            "/usr/local/lib/python3.7/dist-packages/sklearn/base.py:444: UserWarning: X has feature names, but StandardScaler was fitted without feature names\n",
            "  f\"X has feature names, but {self.__class__.__name__} was fitted without\"\n"
          ]
        }
      ],
      "metadata": {
        "id": "8G5lIYReo9l_",
        "colab": {
          "base_uri": "https://localhost:8080/"
        },
        "outputId": "545c4c5b-c934-4f26-854a-0ad02ce5f3a7"
      }
    },
    {
      "cell_type": "code",
      "execution_count": 74,
      "source": [
        "# Predict\n",
        "y_infer = model(torch.Tensor(X_infer), apply_softmax=True)\n",
        "prob, _class = y_infer.max(dim=1)\n",
        "label = label_encoder.inverse_transform(_class.detach().numpy())[0]\n",
        "print (f\"The probability that you have {label} is {prob.detach().numpy()[0]*100.0:.0f}%\")"
      ],
      "outputs": [
        {
          "output_type": "stream",
          "name": "stdout",
          "text": [
            "The probability that you have c1 is 92%\n"
          ]
        }
      ],
      "metadata": {
        "id": "Uow5g2-1o9kF",
        "colab": {
          "base_uri": "https://localhost:8080/"
        },
        "outputId": "b6793a79-3022-475d-f54d-a1666ebadf56"
      }
    },
    {
      "cell_type": "markdown",
      "source": [
        "# Initializing weights"
      ],
      "metadata": {
        "id": "gWv-RU46k2UL"
      }
    },
    {
      "cell_type": "markdown",
      "source": [
        "So far we have been initializing weights with small random values and this isn't optimal for convergence during training. The objective is to have weights that are able to produce outputs that follow a similar distribution across all neurons. We can do this by enforcing weights to have unit variance prior the affine and non-linear operations."
      ],
      "metadata": {
        "id": "1hDPBE0sk2mJ"
      }
    },
    {
      "cell_type": "markdown",
      "source": [
        "> A popular method is to apply [xavier initialization](http://andyljones.tumblr.com/post/110998971763/an-explanation-of-xavier-initialization), which essentially initializes the weights to allow the signal from the data to reach deep into the network. You may be wondering why we don't do this for every forward pass and that's a great question. We'll look at more advanced strategies that help with optimization like batch/layer normalization, etc. in future lessons. Meanwhile you can check out other initializers [here](https://pytorch.org/docs/stable/nn.init.html)."
      ],
      "metadata": {
        "id": "YxCm7FyRFRWK"
      }
    },
    {
      "cell_type": "code",
      "execution_count": 75,
      "source": [
        "from torch.nn import init"
      ],
      "outputs": [],
      "metadata": {
        "id": "Dj7apAxufge7"
      }
    },
    {
      "cell_type": "code",
      "execution_count": 76,
      "source": [
        "class MLP(nn.Module):\n",
        "    def __init__(self, input_dim, hidden_dim, num_classes):\n",
        "        super(MLP, self).__init__()\n",
        "        self.fc1 = nn.Linear(input_dim, hidden_dim)\n",
        "        self.fc2 = nn.Linear(hidden_dim, num_classes)\n",
        "\n",
        "    def init_weights(self):\n",
        "        init.xavier_normal(self.fc1.weight, gain=init.calculate_gain(\"relu\")) \n",
        "        \n",
        "    def forward(self, x_in, apply_softmax=False):\n",
        "        z = F.relu(self.fc1(x_in)) # ReLU activaton function added!\n",
        "        y_pred = self.fc2(z)\n",
        "        if apply_softmax:\n",
        "            y_pred = F.softmax(y_pred, dim=1) \n",
        "        return y_pred"
      ],
      "outputs": [],
      "metadata": {
        "id": "U5lUR__TKvqA"
      }
    },
    {
      "cell_type": "markdown",
      "source": [
        "# Dropout"
      ],
      "metadata": {
        "id": "FAyjh3bieLjn"
      }
    },
    {
      "cell_type": "markdown",
      "source": [
        "A great technique to have our models generalize (perform well on test data) is to increase the size of your data but this isn't always an option. Fortuntely, there are methods like regularization and dropout that can help create a more robust model. \n",
        "\n",
        "Dropout is a technique (used only during training) that allows us to zero the outputs of neurons. We do this for `dropout_p`% of the total neurons in each layer and it changes every batch. Dropout prevents units from co-adapting too much to the data and acts as a sampling strategy since we drop a different set of neurons each time.\n",
        "\n",
        "<div align=\"left\">\n",
        "<img src=\"https://raw.githubusercontent.com/GokuMohandas/MadeWithML/main/images/foundations/neural-networks/dropout.png\" width=\"350\">\n",
        "</div>\n",
        "\n",
        "* [Dropout: A Simple Way to Prevent Neural Networks from\n",
        "Overfitting](http://jmlr.org/papers/volume15/srivastava14a/srivastava14a.pdf)"
      ],
      "metadata": {
        "id": "z6kLwcBveLy5"
      }
    },
    {
      "cell_type": "code",
      "execution_count": 77,
      "source": [
        "DROPOUT_P = 0.1 # % of the neurons that are dropped each pass"
      ],
      "outputs": [],
      "metadata": {
        "id": "g1E2bDj2HKpb"
      }
    },
    {
      "cell_type": "code",
      "execution_count": 78,
      "source": [
        "class MLP(nn.Module):\n",
        "    def __init__(self, input_dim, hidden_dim, dropout_p, num_classes):\n",
        "        super(MLP, self).__init__()\n",
        "        self.fc1 = nn.Linear(input_dim, hidden_dim)\n",
        "        self.dropout = nn.Dropout(dropout_p) # dropout\n",
        "        self.fc2 = nn.Linear(hidden_dim, num_classes)\n",
        "\n",
        "    def init_weights(self):\n",
        "        init.xavier_normal(self.fc1.weight, gain=init.calculate_gain(\"relu\")) \n",
        "        \n",
        "    def forward(self, x_in, apply_softmax=False):\n",
        "        z = F.relu(self.fc1(x_in)) \n",
        "        z = self.dropout(z) # dropout\n",
        "        y_pred = self.fc2(z)\n",
        "        if apply_softmax:\n",
        "            y_pred = F.softmax(y_pred, dim=1) \n",
        "        return y_pred"
      ],
      "outputs": [],
      "metadata": {
        "id": "DS26SgeFgvG1"
      }
    },
    {
      "cell_type": "code",
      "execution_count": 79,
      "source": [
        "# Initialize model\n",
        "model = MLP(input_dim=INPUT_DIM, hidden_dim=HIDDEN_DIM, \n",
        "            dropout_p=DROPOUT_P, num_classes=NUM_CLASSES)\n",
        "print (model.named_parameters)"
      ],
      "outputs": [
        {
          "output_type": "stream",
          "name": "stdout",
          "text": [
            "<bound method Module.named_parameters of MLP(\n",
            "  (fc1): Linear(in_features=2, out_features=100, bias=True)\n",
            "  (dropout): Dropout(p=0.1, inplace=False)\n",
            "  (fc2): Linear(in_features=100, out_features=3, bias=True)\n",
            ")>\n"
          ]
        }
      ],
      "metadata": {
        "id": "1he_g3eJgvOk",
        "colab": {
          "base_uri": "https://localhost:8080/"
        },
        "outputId": "add42572-6408-432e-e027-3a5bd84e1c78"
      }
    },
    {
      "cell_type": "markdown",
      "source": [
        "# Overfitting"
      ],
      "metadata": {
        "id": "9ijvHwcZg8mO"
      }
    },
    {
      "cell_type": "markdown",
      "source": [
        "Though neural networks are great at capturing non-linear relationships they are highly susceptible to overfitting to the training data and failing to generalize on test data. Just take a look at the example below where we generate completely random data and are able to fit a model with [$2*N*C + D$](https://arxiv.org/abs/1611.03530) hidden units. The training performance is good (~70%) but the overfitting leads to very poor test performance. We'll be covering strategies to tackle overfitting in future lessons."
      ],
      "metadata": {
        "id": "FIhvdD_zg8os"
      }
    },
    {
      "cell_type": "code",
      "execution_count": 80,
      "source": [
        "NUM_EPOCHS = 500\n",
        "NUM_SAMPLES_PER_CLASS = 50\n",
        "LEARNING_RATE = 1e-1\n",
        "HIDDEN_DIM = 2 * NUM_SAMPLES_PER_CLASS * NUM_CLASSES + INPUT_DIM # 2*N*C + D"
      ],
      "outputs": [],
      "metadata": {
        "id": "uRdM16NhazJP"
      }
    },
    {
      "cell_type": "code",
      "execution_count": 81,
      "source": [
        "# Generate random data\n",
        "X = np.random.rand(NUM_SAMPLES_PER_CLASS * NUM_CLASSES, INPUT_DIM)\n",
        "y = np.array([[i]*NUM_SAMPLES_PER_CLASS for i in range(NUM_CLASSES)]).reshape(-1)\n",
        "print (\"X: \", format(np.shape(X)))\n",
        "print (\"y: \", format(np.shape(y)))"
      ],
      "outputs": [
        {
          "output_type": "stream",
          "name": "stdout",
          "text": [
            "X:  (150, 2)\n",
            "y:  (150,)\n"
          ]
        }
      ],
      "metadata": {
        "id": "qf00Biq6g8ty",
        "colab": {
          "base_uri": "https://localhost:8080/"
        },
        "outputId": "be8ec16a-bd43-46fc-9834-9dd849329956"
      }
    },
    {
      "cell_type": "code",
      "execution_count": 82,
      "source": [
        "# Create data splits\n",
        "X_train, X_val, X_test, y_train, y_val, y_test = train_val_test_split(\n",
        "    X=X, y=y, train_size=TRAIN_SIZE)\n",
        "print (f\"X_train: {X_train.shape}, y_train: {y_train.shape}\")\n",
        "print (f\"X_val: {X_val.shape}, y_val: {y_val.shape}\")\n",
        "print (f\"X_test: {X_test.shape}, y_test: {y_test.shape}\")\n",
        "print (f\"Sample point: {X_train[0]} → {y_train[0]}\")"
      ],
      "outputs": [
        {
          "output_type": "stream",
          "name": "stdout",
          "text": [
            "X_train: (105, 2), y_train: (105,)\n",
            "X_val: (22, 2), y_val: (22,)\n",
            "X_test: (23, 2), y_test: (23,)\n",
            "Sample point: [0.52553355 0.33956916] → 0\n"
          ]
        }
      ],
      "metadata": {
        "id": "-bA9vK9SWkjh",
        "colab": {
          "base_uri": "https://localhost:8080/"
        },
        "outputId": "02a650d8-23d5-4d5a-b390-84ab54d07717"
      }
    },
    {
      "cell_type": "code",
      "execution_count": 83,
      "source": [
        "# Standardize the inputs (mean=0, std=1) using training data\n",
        "X_scaler = StandardScaler().fit(X_train)\n",
        "X_train = X_scaler.transform(X_train)\n",
        "X_val = X_scaler.transform(X_val)\n",
        "X_test = X_scaler.transform(X_test)"
      ],
      "outputs": [],
      "metadata": {
        "id": "lYwc9mk1f5bm"
      }
    },
    {
      "cell_type": "code",
      "execution_count": 84,
      "source": [
        "# Convert data to tensors\n",
        "X_train = torch.Tensor(X_train)\n",
        "y_train = torch.LongTensor(y_train)\n",
        "X_val = torch.Tensor(X_val)\n",
        "y_val = torch.LongTensor(y_val)\n",
        "X_test = torch.Tensor(X_test)\n",
        "y_test = torch.LongTensor(y_test)"
      ],
      "outputs": [],
      "metadata": {
        "id": "ogTctxN3gt8M"
      }
    },
    {
      "cell_type": "code",
      "execution_count": 85,
      "source": [
        "# Initialize model\n",
        "model = MLP(input_dim=INPUT_DIM, hidden_dim=HIDDEN_DIM, \n",
        "            dropout_p=DROPOUT_P, num_classes=NUM_CLASSES)\n",
        "print (model.named_parameters)"
      ],
      "outputs": [
        {
          "output_type": "stream",
          "name": "stdout",
          "text": [
            "<bound method Module.named_parameters of MLP(\n",
            "  (fc1): Linear(in_features=2, out_features=302, bias=True)\n",
            "  (dropout): Dropout(p=0.1, inplace=False)\n",
            "  (fc2): Linear(in_features=302, out_features=3, bias=True)\n",
            ")>\n"
          ]
        }
      ],
      "metadata": {
        "id": "DDUW0xVMh8v8",
        "colab": {
          "base_uri": "https://localhost:8080/"
        },
        "outputId": "9afc340f-110a-4371-8a0e-800b1f298259"
      }
    },
    {
      "cell_type": "code",
      "execution_count": 86,
      "source": [
        "# Optimizer\n",
        "optimizer = Adam(model.parameters(), lr=LEARNING_RATE) "
      ],
      "outputs": [],
      "metadata": {
        "id": "6bIiiaOmhFiN"
      }
    },
    {
      "cell_type": "code",
      "execution_count": 87,
      "source": [
        "# Training\n",
        "for epoch in range(NUM_EPOCHS):\n",
        "    # Forward pass\n",
        "    y_pred = model(X_train)\n",
        "\n",
        "    # Loss\n",
        "    loss = loss_fn(y_pred, y_train)\n",
        "\n",
        "    # Zero all gradients\n",
        "    optimizer.zero_grad()\n",
        "\n",
        "    # Backward pass\n",
        "    loss.backward()\n",
        "\n",
        "    # Update weights\n",
        "    optimizer.step()\n",
        "\n",
        "    if epoch%20==0: \n",
        "        predictions = y_pred.max(dim=1)[1] # class\n",
        "        accuracy = accuracy_fn(y_pred=predictions, y_true=y_train)\n",
        "        print (f\"Epoch: {epoch} | loss: {loss:.2f}, accuracy: {accuracy:.1f}\")"
      ],
      "outputs": [
        {
          "output_type": "stream",
          "name": "stdout",
          "text": [
            "Epoch: 0 | loss: 1.15, accuracy: 37.1\n",
            "Epoch: 20 | loss: 1.04, accuracy: 47.6\n",
            "Epoch: 40 | loss: 0.98, accuracy: 51.4\n",
            "Epoch: 60 | loss: 0.90, accuracy: 57.1\n",
            "Epoch: 80 | loss: 0.87, accuracy: 59.0\n",
            "Epoch: 100 | loss: 0.88, accuracy: 58.1\n",
            "Epoch: 120 | loss: 0.84, accuracy: 64.8\n",
            "Epoch: 140 | loss: 0.86, accuracy: 61.0\n",
            "Epoch: 160 | loss: 0.81, accuracy: 64.8\n",
            "Epoch: 180 | loss: 0.89, accuracy: 59.0\n",
            "Epoch: 200 | loss: 0.91, accuracy: 60.0\n",
            "Epoch: 220 | loss: 0.82, accuracy: 63.8\n",
            "Epoch: 240 | loss: 0.86, accuracy: 59.0\n",
            "Epoch: 260 | loss: 0.77, accuracy: 68.6\n",
            "Epoch: 280 | loss: 0.82, accuracy: 63.8\n",
            "Epoch: 300 | loss: 0.95, accuracy: 55.2\n",
            "Epoch: 320 | loss: 0.90, accuracy: 61.9\n",
            "Epoch: 340 | loss: 0.81, accuracy: 64.8\n",
            "Epoch: 360 | loss: 0.77, accuracy: 67.6\n",
            "Epoch: 380 | loss: 0.85, accuracy: 64.8\n",
            "Epoch: 400 | loss: 0.75, accuracy: 68.6\n",
            "Epoch: 420 | loss: 0.78, accuracy: 61.9\n",
            "Epoch: 440 | loss: 0.82, accuracy: 65.7\n",
            "Epoch: 460 | loss: 0.79, accuracy: 63.8\n",
            "Epoch: 480 | loss: 0.76, accuracy: 69.5\n"
          ]
        }
      ],
      "metadata": {
        "id": "zgayj4E1WksH",
        "colab": {
          "base_uri": "https://localhost:8080/"
        },
        "outputId": "afb358e6-39d8-43fe-e6eb-95d624ac8251"
      }
    },
    {
      "cell_type": "code",
      "execution_count": 88,
      "source": [
        "# Predictions\n",
        "y_prob = model(X_test, apply_softmax=True)\n",
        "y_pred = y_prob.max(dim=1)[1]"
      ],
      "outputs": [],
      "metadata": {
        "id": "8QG4bPzshN8L"
      }
    },
    {
      "cell_type": "code",
      "execution_count": 89,
      "source": [
        "# Performance report\n",
        "performance = get_performance(y_true=y_test, y_pred=y_pred, classes=classes)\n",
        "print (json.dumps(performance, indent=2))"
      ],
      "outputs": [
        {
          "output_type": "stream",
          "name": "stdout",
          "text": [
            "{\n",
            "  \"overall\": {\n",
            "    \"precision\": 0.21739130434782608,\n",
            "    \"recall\": 0.21739130434782608,\n",
            "    \"f1\": 0.21739130434782608,\n",
            "    \"num_samples\": 23.0\n",
            "  },\n",
            "  \"class\": {\n",
            "    \"c1\": {\n",
            "      \"precision\": 0.0,\n",
            "      \"recall\": 0.0,\n",
            "      \"f1\": 0.0,\n",
            "      \"num_samples\": 7.0\n",
            "    },\n",
            "    \"c2\": {\n",
            "      \"precision\": 0.25,\n",
            "      \"recall\": 0.25,\n",
            "      \"f1\": 0.25,\n",
            "      \"num_samples\": 8.0\n",
            "    },\n",
            "    \"c3\": {\n",
            "      \"precision\": 0.375,\n",
            "      \"recall\": 0.375,\n",
            "      \"f1\": 0.375,\n",
            "      \"num_samples\": 8.0\n",
            "    }\n",
            "  }\n",
            "}\n"
          ]
        }
      ],
      "metadata": {
        "colab": {
          "base_uri": "https://localhost:8080/"
        },
        "id": "CHnnmEuSjN--",
        "outputId": "789e7aaf-bd8a-44df-dc1a-e4a738340914"
      }
    },
    {
      "cell_type": "code",
      "execution_count": 90,
      "source": [
        "# Visualize the decision boundary\n",
        "plt.figure(figsize=(12,5))\n",
        "plt.subplot(1, 2, 1)\n",
        "plt.title(\"Train\")\n",
        "plot_multiclass_decision_boundary(model=model, X=X_train, y=y_train)\n",
        "plt.subplot(1, 2, 2)\n",
        "plt.title(\"Test\")\n",
        "plot_multiclass_decision_boundary(model=model, X=X_test, y=y_test)\n",
        "plt.show()"
      ],
      "outputs": [
        {
          "output_type": "display_data",
          "data": {
            "image/png": "[encoded data removed]",
            "text/plain": [
              "<Figure size 864x360 with 2 Axes>"
            ]
          },
          "metadata": {
            "needs_background": "light"
          }
        }
      ],
      "metadata": {
        "id": "rpSoAEdGWku5",
        "colab": {
          "base_uri": "https://localhost:8080/",
          "height": 336
        },
        "outputId": "d033c5f8-d2dc-4b0c-e4da-722ca756ec96"
      }
    },
    {
      "cell_type": "markdown",
      "source": [
        "It's important that we experiment, starting with simple models that underfit (high bias) and improve it towards a good fit. Starting with simple models (linear/logistic regression) let's us catch errors without the added complexity of more sophisticated models (neural networks). "
      ],
      "metadata": {
        "id": "yppKnFIL6Vv7"
      }
    },
    {
      "cell_type": "markdown",
      "source": [
        "<div align=\"left\">\n",
        "<img src=\"https://raw.githubusercontent.com/GokuMohandas/MadeWithML/main/images/foundations/neural-networks/fit.png\" width=\"700\">\n",
        "</div>"
      ],
      "metadata": {
        "id": "WC0m-lMnE4Jp"
      }
    }
  ]
}