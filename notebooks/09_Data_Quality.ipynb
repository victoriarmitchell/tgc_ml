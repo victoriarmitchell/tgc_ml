{
  "nbformat": 4,
  "nbformat_minor": 0,
  "metadata": {
    "colab": {
      "name": "09_Data_Quality",
      "provenance": [],
      "collapsed_sections": [],
      "toc_visible": true
    },
    "kernelspec": {
      "name": "python3",
      "display_name": "Python 3"
    }
  },
  "cells": [
    {
      "cell_type": "markdown",
      "source": [
        "<div align=\"center\">\n",
        "<h1><img width=\"30\" src=\"https://madewithml.com/static/images/rounded_logo.png\">&nbsp;<a href=\"https://madewithml.com/\">Made With ML</a></h1>\n",
        "Applied ML · MLOps · Production\n",
        "<br>\n",
        "Join 30K+ developers in learning how to responsibly <a href=\"https://madewithml.com/about/\">deliver value</a> with ML.\n",
        "    <br>\n",
        "</div>\n",
        "\n",
        "<br>\n",
        "\n",
        "<div align=\"center\">\n",
        "    <a target=\"_blank\" href=\"https://newsletter.madewithml.com\"><img src=\"https://img.shields.io/badge/Subscribe-30K-brightgreen\"></a>&nbsp;\n",
        "    <a target=\"_blank\" href=\"https://github.com/GokuMohandas/MadeWithML\"><img src=\"https://img.shields.io/github/stars/GokuMohandas/MadeWithML.svg?style=social&label=Star\"></a>&nbsp;\n",
        "    <a target=\"_blank\" href=\"https://www.linkedin.com/in/goku\"><img src=\"https://img.shields.io/badge/style--5eba00.svg?label=LinkedIn&logo=linkedin&style=social\"></a>&nbsp;\n",
        "    <a target=\"_blank\" href=\"https://twitter.com/GokuMohandas\"><img src=\"https://img.shields.io/twitter/follow/GokuMohandas.svg?label=Follow&style=social\"></a>\n",
        "    <br>\n",
        "    🔥&nbsp; Among the <a href=\"https://github.com/topics/deep-learning\" target=\"_blank\">top ML</a> repositories on GitHub\n",
        "</div>\n",
        "\n",
        "<br>\n",
        "<hr>"
      ],
      "metadata": {
        "id": "R8C06s763Mie"
      }
    },
    {
      "cell_type": "markdown",
      "source": [
        "# Data Quality\n",
        "In this lesson we'll introduce and illusrate the fundamental concept of data quality."
      ],
      "metadata": {
        "id": "ckRIiGksZUnw"
      }
    },
    {
      "cell_type": "markdown",
      "source": [
        "<div align=\"left\">\n",
        "<a target=\"_blank\" href=\"https://madewithml.com/courses/foundations/data-quality/\"><img src=\"https://img.shields.io/badge/📖 Read-blog post-9cf\"></a>&nbsp;\n",
        "<a href=\"https://github.com/GokuMohandas/MadeWithML/blob/main/notebooks/09_Data_Quality.ipynb\" role=\"button\"><img src=\"https://img.shields.io/static/v1?label=&amp;message=View%20On%20GitHub&amp;color=586069&amp;logo=github&amp;labelColor=2f363d\"></a>&nbsp;\n",
        "<a href=\"https://colab.research.google.com/github/GokuMohandas/MadeWithML/blob/main/notebooks/09_Data_Quality.ipynb\"><img src=\"https://colab.research.google.com/assets/colab-badge.svg\" alt=\"Open In Colab\"></a>\n",
        "</div>"
      ],
      "metadata": {
        "id": "K-BaYyztanFh"
      }
    },
    {
      "cell_type": "markdown",
      "source": [
        "In a nutshell, a machine learning model consumes input data and produces predictions. The quality of the predictions directly corresponds to the quality of data you train the model with; **garbage in, garbage out**. Check out this [article](https://venturebeat.com/2018/06/30/understanding-the-practical-applications-of-business-ai/) on where it makes sense to use AI and how to properly apply it."
      ],
      "metadata": {
        "id": "qAE9BjMH8x4q"
      }
    },
    {
      "cell_type": "markdown",
      "source": [
        "We're going to go through all the concepts with concrete code examples and some synthesized data to train our models on. The task is to determine whether a tumor will be benign (harmless) or malignant (harmful) based on leukocyte (white blood cells) count and blood pressure. This is a synthetic dataset that we created and has no clinical relevance."
      ],
      "metadata": {
        "id": "iLYQQyDzFx5c"
      }
    },
    {
      "cell_type": "markdown",
      "source": [
        "# Set up"
      ],
      "metadata": {
        "id": "FwJBLYj7HTie"
      }
    },
    {
      "cell_type": "code",
      "execution_count": 1,
      "source": [
        "import numpy as np\n",
        "import random"
      ],
      "outputs": [],
      "metadata": {
        "id": "5o1UIQh6HUih"
      }
    },
    {
      "cell_type": "code",
      "execution_count": 2,
      "source": [
        "SEED = 1234"
      ],
      "outputs": [],
      "metadata": {
        "id": "pe7s9nLDHUlN"
      }
    },
    {
      "cell_type": "code",
      "execution_count": 3,
      "source": [
        "# Set seed for reproducibility\n",
        "np.random.seed(SEED)\n",
        "random.seed(SEED)"
      ],
      "outputs": [],
      "metadata": {
        "id": "V4ax1hLXHUob"
      }
    },
    {
      "cell_type": "markdown",
      "source": [
        "# Full dataset"
      ],
      "metadata": {
        "id": "LaHVAEnzKbKl"
      }
    },
    {
      "cell_type": "markdown",
      "source": [
        "We'll first train a model with the entire dataset. Later we'll remove a subset of the dataset and see the effect it has on our model."
      ],
      "metadata": {
        "id": "1e1RSFdnKfN2"
      }
    },
    {
      "cell_type": "markdown",
      "source": [
        "## Data"
      ],
      "metadata": {
        "id": "rgbY9WkklG6T"
      }
    },
    {
      "cell_type": "markdown",
      "source": [
        "### Load data"
      ],
      "metadata": {
        "id": "FLH7kzZl8wnf"
      }
    },
    {
      "cell_type": "code",
      "execution_count": 5,
      "source": [
        "import matplotlib.pyplot as plt\n",
        "import pandas as pd\n",
        "from pandas.plotting import scatter_matrix"
      ],
      "outputs": [],
      "metadata": {
        "id": "5wDazzQdaoy2"
      }
    },
    {
      "cell_type": "code",
      "execution_count": 6,
      "source": [
        "# Load data\n",
        "url = \"https://raw.githubusercontent.com/GokuMohandas/MadeWithML/main/datasets/tumors.csv\"\n",
        "df = pd.read_csv(url, header=0) # load\n",
        "df = df.sample(frac=1).reset_index(drop=True) # shuffle\n",
        "df.head()"
      ],
      "outputs": [
        {
          "output_type": "execute_result",
          "data": {
            "text/plain": [
              "   leukocyte_count  blood_pressure tumor_class\n",
              "0        15.335860       14.637535      benign\n",
              "1         9.857535       14.518942   malignant\n",
              "2        17.632579       15.869585      benign\n",
              "3        18.369174       14.774547      benign\n",
              "4        14.509367       15.892224   malignant"
            ],
            "text/html": [
              "\n",
              "  <div id=\"df-11b30f46-2148-4d23-8758-a80c2629de67\">\n",
              "    <div class=\"colab-df-container\">\n",
              "      <div>\n",
              "<style scoped>\n",
              "    .dataframe tbody tr th:only-of-type {\n",
              "        vertical-align: middle;\n",
              "    }\n",
              "\n",
              "    .dataframe tbody tr th {\n",
              "        vertical-align: top;\n",
              "    }\n",
              "\n",
              "    .dataframe thead th {\n",
              "        text-align: right;\n",
              "    }\n",
              "</style>\n",
              "<table border=\"1\" class=\"dataframe\">\n",
              "  <thead>\n",
              "    <tr style=\"text-align: right;\">\n",
              "      <th></th>\n",
              "      <th>leukocyte_count</th>\n",
              "      <th>blood_pressure</th>\n",
              "      <th>tumor_class</th>\n",
              "    </tr>\n",
              "  </thead>\n",
              "  <tbody>\n",
              "    <tr>\n",
              "      <th>0</th>\n",
              "      <td>15.335860</td>\n",
              "      <td>14.637535</td>\n",
              "      <td>benign</td>\n",
              "    </tr>\n",
              "    <tr>\n",
              "      <th>1</th>\n",
              "      <td>9.857535</td>\n",
              "      <td>14.518942</td>\n",
              "      <td>malignant</td>\n",
              "    </tr>\n",
              "    <tr>\n",
              "      <th>2</th>\n",
              "      <td>17.632579</td>\n",
              "      <td>15.869585</td>\n",
              "      <td>benign</td>\n",
              "    </tr>\n",
              "    <tr>\n",
              "      <th>3</th>\n",
              "      <td>18.369174</td>\n",
              "      <td>14.774547</td>\n",
              "      <td>benign</td>\n",
              "    </tr>\n",
              "    <tr>\n",
              "      <th>4</th>\n",
              "      <td>14.509367</td>\n",
              "      <td>15.892224</td>\n",
              "      <td>malignant</td>\n",
              "    </tr>\n",
              "  </tbody>\n",
              "</table>\n",
              "</div>\n",
              "      <button class=\"colab-df-convert\" onclick=\"convertToInteractive('df-11b30f46-2148-4d23-8758-a80c2629de67')\"\n",
              "              title=\"Convert this dataframe to an interactive table.\"\n",
              "              style=\"display:none;\">\n",
              "        \n",
              "  <svg xmlns=\"http://www.w3.org/2000/svg\" height=\"24px\"viewBox=\"0 0 24 24\"\n",
              "       width=\"24px\">\n",
              "    <path d=\"M0 0h24v24H0V0z\" fill=\"none\"/>\n",
              "    <path d=\"M18.56 5.44l.94 2.06.94-2.06 2.06-.94-2.06-.94-.94-2.06-.94 2.06-2.06.94zm-11 1L8.5 8.5l.94-2.06 2.06-.94-2.06-.94L8.5 2.5l-.94 2.06-2.06.94zm10 10l.94 2.06.94-2.06 2.06-.94-2.06-.94-.94-2.06-.94 2.06-2.06.94z\"/><path d=\"M17.41 7.96l-1.37-1.37c-.4-.4-.92-.59-1.43-.59-.52 0-1.04.2-1.43.59L10.3 9.45l-7.72 7.72c-.78.78-.78 2.05 0 2.83L4 21.41c.39.39.9.59 1.41.59.51 0 1.02-.2 1.41-.59l7.78-7.78 2.81-2.81c.8-.78.8-2.07 0-2.86zM5.41 20L4 18.59l7.72-7.72 1.47 1.35L5.41 20z\"/>\n",
              "  </svg>\n",
              "      </button>\n",
              "      \n",
              "  <style>\n",
              "    .colab-df-container {\n",
              "      display:flex;\n",
              "      flex-wrap:wrap;\n",
              "      gap: 12px;\n",
              "    }\n",
              "\n",
              "    .colab-df-convert {\n",
              "      background-color: #E8F0FE;\n",
              "      border: none;\n",
              "      border-radius: 50%;\n",
              "      cursor: pointer;\n",
              "      display: none;\n",
              "      fill: #1967D2;\n",
              "      height: 32px;\n",
              "      padding: 0 0 0 0;\n",
              "      width: 32px;\n",
              "    }\n",
              "\n",
              "    .colab-df-convert:hover {\n",
              "      background-color: #E2EBFA;\n",
              "      box-shadow: 0px 1px 2px rgba(60, 64, 67, 0.3), 0px 1px 3px 1px rgba(60, 64, 67, 0.15);\n",
              "      fill: #174EA6;\n",
              "    }\n",
              "\n",
              "    [theme=dark] .colab-df-convert {\n",
              "      background-color: #3B4455;\n",
              "      fill: #D2E3FC;\n",
              "    }\n",
              "\n",
              "    [theme=dark] .colab-df-convert:hover {\n",
              "      background-color: #434B5C;\n",
              "      box-shadow: 0px 1px 3px 1px rgba(0, 0, 0, 0.15);\n",
              "      filter: drop-shadow(0px 1px 2px rgba(0, 0, 0, 0.3));\n",
              "      fill: #FFFFFF;\n",
              "    }\n",
              "  </style>\n",
              "\n",
              "      <script>\n",
              "        const buttonEl =\n",
              "          document.querySelector('#df-11b30f46-2148-4d23-8758-a80c2629de67 button.colab-df-convert');\n",
              "        buttonEl.style.display =\n",
              "          google.colab.kernel.accessAllowed ? 'block' : 'none';\n",
              "\n",
              "        async function convertToInteractive(key) {\n",
              "          const element = document.querySelector('#df-11b30f46-2148-4d23-8758-a80c2629de67');\n",
              "          const dataTable =\n",
              "            await google.colab.kernel.invokeFunction('convertToInteractive',\n",
              "                                                     [key], {});\n",
              "          if (!dataTable) return;\n",
              "\n",
              "          const docLinkHtml = 'Like what you see? Visit the ' +\n",
              "            '<a target=\"_blank\" href=https://colab.research.google.com/notebooks/data_table.ipynb>data table notebook</a>'\n",
              "            + ' to learn more about interactive tables.';\n",
              "          element.innerHTML = '';\n",
              "          dataTable['output_type'] = 'display_data';\n",
              "          await google.colab.output.renderOutput(dataTable, element);\n",
              "          const docLink = document.createElement('div');\n",
              "          docLink.innerHTML = docLinkHtml;\n",
              "          element.appendChild(docLink);\n",
              "        }\n",
              "      </script>\n",
              "    </div>\n",
              "  </div>\n",
              "  "
            ]
          },
          "metadata": {},
          "execution_count": 6
        }
      ],
      "metadata": {
        "id": "y6LNWmoidh8q",
        "colab": {
          "base_uri": "https://localhost:8080/",
          "height": 206
        },
        "outputId": "68e59d41-581b-45ec-9942-d77be1c0c615"
      }
    },
    {
      "cell_type": "code",
      "execution_count": 7,
      "source": [
        "# Define X and y\n",
        "X = df[[\"leukocyte_count\", \"blood_pressure\"]].values\n",
        "y = df[\"tumor_class\"].values\n",
        "print (\"X: \", np.shape(X))\n",
        "print (\"y: \", np.shape(y))"
      ],
      "outputs": [
        {
          "output_type": "stream",
          "name": "stdout",
          "text": [
            "X:  (1000, 2)\n",
            "y:  (1000,)\n"
          ]
        }
      ],
      "metadata": {
        "id": "4yUmtoznqc9r",
        "colab": {
          "base_uri": "https://localhost:8080/"
        },
        "outputId": "93ef8d64-f505-45bc-954e-8773e75ede1f"
      }
    },
    {
      "cell_type": "code",
      "execution_count": 8,
      "source": [
        "# Plot data\n",
        "colors = {\"benign\": \"red\", \"malignant\": \"blue\"}\n",
        "plt.scatter(X[:, 0], X[:, 1], c=[colors[_y] for _y in y], s=25, edgecolors=\"k\")\n",
        "plt.xlabel('leukocyte count')\n",
        "plt.ylabel('blood pressure')\n",
        "plt.legend([\"malignant\", \"benign\"], loc=\"upper right\")\n",
        "plt.show()"
      ],
      "outputs": [
        {
          "output_type": "display_data",
          "data": {
            "text/plain": [
              "<Figure size 432x288 with 1 Axes>"
            ],
            "image/png": "[encoded data removed]"
          },
          "metadata": {
            "needs_background": "light"
          }
        }
      ],
      "metadata": {
        "id": "nXFUmnfte6z6",
        "colab": {
          "base_uri": "https://localhost:8080/",
          "height": 279
        },
        "outputId": "0cd664d4-5e1f-43c3-ef2e-ce1dd45e5401"
      }
    },
    {
      "cell_type": "markdown",
      "source": [
        "We want to choose features that have strong predictive signal for our task. If you want to improve performance, you need to continuously do feature engineering by collecting and adding new signals. So you may run into a new feature that has high correlation (orthogonal signal) with your existing features but it may still possess some unique signal to boost your predictive performance. "
      ],
      "metadata": {
        "id": "yVD-8qgGwz5l"
      }
    },
    {
      "cell_type": "code",
      "execution_count": 9,
      "source": [
        "# Correlation matrix\n",
        "scatter_matrix(df, figsize=(5, 5));\n",
        "df.corr()"
      ],
      "outputs": [
        {
          "output_type": "execute_result",
          "data": {
            "text/plain": [
              "                 leukocyte_count  blood_pressure\n",
              "leukocyte_count         1.000000       -0.162875\n",
              "blood_pressure         -0.162875        1.000000"
            ],
            "text/html": [
              "\n",
              "  <div id=\"df-e8624697-710e-4c2f-86ac-2bf1272975b8\">\n",
              "    <div class=\"colab-df-container\">\n",
              "      <div>\n",
              "<style scoped>\n",
              "    .dataframe tbody tr th:only-of-type {\n",
              "        vertical-align: middle;\n",
              "    }\n",
              "\n",
              "    .dataframe tbody tr th {\n",
              "        vertical-align: top;\n",
              "    }\n",
              "\n",
              "    .dataframe thead th {\n",
              "        text-align: right;\n",
              "    }\n",
              "</style>\n",
              "<table border=\"1\" class=\"dataframe\">\n",
              "  <thead>\n",
              "    <tr style=\"text-align: right;\">\n",
              "      <th></th>\n",
              "      <th>leukocyte_count</th>\n",
              "      <th>blood_pressure</th>\n",
              "    </tr>\n",
              "  </thead>\n",
              "  <tbody>\n",
              "    <tr>\n",
              "      <th>leukocyte_count</th>\n",
              "      <td>1.000000</td>\n",
              "      <td>-0.162875</td>\n",
              "    </tr>\n",
              "    <tr>\n",
              "      <th>blood_pressure</th>\n",
              "      <td>-0.162875</td>\n",
              "      <td>1.000000</td>\n",
              "    </tr>\n",
              "  </tbody>\n",
              "</table>\n",
              "</div>\n",
              "      <button class=\"colab-df-convert\" onclick=\"convertToInteractive('df-e8624697-710e-4c2f-86ac-2bf1272975b8')\"\n",
              "              title=\"Convert this dataframe to an interactive table.\"\n",
              "              style=\"display:none;\">\n",
              "        \n",
              "  <svg xmlns=\"http://www.w3.org/2000/svg\" height=\"24px\"viewBox=\"0 0 24 24\"\n",
              "       width=\"24px\">\n",
              "    <path d=\"M0 0h24v24H0V0z\" fill=\"none\"/>\n",
              "    <path d=\"M18.56 5.44l.94 2.06.94-2.06 2.06-.94-2.06-.94-.94-2.06-.94 2.06-2.06.94zm-11 1L8.5 8.5l.94-2.06 2.06-.94-2.06-.94L8.5 2.5l-.94 2.06-2.06.94zm10 10l.94 2.06.94-2.06 2.06-.94-2.06-.94-.94-2.06-.94 2.06-2.06.94z\"/><path d=\"M17.41 7.96l-1.37-1.37c-.4-.4-.92-.59-1.43-.59-.52 0-1.04.2-1.43.59L10.3 9.45l-7.72 7.72c-.78.78-.78 2.05 0 2.83L4 21.41c.39.39.9.59 1.41.59.51 0 1.02-.2 1.41-.59l7.78-7.78 2.81-2.81c.8-.78.8-2.07 0-2.86zM5.41 20L4 18.59l7.72-7.72 1.47 1.35L5.41 20z\"/>\n",
              "  </svg>\n",
              "      </button>\n",
              "      \n",
              "  <style>\n",
              "    .colab-df-container {\n",
              "      display:flex;\n",
              "      flex-wrap:wrap;\n",
              "      gap: 12px;\n",
              "    }\n",
              "\n",
              "    .colab-df-convert {\n",
              "      background-color: #E8F0FE;\n",
              "      border: none;\n",
              "      border-radius: 50%;\n",
              "      cursor: pointer;\n",
              "      display: none;\n",
              "      fill: #1967D2;\n",
              "      height: 32px;\n",
              "      padding: 0 0 0 0;\n",
              "      width: 32px;\n",
              "    }\n",
              "\n",
              "    .colab-df-convert:hover {\n",
              "      background-color: #E2EBFA;\n",
              "      box-shadow: 0px 1px 2px rgba(60, 64, 67, 0.3), 0px 1px 3px 1px rgba(60, 64, 67, 0.15);\n",
              "      fill: #174EA6;\n",
              "    }\n",
              "\n",
              "    [theme=dark] .colab-df-convert {\n",
              "      background-color: #3B4455;\n",
              "      fill: #D2E3FC;\n",
              "    }\n",
              "\n",
              "    [theme=dark] .colab-df-convert:hover {\n",
              "      background-color: #434B5C;\n",
              "      box-shadow: 0px 1px 3px 1px rgba(0, 0, 0, 0.15);\n",
              "      filter: drop-shadow(0px 1px 2px rgba(0, 0, 0, 0.3));\n",
              "      fill: #FFFFFF;\n",
              "    }\n",
              "  </style>\n",
              "\n",
              "      <script>\n",
              "        const buttonEl =\n",
              "          document.querySelector('#df-e8624697-710e-4c2f-86ac-2bf1272975b8 button.colab-df-convert');\n",
              "        buttonEl.style.display =\n",
              "          google.colab.kernel.accessAllowed ? 'block' : 'none';\n",
              "\n",
              "        async function convertToInteractive(key) {\n",
              "          const element = document.querySelector('#df-e8624697-710e-4c2f-86ac-2bf1272975b8');\n",
              "          const dataTable =\n",
              "            await google.colab.kernel.invokeFunction('convertToInteractive',\n",
              "                                                     [key], {});\n",
              "          if (!dataTable) return;\n",
              "\n",
              "          const docLinkHtml = 'Like what you see? Visit the ' +\n",
              "            '<a target=\"_blank\" href=https://colab.research.google.com/notebooks/data_table.ipynb>data table notebook</a>'\n",
              "            + ' to learn more about interactive tables.';\n",
              "          element.innerHTML = '';\n",
              "          dataTable['output_type'] = 'display_data';\n",
              "          await google.colab.output.renderOutput(dataTable, element);\n",
              "          const docLink = document.createElement('div');\n",
              "          docLink.innerHTML = docLinkHtml;\n",
              "          element.appendChild(docLink);\n",
              "        }\n",
              "      </script>\n",
              "    </div>\n",
              "  </div>\n",
              "  "
            ]
          },
          "metadata": {},
          "execution_count": 9
        },
        {
          "output_type": "display_data",
          "data": {
            "text/plain": [
              "<Figure size 360x360 with 4 Axes>"
            ],
            "image/png": "[encoded data removed]"
          },
          "metadata": {
            "needs_background": "light"
          }
        }
      ],
      "metadata": {
        "id": "kXXO2ZlGr8Kp",
        "colab": {
          "base_uri": "https://localhost:8080/",
          "height": 430
        },
        "outputId": "09ad3fd6-458a-4178-a5c8-961261549eff"
      }
    },
    {
      "cell_type": "markdown",
      "source": [
        "### Split data"
      ],
      "metadata": {
        "id": "IcA13EL9MKq0"
      }
    },
    {
      "cell_type": "code",
      "execution_count": 10,
      "source": [
        "import collections\n",
        "from sklearn.model_selection import train_test_split"
      ],
      "outputs": [],
      "metadata": {
        "id": "v7vmMREZMK6w"
      }
    },
    {
      "cell_type": "code",
      "execution_count": 11,
      "source": [
        "TRAIN_SIZE = 0.70\n",
        "VAL_SIZE = 0.15\n",
        "TEST_SIZE = 0.15"
      ],
      "outputs": [],
      "metadata": {
        "id": "7ZrZrhNvD5q9"
      }
    },
    {
      "cell_type": "code",
      "execution_count": 12,
      "source": [
        "def train_val_test_split(X, y, train_size):\n",
        "    \"\"\"Split dataset into data splits.\"\"\"\n",
        "    X_train, X_, y_train, y_ = train_test_split(X, y, train_size=TRAIN_SIZE, stratify=y)\n",
        "    X_val, X_test, y_val, y_test = train_test_split(X_, y_, train_size=0.5, stratify=y_)\n",
        "    return X_train, X_val, X_test, y_train, y_val, y_test"
      ],
      "outputs": [],
      "metadata": {
        "id": "NklqFClX7p9H"
      }
    },
    {
      "cell_type": "code",
      "execution_count": 13,
      "source": [
        "# Create data splits\n",
        "X_train, X_val, X_test, y_train, y_val, y_test = train_val_test_split(\n",
        "    X=X, y=y, train_size=TRAIN_SIZE)\n",
        "print (f\"X_train: {X_train.shape}, y_train: {y_train.shape}\")\n",
        "print (f\"X_val: {X_val.shape}, y_val: {y_val.shape}\")\n",
        "print (f\"X_test: {X_test.shape}, y_test: {y_test.shape}\")\n",
        "print (f\"Sample point: {X_train[0]} → {y_train[0]}\")"
      ],
      "outputs": [
        {
          "output_type": "stream",
          "name": "stdout",
          "text": [
            "X_train: (700, 2), y_train: (700,)\n",
            "X_val: (150, 2), y_val: (150,)\n",
            "X_test: (150, 2), y_test: (150,)\n",
            "Sample point: [14.95081332 14.86441305] → malignant\n"
          ]
        }
      ],
      "metadata": {
        "colab": {
          "base_uri": "https://localhost:8080/"
        },
        "id": "Ych4dgkLhRV3",
        "outputId": "63a19eb4-19cd-40c7-a78f-d997b6421fb5"
      }
    },
    {
      "cell_type": "markdown",
      "source": [
        "### Label encoding"
      ],
      "metadata": {
        "id": "_OH53BpMi-e_"
      }
    },
    {
      "cell_type": "code",
      "execution_count": 14,
      "source": [
        "from sklearn.preprocessing import LabelEncoder"
      ],
      "outputs": [],
      "metadata": {
        "id": "oA7kC6GFjD8c"
      }
    },
    {
      "cell_type": "code",
      "execution_count": 15,
      "source": [
        "# Output vectorizer\n",
        "label_encoder = LabelEncoder()"
      ],
      "outputs": [],
      "metadata": {
        "id": "wLC4GRM2jEAt"
      }
    },
    {
      "cell_type": "code",
      "execution_count": 16,
      "source": [
        "# Fit on train data\n",
        "label_encoder = label_encoder.fit(y_train)\n",
        "classes = list(label_encoder.classes_)\n",
        "print (f\"classes: {classes}\")"
      ],
      "outputs": [
        {
          "output_type": "stream",
          "name": "stdout",
          "text": [
            "classes: ['benign', 'malignant']\n"
          ]
        }
      ],
      "metadata": {
        "id": "LMR1_Du9jEEf",
        "colab": {
          "base_uri": "https://localhost:8080/"
        },
        "outputId": "bdba9a18-630d-49bf-c1e4-9b0c9951ce59"
      }
    },
    {
      "cell_type": "code",
      "execution_count": 17,
      "source": [
        "# Convert labels to tokens\n",
        "print (f\"y_train[0]: {y_train[0]}\")\n",
        "y_train = label_encoder.transform(y_train)\n",
        "y_val = label_encoder.transform(y_val)\n",
        "y_test = label_encoder.transform(y_test)\n",
        "print (f\"y_train[0]: {y_train[0]}\")"
      ],
      "outputs": [
        {
          "output_type": "stream",
          "name": "stdout",
          "text": [
            "y_train[0]: malignant\n",
            "y_train[0]: 1\n"
          ]
        }
      ],
      "metadata": {
        "id": "McIId6GajHty",
        "colab": {
          "base_uri": "https://localhost:8080/"
        },
        "outputId": "c2d289b9-dff6-40b6-dce4-b00e5ad7ee99"
      }
    },
    {
      "cell_type": "code",
      "execution_count": 18,
      "source": [
        "# Class weights\n",
        "counts = np.bincount(y_train)\n",
        "class_weights = {i: 1.0/count for i, count in enumerate(counts)}\n",
        "print (f\"counts: {counts}\\nweights: {class_weights}\")"
      ],
      "outputs": [
        {
          "output_type": "stream",
          "name": "stdout",
          "text": [
            "counts: [272 428]\n",
            "weights: {0: 0.003676470588235294, 1: 0.002336448598130841}\n"
          ]
        }
      ],
      "metadata": {
        "id": "O7NWNJQxMM-t",
        "colab": {
          "base_uri": "https://localhost:8080/"
        },
        "outputId": "d43116dc-344e-4d17-8fc5-6230b1b5ad68"
      }
    },
    {
      "cell_type": "markdown",
      "source": [
        "### Standardize data"
      ],
      "metadata": {
        "id": "rprTIVQIjLq6"
      }
    },
    {
      "cell_type": "code",
      "execution_count": 19,
      "source": [
        "from sklearn.preprocessing import StandardScaler"
      ],
      "outputs": [],
      "metadata": {
        "id": "Vk-dk3X0jLxR"
      }
    },
    {
      "cell_type": "code",
      "execution_count": 20,
      "source": [
        "# Standardize the data (mean=0, std=1) using training data\n",
        "X_scaler = StandardScaler().fit(X_train)"
      ],
      "outputs": [],
      "metadata": {
        "id": "GDTGSoERjL0B"
      }
    },
    {
      "cell_type": "code",
      "execution_count": 21,
      "source": [
        "# Apply scaler on training and test data (don't standardize outputs for classification)\n",
        "X_train = X_scaler.transform(X_train)\n",
        "X_val = X_scaler.transform(X_val)\n",
        "X_test = X_scaler.transform(X_test)"
      ],
      "outputs": [],
      "metadata": {
        "id": "7CcSCO4bjL2n"
      }
    },
    {
      "cell_type": "code",
      "execution_count": 22,
      "source": [
        "# Check (means should be ~0 and std should be ~1)\n",
        "print (f\"X_test[0]: mean: {np.mean(X_test[:, 0], axis=0):.1f}, std: {np.std(X_test[:, 0], axis=0):.1f}\")\n",
        "print (f\"X_test[1]: mean: {np.mean(X_test[:, 1], axis=0):.1f}, std: {np.std(X_test[:, 1], axis=0):.1f}\")"
      ],
      "outputs": [
        {
          "output_type": "stream",
          "name": "stdout",
          "text": [
            "X_test[0]: mean: -0.1, std: 1.0\n",
            "X_test[1]: mean: -0.1, std: 1.0\n"
          ]
        }
      ],
      "metadata": {
        "id": "hzQ5s5eqjPMy",
        "colab": {
          "base_uri": "https://localhost:8080/"
        },
        "outputId": "f6fa59c2-1ecb-45de-f586-9fde1c1f48d3"
      }
    },
    {
      "cell_type": "markdown",
      "source": [
        "## Modeling"
      ],
      "metadata": {
        "id": "YZwkrokjlL81"
      }
    },
    {
      "cell_type": "code",
      "execution_count": 23,
      "source": [
        "import torch"
      ],
      "outputs": [],
      "metadata": {
        "id": "OSmsF8b8A_r-"
      }
    },
    {
      "cell_type": "code",
      "execution_count": 24,
      "source": [
        "# Set seed for reproducibility\n",
        "torch.manual_seed(SEED)"
      ],
      "outputs": [
        {
          "output_type": "execute_result",
          "data": {
            "text/plain": [
              "<torch._C.Generator at 0x7f1f85a39f10>"
            ]
          },
          "metadata": {},
          "execution_count": 24
        }
      ],
      "metadata": {
        "id": "nF_-_GQTHMuL",
        "colab": {
          "base_uri": "https://localhost:8080/"
        },
        "outputId": "8cfc921a-4f0b-45d9-e333-884ee13dad39"
      }
    },
    {
      "cell_type": "markdown",
      "source": [
        "### Model"
      ],
      "metadata": {
        "id": "owLnzReJJdpj"
      }
    },
    {
      "cell_type": "code",
      "execution_count": 25,
      "source": [
        "from torch import nn\n",
        "import torch.nn.functional as F"
      ],
      "outputs": [],
      "metadata": {
        "id": "F6PCHuW0rBco"
      }
    },
    {
      "cell_type": "code",
      "execution_count": 26,
      "source": [
        "INPUT_DIM = 2 # X is 2-dimensional\n",
        "HIDDEN_DIM = 100\n",
        "NUM_CLASSES = 2"
      ],
      "outputs": [],
      "metadata": {
        "id": "6NiIKIzKHRMa"
      }
    },
    {
      "cell_type": "code",
      "execution_count": 28,
      "source": [
        "class MLP(nn.Module):\n",
        "    def __init__(self, input_dim, hidden_dim, num_classes):\n",
        "        super(MLP, self).__init__()\n",
        "        self.fc1 = nn.Linear(input_dim, hidden_dim)\n",
        "        self.fc2 = nn.Linear(hidden_dim, num_classes)\n",
        "# fc = fully connected layer\n",
        "        \n",
        "    def forward(self, x_in, apply_softmax=False):\n",
        "        z = F.relu(self.fc1(x_in)) # ReLU activaton function added!\n",
        "        y_pred = self.fc2(z)\n",
        "        if apply_softmax:\n",
        "            y_pred = F.softmax(y_pred, dim=1) \n",
        "        return y_pred"
      ],
      "outputs": [],
      "metadata": {
        "id": "pfDgN3F-GCKP"
      }
    },
    {
      "cell_type": "code",
      "execution_count": 29,
      "source": [
        "# Initialize model\n",
        "model = MLP(input_dim=INPUT_DIM, hidden_dim=HIDDEN_DIM, num_classes=NUM_CLASSES)\n",
        "print (model.named_parameters)"
      ],
      "outputs": [
        {
          "output_type": "stream",
          "name": "stdout",
          "text": [
            "<bound method Module.named_parameters of MLP(\n",
            "  (fc1): Linear(in_features=2, out_features=100, bias=True)\n",
            "  (fc2): Linear(in_features=100, out_features=2, bias=True)\n",
            ")>\n"
          ]
        }
      ],
      "metadata": {
        "id": "qaYgpFapGCRg",
        "colab": {
          "base_uri": "https://localhost:8080/"
        },
        "outputId": "708cfa36-1f11-4f34-8cab-89767196910b"
      }
    },
    {
      "cell_type": "markdown",
      "source": [
        "### Training"
      ],
      "metadata": {
        "id": "fkSY4lj5Ibe0"
      }
    },
    {
      "cell_type": "code",
      "execution_count": 30,
      "source": [
        "from torch.optim import Adam"
      ],
      "outputs": [],
      "metadata": {
        "id": "bvAvgInrsXtp"
      }
    },
    {
      "cell_type": "code",
      "execution_count": 31,
      "source": [
        "LEARNING_RATE = 1e-3\n",
        "NUM_EPOCHS = 5\n",
        "BATCH_SIZE = 32"
      ],
      "outputs": [],
      "metadata": {
        "id": "_uzT5WdgrPcV"
      }
    },
    {
      "cell_type": "code",
      "execution_count": 32,
      "source": [
        "# Define Loss\n",
        "class_weights_tensor = torch.Tensor(list(class_weights.values()))\n",
        "loss_fn = nn.CrossEntropyLoss(weight=class_weights_tensor)"
      ],
      "outputs": [],
      "metadata": {
        "id": "w5zvcjQ8GCHF"
      }
    },
    {
      "cell_type": "code",
      "execution_count": 33,
      "source": [
        "# Accuracy\n",
        "def accuracy_fn(y_pred, y_true):\n",
        "    n_correct = torch.eq(y_pred, y_true).sum().item()\n",
        "    accuracy = (n_correct / len(y_pred)) * 100\n",
        "    return accuracy"
      ],
      "outputs": [],
      "metadata": {
        "id": "q5t1LqwFrMej"
      }
    },
    {
      "cell_type": "code",
      "execution_count": 35,
      "source": [
        "# Optimizer\n",
        "optimizer = Adam(model.parameters(), lr=LEARNING_RATE) "
      ],
      "outputs": [],
      "metadata": {
        "id": "CA3un62trOZi"
      }
    },
    {
      "cell_type": "code",
      "execution_count": 36,
      "source": [
        "# Convert data to tensors\n",
        "X_train = torch.Tensor(X_train)\n",
        "y_train = torch.LongTensor(y_train)\n",
        "X_val = torch.Tensor(X_val)\n",
        "y_val = torch.LongTensor(y_val)\n",
        "X_test = torch.Tensor(X_test)\n",
        "y_test = torch.LongTensor(y_test)"
      ],
      "outputs": [],
      "metadata": {
        "id": "tEfrIX0tGCBU"
      }
    },
    {
      "cell_type": "code",
      "execution_count": 50,
      "source": [
        "# Training\n",
        "for epoch in range(NUM_EPOCHS*10):\n",
        "    # Forward pass\n",
        "    y_pred = model(X_train)\n",
        "\n",
        "    # Loss\n",
        "    loss = loss_fn(y_pred, y_train)\n",
        "\n",
        "    # Zero all gradients\n",
        "    optimizer.zero_grad()\n",
        "\n",
        "    # Backward pass\n",
        "    loss.backward()\n",
        "\n",
        "    # Update weights\n",
        "    optimizer.step()\n",
        "\n",
        "    if epoch%10==0: \n",
        "        predictions = y_pred.max(dim=1)[1] # class\n",
        "        accuracy = accuracy_fn(y_pred=predictions, y_true=y_train)\n",
        "        print (f\"Epoch: {epoch} | loss: {loss:.2f}, accuracy: {accuracy:.1f}\")"
      ],
      "outputs": [
        {
          "output_type": "stream",
          "name": "stdout",
          "text": [
            "Epoch: 0 | loss: 0.03, accuracy: 98.9\n",
            "Epoch: 10 | loss: 0.03, accuracy: 98.9\n",
            "Epoch: 20 | loss: 0.03, accuracy: 98.9\n",
            "Epoch: 30 | loss: 0.03, accuracy: 98.9\n",
            "Epoch: 40 | loss: 0.03, accuracy: 98.9\n"
          ]
        }
      ],
      "metadata": {
        "id": "NXyUnTDlGB_f",
        "colab": {
          "base_uri": "https://localhost:8080/"
        },
        "outputId": "6b014c5e-3b38-4d4c-8366-d4f458a74743"
      }
    },
    {
      "cell_type": "markdown",
      "source": [
        "### Evaluation"
      ],
      "metadata": {
        "id": "Gp-2SuGlJCd8"
      }
    },
    {
      "cell_type": "code",
      "execution_count": 51,
      "source": [
        "import json\n",
        "import matplotlib.pyplot as plt\n",
        "from sklearn.metrics import precision_recall_fscore_support"
      ],
      "outputs": [],
      "metadata": {
        "id": "ZIq3_RBwgwzT"
      }
    },
    {
      "cell_type": "code",
      "execution_count": 52,
      "source": [
        "def get_performance(y_true, y_pred, classes):\n",
        "    \"\"\"Per-class performance metrics.\"\"\"\n",
        "    # Performance\n",
        "    performance = {\"overall\": {}, \"class\": {}}\n",
        "\n",
        "    # Overall performance\n",
        "    metrics = precision_recall_fscore_support(y_true, y_pred, average=\"weighted\")\n",
        "    performance[\"overall\"][\"precision\"] = metrics[0]\n",
        "    performance[\"overall\"][\"recall\"] = metrics[1]\n",
        "    performance[\"overall\"][\"f1\"] = metrics[2]\n",
        "    performance[\"overall\"][\"num_samples\"] = np.float64(len(y_true))\n",
        "\n",
        "    # Per-class performance\n",
        "    metrics = precision_recall_fscore_support(y_true, y_pred, average=None)\n",
        "    for i in range(len(classes)):\n",
        "        performance[\"class\"][classes[i]] = {\n",
        "            \"precision\": metrics[0][i],\n",
        "            \"recall\": metrics[1][i],\n",
        "            \"f1\": metrics[2][i],\n",
        "            \"num_samples\": np.float64(metrics[3][i]),\n",
        "        }\n",
        "\n",
        "    return performance"
      ],
      "outputs": [],
      "metadata": {
        "id": "rfJfD4Wvgw2W"
      }
    },
    {
      "cell_type": "code",
      "execution_count": 53,
      "source": [
        "# Predictions\n",
        "y_prob = model(X_test, apply_softmax=True)\n",
        "y_pred = y_prob.max(dim=1)[1]"
      ],
      "outputs": [],
      "metadata": {
        "id": "5MM9gNg6I4eG"
      }
    },
    {
      "cell_type": "code",
      "execution_count": 54,
      "source": [
        "# Performance report\n",
        "performance = get_performance(y_true=y_test, y_pred=y_pred, classes=classes)\n",
        "print (json.dumps(performance, indent=2))"
      ],
      "outputs": [
        {
          "output_type": "stream",
          "name": "stdout",
          "text": [
            "{\n",
            "  \"overall\": {\n",
            "    \"precision\": 0.9869503546099291,\n",
            "    \"recall\": 0.9866666666666667,\n",
            "    \"f1\": 0.9866213921901529,\n",
            "    \"num_samples\": 150.0\n",
            "  },\n",
            "  \"class\": {\n",
            "    \"benign\": {\n",
            "      \"precision\": 1.0,\n",
            "      \"recall\": 0.9655172413793104,\n",
            "      \"f1\": 0.9824561403508771,\n",
            "      \"num_samples\": 58.0\n",
            "    },\n",
            "    \"malignant\": {\n",
            "      \"precision\": 0.9787234042553191,\n",
            "      \"recall\": 1.0,\n",
            "      \"f1\": 0.989247311827957,\n",
            "      \"num_samples\": 92.0\n",
            "    }\n",
            "  }\n",
            "}\n"
          ]
        }
      ],
      "metadata": {
        "id": "5sRAXVwPOSBs",
        "colab": {
          "base_uri": "https://localhost:8080/"
        },
        "outputId": "654ec58d-7502-46ca-d059-b02aad697d71"
      }
    },
    {
      "cell_type": "markdown",
      "source": [
        "We're going to plot a point, which we know belongs to the malignant tumor class. Our well trained model here would accurately predict that it is indeed a malignant tumor!"
      ],
      "metadata": {
        "id": "ViwfNFOYRDkm"
      }
    },
    {
      "cell_type": "code",
      "execution_count": 55,
      "source": [
        "def plot_multiclass_decision_boundary(model, X, y):\n",
        "    x_min, x_max = X[:, 0].min() - 0.1, X[:, 0].max() + 0.1\n",
        "    y_min, y_max = X[:, 1].min() - 0.1, X[:, 1].max() + 0.1\n",
        "    xx, yy = np.meshgrid(np.linspace(x_min, x_max, 101), np.linspace(y_min, y_max, 101))\n",
        "    cmap = plt.cm.Spectral\n",
        "    \n",
        "    X_test = torch.from_numpy(np.c_[xx.ravel(), yy.ravel()]).float()\n",
        "    y_pred = model(X_test, apply_softmax=True)\n",
        "    _, y_pred = y_pred.max(dim=1)\n",
        "    y_pred = y_pred.reshape(xx.shape)\n",
        "    plt.contourf(xx, yy, y_pred, cmap=plt.cm.Spectral, alpha=0.8)\n",
        "    plt.scatter(X[:, 0], X[:, 1], c=y, s=40, cmap=plt.cm.RdYlBu)\n",
        "    plt.xlim(xx.min(), xx.max())\n",
        "    plt.ylim(yy.min(), yy.max())"
      ],
      "outputs": [],
      "metadata": {
        "id": "q9qZ6Fijgvfd"
      }
    },
    {
      "cell_type": "code",
      "execution_count": 56,
      "source": [
        "# Visualize the decision boundary\n",
        "plt.figure(figsize=(8,5))\n",
        "plt.title(\"Test\")\n",
        "plot_multiclass_decision_boundary(model=model, X=X_test, y=y_test)\n",
        "\n",
        "# Sample point near the decision boundary\n",
        "mean_leukocyte_count, mean_blood_pressure = X_scaler.transform(\n",
        "    [[np.mean(df.leukocyte_count), np.mean(df.blood_pressure)]])[0]\n",
        "plt.scatter(mean_leukocyte_count+0.05, mean_blood_pressure-0.05, s=200, \n",
        "            c=\"b\", edgecolor=\"w\", linewidth=2)\n",
        "\n",
        "# Annotate\n",
        "plt.annotate(\"true: malignant,\\npred: malignant\",\n",
        "             color=\"white\",\n",
        "             xy=(mean_leukocyte_count, mean_blood_pressure),\n",
        "             xytext=(0.4, 0.65),\n",
        "             textcoords=\"figure fraction\",\n",
        "             fontsize=16,\n",
        "             arrowprops=dict(facecolor=\"white\", shrink=0.1))\n",
        "plt.show()"
      ],
      "outputs": [
        {
          "output_type": "display_data",
          "data": {
            "text/plain": [
              "<Figure size 576x360 with 1 Axes>"
            ],
            "image/png": "[encoded data removed]"
          },
          "metadata": {
            "needs_background": "light"
          }
        }
      ],
      "metadata": {
        "id": "bzFb90SJOmI2",
        "colab": {
          "base_uri": "https://localhost:8080/",
          "height": 336
        },
        "outputId": "ac4cef28-e154-4aad-aaf4-afdaa4362efe"
      }
    },
    {
      "cell_type": "markdown",
      "source": [
        "Great! We received great performances on both our train and test data splits. We're going to use this dataset to show the importance of data quality."
      ],
      "metadata": {
        "id": "o231eJaQPi5E"
      }
    },
    {
      "cell_type": "markdown",
      "source": [
        "# Reduced dataset"
      ],
      "metadata": {
        "id": "pZ3rnGH8PtBu"
      }
    },
    {
      "cell_type": "markdown",
      "source": [
        "Let's remove some training data near the decision boundary and see how robust the model is now."
      ],
      "metadata": {
        "id": "ONRP3WQgR3zc"
      }
    },
    {
      "cell_type": "markdown",
      "source": [
        "## Data"
      ],
      "metadata": {
        "id": "IoiDkq7ClP2Q"
      }
    },
    {
      "cell_type": "markdown",
      "source": [
        "### Load data"
      ],
      "metadata": {
        "id": "3E8MUvGCK0zW"
      }
    },
    {
      "cell_type": "code",
      "execution_count": 57,
      "source": [
        "# Raw reduced data\n",
        "url = \"https://raw.githubusercontent.com/GokuMohandas/MadeWithML/main/datasets/tumors_reduced.csv\"\n",
        "df_reduced = pd.read_csv(url, header=0) # load\n",
        "df_reduced = df_reduced.sample(frac=1).reset_index(drop=True) # shuffle\n",
        "df_reduced.head()"
      ],
      "outputs": [
        {
          "output_type": "execute_result",
          "data": {
            "text/plain": [
              "   leukocyte_count  blood_pressure tumor_class\n",
              "0        16.795186       14.434741      benign\n",
              "1        13.472969       15.250393   malignant\n",
              "2         9.840450       16.434717   malignant\n",
              "3        16.390730       14.419258      benign\n",
              "4        13.367974       15.741790   malignant"
            ],
            "text/html": [
              "\n",
              "  <div id=\"df-e2f93b72-13c7-443a-bb08-fd1939a17faf\">\n",
              "    <div class=\"colab-df-container\">\n",
              "      <div>\n",
              "<style scoped>\n",
              "    .dataframe tbody tr th:only-of-type {\n",
              "        vertical-align: middle;\n",
              "    }\n",
              "\n",
              "    .dataframe tbody tr th {\n",
              "        vertical-align: top;\n",
              "    }\n",
              "\n",
              "    .dataframe thead th {\n",
              "        text-align: right;\n",
              "    }\n",
              "</style>\n",
              "<table border=\"1\" class=\"dataframe\">\n",
              "  <thead>\n",
              "    <tr style=\"text-align: right;\">\n",
              "      <th></th>\n",
              "      <th>leukocyte_count</th>\n",
              "      <th>blood_pressure</th>\n",
              "      <th>tumor_class</th>\n",
              "    </tr>\n",
              "  </thead>\n",
              "  <tbody>\n",
              "    <tr>\n",
              "      <th>0</th>\n",
              "      <td>16.795186</td>\n",
              "      <td>14.434741</td>\n",
              "      <td>benign</td>\n",
              "    </tr>\n",
              "    <tr>\n",
              "      <th>1</th>\n",
              "      <td>13.472969</td>\n",
              "      <td>15.250393</td>\n",
              "      <td>malignant</td>\n",
              "    </tr>\n",
              "    <tr>\n",
              "      <th>2</th>\n",
              "      <td>9.840450</td>\n",
              "      <td>16.434717</td>\n",
              "      <td>malignant</td>\n",
              "    </tr>\n",
              "    <tr>\n",
              "      <th>3</th>\n",
              "      <td>16.390730</td>\n",
              "      <td>14.419258</td>\n",
              "      <td>benign</td>\n",
              "    </tr>\n",
              "    <tr>\n",
              "      <th>4</th>\n",
              "      <td>13.367974</td>\n",
              "      <td>15.741790</td>\n",
              "      <td>malignant</td>\n",
              "    </tr>\n",
              "  </tbody>\n",
              "</table>\n",
              "</div>\n",
              "      <button class=\"colab-df-convert\" onclick=\"convertToInteractive('df-e2f93b72-13c7-443a-bb08-fd1939a17faf')\"\n",
              "              title=\"Convert this dataframe to an interactive table.\"\n",
              "              style=\"display:none;\">\n",
              "        \n",
              "  <svg xmlns=\"http://www.w3.org/2000/svg\" height=\"24px\"viewBox=\"0 0 24 24\"\n",
              "       width=\"24px\">\n",
              "    <path d=\"M0 0h24v24H0V0z\" fill=\"none\"/>\n",
              "    <path d=\"M18.56 5.44l.94 2.06.94-2.06 2.06-.94-2.06-.94-.94-2.06-.94 2.06-2.06.94zm-11 1L8.5 8.5l.94-2.06 2.06-.94-2.06-.94L8.5 2.5l-.94 2.06-2.06.94zm10 10l.94 2.06.94-2.06 2.06-.94-2.06-.94-.94-2.06-.94 2.06-2.06.94z\"/><path d=\"M17.41 7.96l-1.37-1.37c-.4-.4-.92-.59-1.43-.59-.52 0-1.04.2-1.43.59L10.3 9.45l-7.72 7.72c-.78.78-.78 2.05 0 2.83L4 21.41c.39.39.9.59 1.41.59.51 0 1.02-.2 1.41-.59l7.78-7.78 2.81-2.81c.8-.78.8-2.07 0-2.86zM5.41 20L4 18.59l7.72-7.72 1.47 1.35L5.41 20z\"/>\n",
              "  </svg>\n",
              "      </button>\n",
              "      \n",
              "  <style>\n",
              "    .colab-df-container {\n",
              "      display:flex;\n",
              "      flex-wrap:wrap;\n",
              "      gap: 12px;\n",
              "    }\n",
              "\n",
              "    .colab-df-convert {\n",
              "      background-color: #E8F0FE;\n",
              "      border: none;\n",
              "      border-radius: 50%;\n",
              "      cursor: pointer;\n",
              "      display: none;\n",
              "      fill: #1967D2;\n",
              "      height: 32px;\n",
              "      padding: 0 0 0 0;\n",
              "      width: 32px;\n",
              "    }\n",
              "\n",
              "    .colab-df-convert:hover {\n",
              "      background-color: #E2EBFA;\n",
              "      box-shadow: 0px 1px 2px rgba(60, 64, 67, 0.3), 0px 1px 3px 1px rgba(60, 64, 67, 0.15);\n",
              "      fill: #174EA6;\n",
              "    }\n",
              "\n",
              "    [theme=dark] .colab-df-convert {\n",
              "      background-color: #3B4455;\n",
              "      fill: #D2E3FC;\n",
              "    }\n",
              "\n",
              "    [theme=dark] .colab-df-convert:hover {\n",
              "      background-color: #434B5C;\n",
              "      box-shadow: 0px 1px 3px 1px rgba(0, 0, 0, 0.15);\n",
              "      filter: drop-shadow(0px 1px 2px rgba(0, 0, 0, 0.3));\n",
              "      fill: #FFFFFF;\n",
              "    }\n",
              "  </style>\n",
              "\n",
              "      <script>\n",
              "        const buttonEl =\n",
              "          document.querySelector('#df-e2f93b72-13c7-443a-bb08-fd1939a17faf button.colab-df-convert');\n",
              "        buttonEl.style.display =\n",
              "          google.colab.kernel.accessAllowed ? 'block' : 'none';\n",
              "\n",
              "        async function convertToInteractive(key) {\n",
              "          const element = document.querySelector('#df-e2f93b72-13c7-443a-bb08-fd1939a17faf');\n",
              "          const dataTable =\n",
              "            await google.colab.kernel.invokeFunction('convertToInteractive',\n",
              "                                                     [key], {});\n",
              "          if (!dataTable) return;\n",
              "\n",
              "          const docLinkHtml = 'Like what you see? Visit the ' +\n",
              "            '<a target=\"_blank\" href=https://colab.research.google.com/notebooks/data_table.ipynb>data table notebook</a>'\n",
              "            + ' to learn more about interactive tables.';\n",
              "          element.innerHTML = '';\n",
              "          dataTable['output_type'] = 'display_data';\n",
              "          await google.colab.output.renderOutput(dataTable, element);\n",
              "          const docLink = document.createElement('div');\n",
              "          docLink.innerHTML = docLinkHtml;\n",
              "          element.appendChild(docLink);\n",
              "        }\n",
              "      </script>\n",
              "    </div>\n",
              "  </div>\n",
              "  "
            ]
          },
          "metadata": {},
          "execution_count": 57
        }
      ],
      "metadata": {
        "id": "sU69PjH3Z4bm",
        "colab": {
          "base_uri": "https://localhost:8080/",
          "height": 206
        },
        "outputId": "9e7f146b-4d9c-4847-a03e-cce325278baf"
      }
    },
    {
      "cell_type": "code",
      "execution_count": 58,
      "source": [
        "# Define X and y\n",
        "X = df_reduced[[\"leukocyte_count\", \"blood_pressure\"]].values\n",
        "y = df_reduced[\"tumor_class\"].values\n",
        "print (\"X: \", np.shape(X))\n",
        "print (\"y: \", np.shape(y))"
      ],
      "outputs": [
        {
          "output_type": "stream",
          "name": "stdout",
          "text": [
            "X:  (720, 2)\n",
            "y:  (720,)\n"
          ]
        }
      ],
      "metadata": {
        "id": "pWh45mgZqqaO",
        "colab": {
          "base_uri": "https://localhost:8080/"
        },
        "outputId": "4eb87592-b8bf-4d5b-d28a-8a6e36c359f9"
      }
    },
    {
      "cell_type": "code",
      "execution_count": 59,
      "source": [
        "# Plot data\n",
        "colors = {\"benign\": \"red\", \"malignant\": \"blue\"}\n",
        "plt.scatter(X[:, 0], X[:, 1], c=[colors[_y] for _y in y], s=25, edgecolors=\"k\")\n",
        "plt.xlabel('leukocyte count')\n",
        "plt.ylabel('blood pressure')\n",
        "plt.legend([\"malignant\", \"benign\"], loc=\"upper right\")\n",
        "plt.show()"
      ],
      "outputs": [
        {
          "output_type": "display_data",
          "data": {
            "text/plain": [
              "<Figure size 432x288 with 1 Axes>"
            ],
            "image/png": "[encoded data removed]"
          },
          "metadata": {
            "needs_background": "light"
          }
        }
      ],
      "metadata": {
        "id": "1OwgEJSsZ4g5",
        "colab": {
          "base_uri": "https://localhost:8080/",
          "height": 279
        },
        "outputId": "4281026a-4cfb-4062-dc81-015b304d1a9b"
      }
    },
    {
      "cell_type": "markdown",
      "source": [
        "### Split data"
      ],
      "metadata": {
        "id": "zxjsnyNtK4EO"
      }
    },
    {
      "cell_type": "code",
      "execution_count": 60,
      "source": [
        "# Create data splits\n",
        "X_train, X_val, X_test, y_train, y_val, y_test = train_val_test_split(\n",
        "    X=X, y=y, train_size=TRAIN_SIZE)\n",
        "print (f\"X_train: {X_train.shape}, y_train: {y_train.shape}\")\n",
        "print (f\"X_val: {X_val.shape}, y_val: {y_val.shape}\")\n",
        "print (f\"X_test: {X_test.shape}, y_test: {y_test.shape}\")\n",
        "print (f\"Sample point: {X_train[0]} → {y_train[0]}\")"
      ],
      "outputs": [
        {
          "output_type": "stream",
          "name": "stdout",
          "text": [
            "X_train: (503, 2), y_train: (503,)\n",
            "X_val: (108, 2), y_val: (108,)\n",
            "X_test: (109, 2), y_test: (109,)\n",
            "Sample point: [18.34509397 14.25516163] → benign\n"
          ]
        }
      ],
      "metadata": {
        "colab": {
          "base_uri": "https://localhost:8080/"
        },
        "id": "nUoL8WFkhU5J",
        "outputId": "74cc00c3-10e8-4c7e-bab9-592c6c977292"
      }
    },
    {
      "cell_type": "markdown",
      "source": [
        "### Label encoding"
      ],
      "metadata": {
        "id": "tTNpd_IsLO6V"
      }
    },
    {
      "cell_type": "code",
      "execution_count": 61,
      "source": [
        "# Encode class labels\n",
        "label_encoder = LabelEncoder()\n",
        "label_encoder = label_encoder.fit(y_train)\n",
        "num_classes = len(label_encoder.classes_)\n",
        "y_train = label_encoder.transform(y_train)\n",
        "y_val = label_encoder.transform(y_val)\n",
        "y_test = label_encoder.transform(y_test)"
      ],
      "outputs": [],
      "metadata": {
        "id": "GSAMj9h6lLBo"
      }
    },
    {
      "cell_type": "code",
      "execution_count": 62,
      "source": [
        "# Class weights\n",
        "counts = np.bincount(y_train)\n",
        "class_weights = {i: 1.0/count for i, count in enumerate(counts)}\n",
        "print (f\"counts: {counts}\\nweights: {class_weights}\")"
      ],
      "outputs": [
        {
          "output_type": "stream",
          "name": "stdout",
          "text": [
            "counts: [272 231]\n",
            "weights: {0: 0.003676470588235294, 1: 0.004329004329004329}\n"
          ]
        }
      ],
      "metadata": {
        "id": "w-Wvh03BMf09",
        "colab": {
          "base_uri": "https://localhost:8080/"
        },
        "outputId": "97e5b8f7-b227-4c3d-eabb-4598dacbcb73"
      }
    },
    {
      "cell_type": "markdown",
      "source": [
        "### Standardize data"
      ],
      "metadata": {
        "id": "7Vk9k9dnLSDg"
      }
    },
    {
      "cell_type": "code",
      "execution_count": 63,
      "source": [
        "# Standardize inputs using training data\n",
        "X_scaler = StandardScaler().fit(X_train)\n",
        "X_train = X_scaler.transform(X_train)\n",
        "X_val = X_scaler.transform(X_val)\n",
        "X_test = X_scaler.transform(X_test)"
      ],
      "outputs": [],
      "metadata": {
        "id": "-8FjM7u8llPT"
      }
    },
    {
      "cell_type": "markdown",
      "source": [
        "## Modeling"
      ],
      "metadata": {
        "id": "F_EdY0FLlXTc"
      }
    },
    {
      "cell_type": "markdown",
      "source": [
        "### Model"
      ],
      "metadata": {
        "id": "90RuBAKFLj0X"
      }
    },
    {
      "cell_type": "code",
      "execution_count": 64,
      "source": [
        "# Initialize model\n",
        "model = MLP(input_dim=INPUT_DIM, hidden_dim=HIDDEN_DIM, num_classes=NUM_CLASSES)"
      ],
      "outputs": [],
      "metadata": {
        "id": "-IZ4YOKtSCRk"
      }
    },
    {
      "cell_type": "markdown",
      "source": [
        "### Training"
      ],
      "metadata": {
        "id": "J_2ydOvTL39a"
      }
    },
    {
      "cell_type": "code",
      "execution_count": 65,
      "source": [
        "# Define Loss\n",
        "class_weights_tensor = torch.Tensor(list(class_weights.values()))\n",
        "loss_fn = nn.CrossEntropyLoss(weight=class_weights_tensor)"
      ],
      "outputs": [],
      "metadata": {
        "id": "bW7Tn7H_4RAp"
      }
    },
    {
      "cell_type": "code",
      "execution_count": 66,
      "source": [
        "# Optimizer\n",
        "optimizer = Adam(model.parameters(), lr=LEARNING_RATE) "
      ],
      "outputs": [],
      "metadata": {
        "id": "EKo1sfHsLq2B"
      }
    },
    {
      "cell_type": "code",
      "execution_count": 67,
      "source": [
        "# Convert data to tensors\n",
        "X_train = torch.Tensor(X_train)\n",
        "y_train = torch.LongTensor(y_train)\n",
        "X_val = torch.Tensor(X_val)\n",
        "y_val = torch.LongTensor(y_val)\n",
        "X_test = torch.Tensor(X_test)\n",
        "y_test = torch.LongTensor(y_test)"
      ],
      "outputs": [],
      "metadata": {
        "id": "7NBWLKDISDj8"
      }
    },
    {
      "cell_type": "code",
      "execution_count": 68,
      "source": [
        "# Training\n",
        "for epoch in range(NUM_EPOCHS*10):\n",
        "    # Forward pass\n",
        "    y_pred = model(X_train)\n",
        "\n",
        "    # Loss\n",
        "    loss = loss_fn(y_pred, y_train)\n",
        "\n",
        "    # Zero all gradients\n",
        "    optimizer.zero_grad()\n",
        "\n",
        "    # Backward pass\n",
        "    loss.backward()\n",
        "\n",
        "    # Update weights\n",
        "    optimizer.step()\n",
        "\n",
        "    if epoch%10==0: \n",
        "        predictions = y_pred.max(dim=1)[1] # class\n",
        "        accuracy = accuracy_fn(y_pred=predictions, y_true=y_train)\n",
        "        print (f\"Epoch: {epoch} | loss: {loss:.2f}, accuracy: {accuracy:.1f}\")"
      ],
      "outputs": [
        {
          "output_type": "stream",
          "name": "stdout",
          "text": [
            "Epoch: 0 | loss: 0.67, accuracy: 71.4\n",
            "Epoch: 10 | loss: 0.52, accuracy: 96.8\n",
            "Epoch: 20 | loss: 0.41, accuracy: 100.0\n",
            "Epoch: 30 | loss: 0.33, accuracy: 100.0\n",
            "Epoch: 40 | loss: 0.27, accuracy: 100.0\n"
          ]
        }
      ],
      "metadata": {
        "id": "-CAhJIhEs5va",
        "colab": {
          "base_uri": "https://localhost:8080/"
        },
        "outputId": "0d563a74-5f6f-44e3-f0bc-2af68dc1fcda"
      }
    },
    {
      "cell_type": "markdown",
      "source": [
        "### Evaluation"
      ],
      "metadata": {
        "id": "7CnVl8OzMFBL"
      }
    },
    {
      "cell_type": "code",
      "execution_count": 69,
      "source": [
        "# Predictions\n",
        "y_prob = model(X_test, apply_softmax=True)\n",
        "y_pred = y_prob.max(dim=1)[1]"
      ],
      "outputs": [],
      "metadata": {
        "id": "uGWbZlhUSFOz"
      }
    },
    {
      "cell_type": "code",
      "execution_count": 70,
      "source": [
        "# Performance report\n",
        "performance = get_performance(y_true=y_test, y_pred=y_pred, classes=classes)\n",
        "print (json.dumps(performance, indent=2))"
      ],
      "outputs": [
        {
          "output_type": "stream",
          "name": "stdout",
          "text": [
            "{\n",
            "  \"overall\": {\n",
            "    \"precision\": 1.0,\n",
            "    \"recall\": 1.0,\n",
            "    \"f1\": 1.0,\n",
            "    \"num_samples\": 109.0\n",
            "  },\n",
            "  \"class\": {\n",
            "    \"benign\": {\n",
            "      \"precision\": 1.0,\n",
            "      \"recall\": 1.0,\n",
            "      \"f1\": 1.0,\n",
            "      \"num_samples\": 59.0\n",
            "    },\n",
            "    \"malignant\": {\n",
            "      \"precision\": 1.0,\n",
            "      \"recall\": 1.0,\n",
            "      \"f1\": 1.0,\n",
            "      \"num_samples\": 50.0\n",
            "    }\n",
            "  }\n",
            "}\n"
          ]
        }
      ],
      "metadata": {
        "colab": {
          "base_uri": "https://localhost:8080/"
        },
        "id": "Iyw8bjgrhl3Q",
        "outputId": "0249ff66-b6f3-40a8-e1c6-213b14fe7ccd"
      }
    },
    {
      "cell_type": "code",
      "execution_count": 71,
      "source": [
        "# Visualize the decision boundary\n",
        "plt.figure(figsize=(8,5))\n",
        "plt.title(\"Test\")\n",
        "plot_multiclass_decision_boundary(model=model, X=X_test, y=y_test)\n",
        "\n",
        "# Sample point near the decision boundary (same point as before)\n",
        "plt.scatter(mean_leukocyte_count+0.05, mean_blood_pressure-0.05, s=200, \n",
        "            c=\"b\", edgecolor=\"w\", linewidth=2)\n",
        "\n",
        "# Annotate\n",
        "plt.annotate(\"true: malignant,\\npred: benign\",\n",
        "             color=\"white\",\n",
        "             xy=(mean_leukocyte_count, mean_blood_pressure),\n",
        "             xytext=(0.45, 0.60),\n",
        "             textcoords=\"figure fraction\",\n",
        "             fontsize=16,\n",
        "             arrowprops=dict(facecolor=\"white\", shrink=0.1))\n",
        "plt.show()"
      ],
      "outputs": [
        {
          "output_type": "display_data",
          "data": {
            "text/plain": [
              "<Figure size 576x360 with 1 Axes>"
            ],
            "image/png": "[encoded data removed]"
          },
          "metadata": {
            "needs_background": "light"
          }
        }
      ],
      "metadata": {
        "id": "DmTCz8OnSFRn",
        "colab": {
          "base_uri": "https://localhost:8080/",
          "height": 336
        },
        "outputId": "fddb6338-92d7-42d4-f500-f1b8473346d2"
      }
    },
    {
      "cell_type": "markdown",
      "source": [
        "This is a very fragile but highly realistic scenario. Based on our reduced synthetic dataset, we have achieved a model that generalized really well on the test data. But when we ask for the prediction for the same point tested earlier (which we known is malignant), the prediction is now a benign tumor. We would have completely missed the tumor. To mitigate this, we can:\n",
        "1. Get more data around the space we are concerned about\n",
        "2. Consume predictions with caution when they are close to the decision boundary"
      ],
      "metadata": {
        "id": "kdP98xnlbvVn"
      }
    },
    {
      "cell_type": "markdown",
      "source": [
        "# Takeaway"
      ],
      "metadata": {
        "id": "yWzAC39adTwk"
      }
    },
    {
      "cell_type": "markdown",
      "source": [
        "Models are not crystal balls. So it's important that before any machine learning, we really look at our data and ask ourselves if it is truly representative for the task we want to solve. The model itself may fit really well and generalize well on your data but if the data is of poor quality to begin with, the model cannot be trusted."
      ],
      "metadata": {
        "id": "8q3CiF_xF5rY"
      }
    },
    {
      "cell_type": "markdown",
      "source": [
        "Once you are confident that your data is of good quality, you can finally start thinking about modeling. The type of model you choose depends on many factors, including the task, type of data, complexity required, etc. \n",
        "\n",
        "So once you figure out what type of model your task needs, start with simple models and then slowly add complexity. You don’t want to start with neural networks right away because that may not be right model for your data and task. Striking this balance in model complexity is one of the key tasks of your data scientists. **simple models → complex models**\n",
        "\n"
      ],
      "metadata": {
        "id": "cR45QpjQdY6N"
      }
    }
  ]
}