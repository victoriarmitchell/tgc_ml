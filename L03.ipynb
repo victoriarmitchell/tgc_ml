{
  "nbformat": 4,
  "nbformat_minor": 0,
  "metadata": {
    "colab": {
      "name": "L03.ipynb",
      "provenance": [],
      "collapsed_sections": []
    },
    "language_info": {
      "codemirror_mode": {
        "name": "ipython",
        "version": 3
      },
      "file_extension": ".py",
      "mimetype": "text/x-python",
      "name": "python",
      "nbconvert_exporter": "python",
      "pygments_lexer": "ipython3",
      "version": "3.6.8"
    },
    "kernelspec": {
      "display_name": "Python 3",
      "language": "python",
      "name": "python3"
    }
  },
  "cells": [
    {
      "cell_type": "markdown",
      "metadata": {
        "id": "GpvV_AujsZiy"
      },
      "source": [
        "In this notebook, we'll train a decision tree classifier on diabetes data and visualize the decision tree with graphviz"
      ]
    },
    {
      "cell_type": "code",
      "metadata": {
        "id": "SRuv4R9-hMbC"
      },
      "source": [
        "from sklearn import tree\n",
        "import graphviz "
      ],
      "execution_count": 26,
      "outputs": []
    },
    {
      "cell_type": "markdown",
      "metadata": {
        "id": "TgW4kceYvRQ0"
      },
      "source": [
        "here we download the data from plotly"
      ]
    },
    {
      "cell_type": "code",
      "metadata": {
        "id": "tRrhV7O9qhG2",
        "colab": {
          "base_uri": "https://localhost:8080/"
        },
        "outputId": "d912b091-aabd-44a5-bdd0-4c5a87310c17"
      },
      "source": [
        "!wget https://raw.githubusercontent.com/plotly/datasets/master/diabetes.csv"
      ],
      "execution_count": 27,
      "outputs": [
        {
          "output_type": "stream",
          "name": "stdout",
          "text": [
            "--2021-09-05 18:55:41--  https://raw.githubusercontent.com/plotly/datasets/master/diabetes.csv\n",
            "Resolving raw.githubusercontent.com (raw.githubusercontent.com)... 185.199.111.133, 185.199.109.133, 185.199.108.133, ...\n",
            "Connecting to raw.githubusercontent.com (raw.githubusercontent.com)|185.199.111.133|:443... connected.\n",
            "HTTP request sent, awaiting response... 200 OK\n",
            "Length: 23873 (23K) [text/plain]\n",
            "Saving to: ‘diabetes.csv.2’\n",
            "\n",
            "\rdiabetes.csv.2        0%[                    ]       0  --.-KB/s               \rdiabetes.csv.2      100%[===================>]  23.31K  --.-KB/s    in 0s      \n",
            "\n",
            "2021-09-05 18:55:41 (68.9 MB/s) - ‘diabetes.csv.2’ saved [23873/23873]\n",
            "\n"
          ]
        }
      ]
    },
    {
      "cell_type": "markdown",
      "metadata": {
        "id": "W-N5tYJ5yUkH"
      },
      "source": [
        "Next, we'll manually process the data from its comma separated value (csv) format"
      ]
    },
    {
      "cell_type": "code",
      "metadata": {
        "id": "WqdKcoMTD18H"
      },
      "source": [
        "with open(\"diabetes.csv\", \"r\") as f:\n",
        "    data = f.readlines()\n",
        "feats = data[0]\n",
        "feats = feats.replace('\\n','')\n",
        "feats = feats.split(\",\")"
      ],
      "execution_count": 28,
      "outputs": []
    },
    {
      "cell_type": "markdown",
      "metadata": {
        "id": "qxVqoN0qydem"
      },
      "source": [
        "Let's print the columns in the dataset"
      ]
    },
    {
      "cell_type": "code",
      "metadata": {
        "id": "PV-Q-rL1EXhX",
        "colab": {
          "base_uri": "https://localhost:8080/"
        },
        "outputId": "e3a88603-1e4e-43f9-9580-0e6647bba6f4"
      },
      "source": [
        "print(feats)"
      ],
      "execution_count": 29,
      "outputs": [
        {
          "output_type": "stream",
          "name": "stdout",
          "text": [
            "['Pregnancies', 'Glucose', 'BloodPressure', 'SkinThickness', 'Insulin', 'BMI', 'DiabetesPedigreeFunction', 'Age', 'Outcome']\n"
          ]
        }
      ]
    },
    {
      "cell_type": "markdown",
      "metadata": {
        "id": "Rvq-8FZCyg00"
      },
      "source": [
        "We now load the data into a list, `dat` and create a variable `labs` containing the label for a positive or negative example of diabetes"
      ]
    },
    {
      "cell_type": "code",
      "metadata": {
        "id": "rVxu9TkyEiQH"
      },
      "source": [
        "feats = feats[0:(len(feats)-1)]\t\n",
        "dat = []\t\t\t\t\n",
        "labs = []\t\t\t\n",
        "for i in range(1,len(data)):\t\n",
        "     line = data[i]\t\t\n",
        "     line = line.replace('\\n','')\t\t\n",
        "     csvline = line.split(\",\")\t\t\n",
        "     labs = labs + [int(csvline[len(csvline)-1])]\n",
        "     csvline = [float(csvline[i]) for i in range(len(csvline)-1)]\n",
        "     dat = dat + [csvline]\t\t"
      ],
      "execution_count": 30,
      "outputs": []
    },
    {
      "cell_type": "markdown",
      "metadata": {
        "id": "OAvmkwwmyuVJ"
      },
      "source": [
        "Let's find out how many examples we have"
      ]
    },
    {
      "cell_type": "code",
      "metadata": {
        "id": "sHgQS_h8E3sB",
        "colab": {
          "base_uri": "https://localhost:8080/"
        },
        "outputId": "a36d2caf-51e7-4349-9c19-59238e5892d8"
      },
      "source": [
        "print(len(dat))"
      ],
      "execution_count": 31,
      "outputs": [
        {
          "output_type": "stream",
          "name": "stdout",
          "text": [
            "768\n"
          ]
        }
      ]
    },
    {
      "cell_type": "markdown",
      "metadata": {
        "id": "r3a9GMInyyDw"
      },
      "source": [
        "We can also examine an example row in the data, row 15"
      ]
    },
    {
      "cell_type": "code",
      "metadata": {
        "id": "kutHBKa8FB5C",
        "colab": {
          "base_uri": "https://localhost:8080/"
        },
        "outputId": "4829a7e4-4a4c-4285-d328-ed7ca4e00bac"
      },
      "source": [
        "print(dat[15])"
      ],
      "execution_count": 32,
      "outputs": [
        {
          "output_type": "stream",
          "name": "stdout",
          "text": [
            "[7.0, 100.0, 0.0, 0.0, 0.0, 30.0, 0.484, 32.0]\n"
          ]
        }
      ]
    },
    {
      "cell_type": "markdown",
      "metadata": {
        "id": "e67tly6Ky3ZY"
      },
      "source": [
        "Using scikit-learn, a machine learning library in Python, we'll train a decision tree 3 decision rules and fit it to our data and labels"
      ]
    },
    {
      "cell_type": "code",
      "metadata": {
        "id": "UtT86_hiFsef"
      },
      "source": [
        "\n",
        "clf = tree.DecisionTreeClassifier(max_leaf_nodes = 3)\t\n",
        "clf = clf.fit(dat, labs)\t\t\t"
      ],
      "execution_count": 33,
      "outputs": []
    },
    {
      "cell_type": "markdown",
      "metadata": {
        "id": "DIOjfBDBzJfi"
      },
      "source": [
        "We can calculate the accuracy of this model"
      ]
    },
    {
      "cell_type": "code",
      "metadata": {
        "id": "zcKqYHXJFvvn",
        "colab": {
          "base_uri": "https://localhost:8080/"
        },
        "outputId": "1221024a-271b-44f7-e9ae-4773acc19593"
      },
      "source": [
        "correct = 0\t\t\t\t\t\t\n",
        "for i in range(len(dat)):\t\n",
        "    if clf.predict([dat[i]]) == labs[i]: correct = correct + 1\n",
        "100.0* correct / len(dat)"
      ],
      "execution_count": 34,
      "outputs": [
        {
          "output_type": "execute_result",
          "data": {
            "text/plain": [
              "77.21354166666667"
            ]
          },
          "metadata": {},
          "execution_count": 34
        }
      ]
    },
    {
      "cell_type": "markdown",
      "metadata": {
        "id": "OTsW65XazMob"
      },
      "source": [
        "Finally, we'll visualze our decision tree"
      ]
    },
    {
      "cell_type": "code",
      "metadata": {
        "id": "f2t4dTDlF3Ru",
        "colab": {
          "base_uri": "https://localhost:8080/",
          "height": 379
        },
        "outputId": "261142cd-28c3-42e1-da31-00ef8dbfe6ce"
      },
      "source": [
        "dot_data = tree.export_graphviz(clf, feature_names=feats,\n",
        "                      filled=True, rounded=True) \n",
        "graph = graphviz.Source(dot_data)\t\n",
        "graph\t"
      ],
      "execution_count": 37,
      "outputs": [
        {
          "output_type": "execute_result",
          "data": {
            "text/plain": [
              "<graphviz.files.Source at 0x7f428c164e90>"
            ],
            "image/svg+xml": "<?xml version=\"1.0\" encoding=\"UTF-8\" standalone=\"no\"?>\n<!DOCTYPE svg PUBLIC \"-//W3C//DTD SVG 1.1//EN\"\n \"http://www.w3.org/Graphics/SVG/1.1/DTD/svg11.dtd\">\n<!-- Generated by graphviz version 2.40.1 (20161225.0304)\n -->\n<!-- Title: Tree Pages: 1 -->\n<svg width=\"347pt\" height=\"269pt\"\n viewBox=\"0.00 0.00 347.00 269.00\" xmlns=\"http://www.w3.org/2000/svg\" xmlns:xlink=\"http://www.w3.org/1999/xlink\">\n<g id=\"graph0\" class=\"graph\" transform=\"scale(1 1) rotate(0) translate(4 265)\">\n<title>Tree</title>\n<polygon fill=\"#ffffff\" stroke=\"transparent\" points=\"-4,4 -4,-265 343,-265 343,4 -4,4\"/>\n<!-- 0 -->\n<g id=\"node1\" class=\"node\">\n<title>0</title>\n<path fill=\"#f3c5a3\" stroke=\"#000000\" d=\"M189,-261C189,-261 81,-261 81,-261 75,-261 69,-255 69,-249 69,-249 69,-205 69,-205 69,-199 75,-193 81,-193 81,-193 189,-193 189,-193 195,-193 201,-199 201,-205 201,-205 201,-249 201,-249 201,-255 195,-261 189,-261\"/>\n<text text-anchor=\"middle\" x=\"135\" y=\"-245.8\" font-family=\"Helvetica,sans-Serif\" font-size=\"14.00\" fill=\"#000000\">Glucose &lt;= 127.5</text>\n<text text-anchor=\"middle\" x=\"135\" y=\"-230.8\" font-family=\"Helvetica,sans-Serif\" font-size=\"14.00\" fill=\"#000000\">gini = 0.454</text>\n<text text-anchor=\"middle\" x=\"135\" y=\"-215.8\" font-family=\"Helvetica,sans-Serif\" font-size=\"14.00\" fill=\"#000000\">samples = 768</text>\n<text text-anchor=\"middle\" x=\"135\" y=\"-200.8\" font-family=\"Helvetica,sans-Serif\" font-size=\"14.00\" fill=\"#000000\">value = [500, 268]</text>\n</g>\n<!-- 1 -->\n<g id=\"node2\" class=\"node\">\n<title>1</title>\n<path fill=\"#eb9f69\" stroke=\"#000000\" d=\"M112,-149.5C112,-149.5 12,-149.5 12,-149.5 6,-149.5 0,-143.5 0,-137.5 0,-137.5 0,-108.5 0,-108.5 0,-102.5 6,-96.5 12,-96.5 12,-96.5 112,-96.5 112,-96.5 118,-96.5 124,-102.5 124,-108.5 124,-108.5 124,-137.5 124,-137.5 124,-143.5 118,-149.5 112,-149.5\"/>\n<text text-anchor=\"middle\" x=\"62\" y=\"-134.3\" font-family=\"Helvetica,sans-Serif\" font-size=\"14.00\" fill=\"#000000\">gini = 0.313</text>\n<text text-anchor=\"middle\" x=\"62\" y=\"-119.3\" font-family=\"Helvetica,sans-Serif\" font-size=\"14.00\" fill=\"#000000\">samples = 485</text>\n<text text-anchor=\"middle\" x=\"62\" y=\"-104.3\" font-family=\"Helvetica,sans-Serif\" font-size=\"14.00\" fill=\"#000000\">value = [391, 94]</text>\n</g>\n<!-- 0&#45;&gt;1 -->\n<g id=\"edge1\" class=\"edge\">\n<title>0&#45;&gt;1</title>\n<path fill=\"none\" stroke=\"#000000\" d=\"M111.0971,-192.9465C103.2108,-181.7113 94.4303,-169.2021 86.5002,-157.9043\"/>\n<polygon fill=\"#000000\" stroke=\"#000000\" points=\"89.2405,-155.7163 80.6306,-149.5422 83.5111,-159.7379 89.2405,-155.7163\"/>\n<text text-anchor=\"middle\" x=\"76.3177\" y=\"-170.4673\" font-family=\"Helvetica,sans-Serif\" font-size=\"14.00\" fill=\"#000000\">True</text>\n</g>\n<!-- 2 -->\n<g id=\"node3\" class=\"node\">\n<title>2</title>\n<path fill=\"#b5daf5\" stroke=\"#000000\" d=\"M262,-157C262,-157 154,-157 154,-157 148,-157 142,-151 142,-145 142,-145 142,-101 142,-101 142,-95 148,-89 154,-89 154,-89 262,-89 262,-89 268,-89 274,-95 274,-101 274,-101 274,-145 274,-145 274,-151 268,-157 262,-157\"/>\n<text text-anchor=\"middle\" x=\"208\" y=\"-141.8\" font-family=\"Helvetica,sans-Serif\" font-size=\"14.00\" fill=\"#000000\">BMI &lt;= 29.95</text>\n<text text-anchor=\"middle\" x=\"208\" y=\"-126.8\" font-family=\"Helvetica,sans-Serif\" font-size=\"14.00\" fill=\"#000000\">gini = 0.474</text>\n<text text-anchor=\"middle\" x=\"208\" y=\"-111.8\" font-family=\"Helvetica,sans-Serif\" font-size=\"14.00\" fill=\"#000000\">samples = 283</text>\n<text text-anchor=\"middle\" x=\"208\" y=\"-96.8\" font-family=\"Helvetica,sans-Serif\" font-size=\"14.00\" fill=\"#000000\">value = [109, 174]</text>\n</g>\n<!-- 0&#45;&gt;2 -->\n<g id=\"edge2\" class=\"edge\">\n<title>0&#45;&gt;2</title>\n<path fill=\"none\" stroke=\"#000000\" d=\"M158.9029,-192.9465C165.0791,-184.1475 171.8038,-174.5672 178.239,-165.3993\"/>\n<polygon fill=\"#000000\" stroke=\"#000000\" points=\"181.1629,-167.3258 184.0434,-157.13 175.4334,-163.3041 181.1629,-167.3258\"/>\n<text text-anchor=\"middle\" x=\"188.3563\" y=\"-178.0552\" font-family=\"Helvetica,sans-Serif\" font-size=\"14.00\" fill=\"#000000\">False</text>\n</g>\n<!-- 3 -->\n<g id=\"node4\" class=\"node\">\n<title>3</title>\n<path fill=\"#f1bb94\" stroke=\"#000000\" d=\"M185,-53C185,-53 93,-53 93,-53 87,-53 81,-47 81,-41 81,-41 81,-12 81,-12 81,-6 87,0 93,0 93,0 185,0 185,0 191,0 197,-6 197,-12 197,-12 197,-41 197,-41 197,-47 191,-53 185,-53\"/>\n<text text-anchor=\"middle\" x=\"139\" y=\"-37.8\" font-family=\"Helvetica,sans-Serif\" font-size=\"14.00\" fill=\"#000000\">gini = 0.432</text>\n<text text-anchor=\"middle\" x=\"139\" y=\"-22.8\" font-family=\"Helvetica,sans-Serif\" font-size=\"14.00\" fill=\"#000000\">samples = 76</text>\n<text text-anchor=\"middle\" x=\"139\" y=\"-7.8\" font-family=\"Helvetica,sans-Serif\" font-size=\"14.00\" fill=\"#000000\">value = [52, 24]</text>\n</g>\n<!-- 2&#45;&gt;3 -->\n<g id=\"edge3\" class=\"edge\">\n<title>2&#45;&gt;3</title>\n<path fill=\"none\" stroke=\"#000000\" d=\"M183.6732,-88.9777C177.3221,-80.0954 170.466,-70.5067 164.0768,-61.5711\"/>\n<polygon fill=\"#000000\" stroke=\"#000000\" points=\"166.7893,-59.3472 158.1259,-53.2485 161.0952,-63.4187 166.7893,-59.3472\"/>\n</g>\n<!-- 4 -->\n<g id=\"node5\" class=\"node\">\n<title>4</title>\n<path fill=\"#84c2ef\" stroke=\"#000000\" d=\"M327,-53C327,-53 227,-53 227,-53 221,-53 215,-47 215,-41 215,-41 215,-12 215,-12 215,-6 221,0 227,0 227,0 327,0 327,0 333,0 339,-6 339,-12 339,-12 339,-41 339,-41 339,-47 333,-53 327,-53\"/>\n<text text-anchor=\"middle\" x=\"277\" y=\"-37.8\" font-family=\"Helvetica,sans-Serif\" font-size=\"14.00\" fill=\"#000000\">gini = 0.399</text>\n<text text-anchor=\"middle\" x=\"277\" y=\"-22.8\" font-family=\"Helvetica,sans-Serif\" font-size=\"14.00\" fill=\"#000000\">samples = 207</text>\n<text text-anchor=\"middle\" x=\"277\" y=\"-7.8\" font-family=\"Helvetica,sans-Serif\" font-size=\"14.00\" fill=\"#000000\">value = [57, 150]</text>\n</g>\n<!-- 2&#45;&gt;4 -->\n<g id=\"edge4\" class=\"edge\">\n<title>2&#45;&gt;4</title>\n<path fill=\"none\" stroke=\"#000000\" d=\"M232.3268,-88.9777C238.6779,-80.0954 245.534,-70.5067 251.9232,-61.5711\"/>\n<polygon fill=\"#000000\" stroke=\"#000000\" points=\"254.9048,-63.4187 257.8741,-53.2485 249.2107,-59.3472 254.9048,-63.4187\"/>\n</g>\n</g>\n</svg>\n"
          },
          "metadata": {},
          "execution_count": 37
        }
      ]
    },
    {
      "cell_type": "code",
      "metadata": {
        "id": "M1Jm46dUUTTI"
      },
      "source": [
        ""
      ],
      "execution_count": null,
      "outputs": []
    }
  ]
}