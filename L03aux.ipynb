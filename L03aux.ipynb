{
  "nbformat": 4,
  "nbformat_minor": 0,
  "metadata": {
    "kernelspec": {
      "display_name": "Python 3",
      "language": "python",
      "name": "python3"
    },
    "language_info": {
      "codemirror_mode": {
        "name": "ipython",
        "version": 3
      },
      "file_extension": ".py",
      "mimetype": "text/x-python",
      "name": "python",
      "nbconvert_exporter": "python",
      "pygments_lexer": "ipython3",
      "version": "3.6.8"
    },
    "colab": {
      "name": "L03aux.ipynb",
      "provenance": [],
      "collapsed_sections": []
    }
  },
  "cells": [
    {
      "cell_type": "markdown",
      "metadata": {
        "id": "OfX_Bcl9zfVS"
      },
      "source": [
        "In this notebook we train a decison tree to classify words with `ie` from words with the letters `ei` with scikit-learn\n",
        "\n",
        "We'll then visualize it with graphviz"
      ]
    },
    {
      "cell_type": "code",
      "metadata": {
        "id": "QXaPxlM2KRrk"
      },
      "source": [
        "from sklearn import tree\n",
        "import graphviz "
      ],
      "execution_count": 1,
      "outputs": []
    },
    {
      "cell_type": "markdown",
      "metadata": {
        "id": "qFqUdojlKQi5"
      },
      "source": [
        "Below we download the data"
      ]
    },
    {
      "cell_type": "code",
      "metadata": {
        "id": "smcZ4HcApw5e",
        "colab": {
          "base_uri": "https://localhost:8080/"
        },
        "outputId": "3ed00c41-c692-4380-c08f-dce57b609a44"
      },
      "source": [
        "!wget https://raw.githubusercontent.com/mlittmancs/great_courses_ml/master/data/ei.txt\n",
        "!wget https://raw.githubusercontent.com/mlittmancs/great_courses_ml/master/data/ie.txt"
      ],
      "execution_count": 2,
      "outputs": [
        {
          "output_type": "stream",
          "name": "stdout",
          "text": [
            "--2021-09-05 22:20:07--  https://raw.githubusercontent.com/mlittmancs/great_courses_ml/master/data/ei.txt\n",
            "Resolving raw.githubusercontent.com (raw.githubusercontent.com)... 185.199.110.133, 185.199.108.133, 185.199.109.133, ...\n",
            "Connecting to raw.githubusercontent.com (raw.githubusercontent.com)|185.199.110.133|:443... connected.\n",
            "HTTP request sent, awaiting response... 200 OK\n",
            "Length: 2470 (2.4K) [text/plain]\n",
            "Saving to: ‘ei.txt’\n",
            "\n",
            "ei.txt              100%[===================>]   2.41K  --.-KB/s    in 0s      \n",
            "\n",
            "2021-09-05 22:20:08 (40.0 MB/s) - ‘ei.txt’ saved [2470/2470]\n",
            "\n",
            "--2021-09-05 22:20:08--  https://raw.githubusercontent.com/mlittmancs/great_courses_ml/master/data/ie.txt\n",
            "Resolving raw.githubusercontent.com (raw.githubusercontent.com)... 185.199.108.133, 185.199.110.133, 185.199.109.133, ...\n",
            "Connecting to raw.githubusercontent.com (raw.githubusercontent.com)|185.199.108.133|:443... connected.\n",
            "HTTP request sent, awaiting response... 200 OK\n",
            "Length: 6272 (6.1K) [text/plain]\n",
            "Saving to: ‘ie.txt’\n",
            "\n",
            "ie.txt              100%[===================>]   6.12K  --.-KB/s    in 0s      \n",
            "\n",
            "2021-09-05 22:20:08 (55.4 MB/s) - ‘ie.txt’ saved [6272/6272]\n",
            "\n"
          ]
        }
      ]
    },
    {
      "cell_type": "markdown",
      "metadata": {
        "id": "1Gh1NWoL9Xk7"
      },
      "source": [
        "Here we define some auxilliary functions:\n",
        "\n",
        "- `features` processes the words and extracts information about them, such as the number of sylables and pronounciation\n",
        "- `featurenames` describes the features listed in `features`"
      ]
    },
    {
      "cell_type": "code",
      "metadata": {
        "id": "3NSD5QENkHrn"
      },
      "source": [
        "# Define some auxillary functions\n",
        "\n",
        "def features(wordline):\n",
        "    vector = []\n",
        "    if \"ie\" in wordline[0]: loc = wordline[0].index(\"ie\")\n",
        "    else: loc = wordline[0].index(\"ei\")\n",
        "    # pronounced as one syllable\n",
        "    vector = vector + [wordline[1][loc] == '-' or wordline[1][loc+1] == '-']\n",
        "    # silent\n",
        "    vector = vector + [wordline[1][loc] == '-' and wordline[1][loc+1] == '-']\n",
        "    # two syllables\n",
        "    vector = vector + [wordline[1][loc] != '-' and wordline[1][loc+1] != '-']\n",
        "    # pronunciation\n",
        "#    for pro in [\"--\", \"-I\", \"A-\", \"E-\", \"I-\", \"e-\", \"ei\", \"i-\", \"iA\", \"iI\", \"ix\", \"x-\", \"-E\",\n",
        "#                \"-a\", \"-e\", \"-x\", \"-y\", \"AE\", \"Ai\", \"Ax\", \"Ix\", \"Y-\", \"iE\", \"ii\", \"y-\", \"yE\",\n",
        "#                \"yI\", \"ye\", \"yx\"]:\n",
        "    # two syllable pronunciation\n",
        "    for pro in [\"ei\", \"iA\", \"iI\", \"ix\", \"AE\", \"Ai\", \"Ax\", \"Ix\", \"iE\", \"ii\", \"yE\", \"yI\", \"ye\", \"yx\"]:\n",
        "        vector = vector + [wordline[1][loc:(loc+2)] == pro]\n",
        "    # two syllable pronunciation\n",
        "    for pro in [\"I\", \"A\", \"E\", \"e\", \"i\", \"x\", \"a\", \"y\", \"Y\"]:\n",
        "        vector = vector + [wordline[1][loc:(loc+2)] == pro+\"-\" or wordline[1][loc:(loc+2)] == \"-\"+pro]\n",
        "    for let in \"abcdefghijklmnopqrstuvwxyz\":\n",
        "    # immediate preceeding, before\n",
        "        if loc > 0: vector = vector + [wordline[0][loc-1] == let]\n",
        "        else: vector = vector + [False]\n",
        "        vector = vector + [let in wordline[0][0:loc]]\n",
        "        # immediate following, after\n",
        "        if loc < len(wordline[0])-2: vector = vector + [wordline[0][loc+2] == let]\n",
        "        else: vector = vector + [False]\n",
        "        vector = vector + [let in wordline[0][(loc+2):]]\n",
        "        # in word at all\n",
        "        vector = vector + [let in wordline[0][(loc+2):]]\n",
        "    return(vector)\n",
        "\n",
        "def featurenames():\n",
        "    vector = []\n",
        "    # pronounced as one syllable\n",
        "    vector = vector + [\"one syllable?\", \"silent?\", \"two syllables?\"]\n",
        "    # pronunciation\n",
        "    for pro in [\"ei\", \"iA\", \"iI\", \"ix\", \"AE\", \"Ai\", \"Ax\", \"Ix\", \"iE\", \"ii\", \"yE\", \"yI\", \"ye\", \"yx\"]:\n",
        "        vector = vector + [\"sounds like \" + pro + \"?\"]\n",
        "    # two syllable pronunciation\n",
        "    for pro in [\"I\", \"A\", \"E\", \"e\", \"i\", \"x\", \"a\", \"y\", \"Y\"]:\n",
        "        vector = vector + [\"sounds like \" + pro + \"?\"]\n",
        "    for let in \"abcdefghijklmnopqrstuvwxyz\":\n",
        "        # immediate preceeding, before\n",
        "        vector = vector + [\"immediately after \" + let + \"?\", \"after \" + let + \"?\"]\n",
        "        # immediate following, after\n",
        "        vector = vector + [\"immediately before \" + let + \"?\", \"before \" + let + \"?\"]\n",
        "        # in word at all\n",
        "        vector = vector + [\"word contains \" + let + \"?\"]\n",
        "    return(vector)"
      ],
      "execution_count": 3,
      "outputs": []
    },
    {
      "cell_type": "markdown",
      "metadata": {
        "id": "HsTXtAYyESgf"
      },
      "source": [
        "We'll now combine these functions to load the data into multiple lists:\n",
        "\n",
        "- `dat` contains the information about each word, described in the `features` function\n",
        "- `labs` labels if the word uses `ie` or `ei`\n",
        "- `words` includes each actual word\n",
        "- `pros` describes the pronouciation of each word "
      ]
    },
    {
      "cell_type": "code",
      "metadata": {
        "id": "nj-ExcU5kHro",
        "colab": {
          "base_uri": "https://localhost:8080/"
        },
        "outputId": "6b480c0b-fb66-4bd9-e62b-0af7badeea04"
      },
      "source": [
        "# Putting together the data set:\n",
        "\n",
        "dat = []\n",
        "labs = []\n",
        "words = []\n",
        "pros = []\n",
        "for file in [\"ie\", \"ei\"]:\n",
        " with open(file+\".txt\", \"r\") as f:\n",
        "   data = f.readlines()\n",
        "   for line in data:\n",
        "    wordline = line.split()\n",
        "    dat = dat + [features(wordline)]\n",
        "    labs = labs + [[\"ie\" in wordline[0]]]\n",
        "    words = words + [wordline[0]]\n",
        "    pros = pros + [wordline[1]]\n",
        "len(dat)"
      ],
      "execution_count": 7,
      "outputs": [
        {
          "output_type": "execute_result",
          "data": {
            "text/plain": [
              "500"
            ]
          },
          "metadata": {},
          "execution_count": 7
        }
      ]
    },
    {
      "cell_type": "markdown",
      "metadata": {
        "id": "6xHFhQ-FHtQ7"
      },
      "source": [
        "We can now train the decision tree classifer using 8 decision rules and calculate the number of words we get correct with this model"
      ]
    },
    {
      "cell_type": "code",
      "metadata": {
        "id": "257vwFobkHrq",
        "colab": {
          "base_uri": "https://localhost:8080/"
        },
        "outputId": "03a63104-b645-4918-e9b7-961df1975807"
      },
      "source": [
        "# Set up the learner and run it on the data, then compute the accuracy and print it\n",
        "clf = tree.DecisionTreeClassifier(max_leaf_nodes=8)\n",
        "clf = clf.fit(dat, labs)\n",
        "correct = 0\n",
        "for i in range(len(words)):\n",
        "    if clf.predict([features([words[i], pros[i]])]) == labs[i]: correct = correct + 1\n",
        "print(correct)"
      ],
      "execution_count": 8,
      "outputs": [
        {
          "output_type": "stream",
          "name": "stdout",
          "text": [
            "425\n"
          ]
        }
      ]
    },
    {
      "cell_type": "markdown",
      "metadata": {
        "id": "8YSMYXhtLngw"
      },
      "source": [
        "We can now extract the names of the features to use in the diagram of the decision tree and plot the diagram"
      ]
    },
    {
      "cell_type": "code",
      "metadata": {
        "id": "9kjYgCqckHrs",
        "colab": {
          "base_uri": "https://localhost:8080/",
          "height": 1000
        },
        "outputId": "52ff5d9a-c7ce-4e2a-f6f8-ed776b3e002e"
      },
      "source": [
        "feats = featurenames()\n",
        "\n",
        "# Draw the tree!\n",
        "\n",
        "\n",
        "# dot_data = tree.export_graphviz(clf, out_file=None) \n",
        "# graph = graphviz.Source(dot_data) \n",
        "# graph.render(\"iris\") \n",
        "dot_data = tree.export_graphviz(clf, out_file=None, \n",
        "                      feature_names=feats,  \n",
        "                      class_names=[\"ei\",\"ie\"],  \n",
        "                      filled=True, rounded=True,  \n",
        "                      special_characters=True)  \n",
        "graph = graphviz.Source(dot_data)  \n",
        "graph\n"
      ],
      "execution_count": 9,
      "outputs": [
        {
          "output_type": "execute_result",
          "data": {
            "text/plain": [
              "<graphviz.files.Source at 0x7fae25b219d0>"
            ],
            "image/svg+xml": "<?xml version=\"1.0\" encoding=\"UTF-8\" standalone=\"no\"?>\n<!DOCTYPE svg PUBLIC \"-//W3C//DTD SVG 1.1//EN\"\n \"http://www.w3.org/Graphics/SVG/1.1/DTD/svg11.dtd\">\n<!-- Generated by graphviz version 2.40.1 (20161225.0304)\n -->\n<!-- Title: Tree Pages: 1 -->\n<svg width=\"702pt\" height=\"790pt\"\n viewBox=\"0.00 0.00 701.50 790.00\" xmlns=\"http://www.w3.org/2000/svg\" xmlns:xlink=\"http://www.w3.org/1999/xlink\">\n<g id=\"graph0\" class=\"graph\" transform=\"scale(1 1) rotate(0) translate(4 786)\">\n<title>Tree</title>\n<polygon fill=\"#ffffff\" stroke=\"transparent\" points=\"-4,4 -4,-786 697.5,-786 697.5,4 -4,4\"/>\n<!-- 0 -->\n<g id=\"node1\" class=\"node\">\n<title>0</title>\n<path fill=\"#88c4ef\" stroke=\"#000000\" d=\"M629,-782C629,-782 507,-782 507,-782 501,-782 495,-776 495,-770 495,-770 495,-711 495,-711 495,-705 501,-699 507,-699 507,-699 629,-699 629,-699 635,-699 641,-705 641,-711 641,-711 641,-770 641,-770 641,-776 635,-782 629,-782\"/>\n<text text-anchor=\"start\" x=\"503\" y=\"-766.8\" font-family=\"Helvetica,sans-Serif\" font-size=\"14.00\" fill=\"#000000\">sounds like e? ≤ 0.5</text>\n<text text-anchor=\"start\" x=\"530\" y=\"-751.8\" font-family=\"Helvetica,sans-Serif\" font-size=\"14.00\" fill=\"#000000\">gini = 0.408</text>\n<text text-anchor=\"start\" x=\"520\" y=\"-736.8\" font-family=\"Helvetica,sans-Serif\" font-size=\"14.00\" fill=\"#000000\">samples = 500</text>\n<text text-anchor=\"start\" x=\"510\" y=\"-721.8\" font-family=\"Helvetica,sans-Serif\" font-size=\"14.00\" fill=\"#000000\">value = [143, 357]</text>\n<text text-anchor=\"start\" x=\"537.5\" y=\"-706.8\" font-family=\"Helvetica,sans-Serif\" font-size=\"14.00\" fill=\"#000000\">class = ie</text>\n</g>\n<!-- 1 -->\n<g id=\"node2\" class=\"node\">\n<title>1</title>\n<path fill=\"#70b8ec\" stroke=\"#000000\" d=\"M556,-663C556,-663 436,-663 436,-663 430,-663 424,-657 424,-651 424,-651 424,-592 424,-592 424,-586 430,-580 436,-580 436,-580 556,-580 556,-580 562,-580 568,-586 568,-592 568,-592 568,-651 568,-651 568,-657 562,-663 556,-663\"/>\n<text text-anchor=\"start\" x=\"432\" y=\"-647.8\" font-family=\"Helvetica,sans-Serif\" font-size=\"14.00\" fill=\"#000000\">sounds like iI? ≤ 0.5</text>\n<text text-anchor=\"start\" x=\"462.5\" y=\"-632.8\" font-family=\"Helvetica,sans-Serif\" font-size=\"14.00\" fill=\"#000000\">gini = 0.34</text>\n<text text-anchor=\"start\" x=\"448\" y=\"-617.8\" font-family=\"Helvetica,sans-Serif\" font-size=\"14.00\" fill=\"#000000\">samples = 455</text>\n<text text-anchor=\"start\" x=\"442\" y=\"-602.8\" font-family=\"Helvetica,sans-Serif\" font-size=\"14.00\" fill=\"#000000\">value = [99, 356]</text>\n<text text-anchor=\"start\" x=\"465.5\" y=\"-587.8\" font-family=\"Helvetica,sans-Serif\" font-size=\"14.00\" fill=\"#000000\">class = ie</text>\n</g>\n<!-- 0&#45;&gt;1 -->\n<g id=\"edge1\" class=\"edge\">\n<title>0&#45;&gt;1</title>\n<path fill=\"none\" stroke=\"#000000\" d=\"M542.8179,-698.8796C537.5867,-690.2335 532.0195,-681.0322 526.6177,-672.1042\"/>\n<polygon fill=\"#000000\" stroke=\"#000000\" points=\"529.4608,-670.0421 521.2896,-663.2981 523.4717,-673.6658 529.4608,-670.0421\"/>\n<text text-anchor=\"middle\" x=\"515.316\" y=\"-683.8739\" font-family=\"Helvetica,sans-Serif\" font-size=\"14.00\" fill=\"#000000\">True</text>\n</g>\n<!-- 2 -->\n<g id=\"node15\" class=\"node\">\n<title>2</title>\n<path fill=\"#e6843d\" stroke=\"#000000\" d=\"M681.5,-655.5C681.5,-655.5 598.5,-655.5 598.5,-655.5 592.5,-655.5 586.5,-649.5 586.5,-643.5 586.5,-643.5 586.5,-599.5 586.5,-599.5 586.5,-593.5 592.5,-587.5 598.5,-587.5 598.5,-587.5 681.5,-587.5 681.5,-587.5 687.5,-587.5 693.5,-593.5 693.5,-599.5 693.5,-599.5 693.5,-643.5 693.5,-643.5 693.5,-649.5 687.5,-655.5 681.5,-655.5\"/>\n<text text-anchor=\"start\" x=\"602\" y=\"-640.3\" font-family=\"Helvetica,sans-Serif\" font-size=\"14.00\" fill=\"#000000\">gini = 0.043</text>\n<text text-anchor=\"start\" x=\"596\" y=\"-625.3\" font-family=\"Helvetica,sans-Serif\" font-size=\"14.00\" fill=\"#000000\">samples = 45</text>\n<text text-anchor=\"start\" x=\"594.5\" y=\"-610.3\" font-family=\"Helvetica,sans-Serif\" font-size=\"14.00\" fill=\"#000000\">value = [44, 1]</text>\n<text text-anchor=\"start\" x=\"609.5\" y=\"-595.3\" font-family=\"Helvetica,sans-Serif\" font-size=\"14.00\" fill=\"#000000\">class = ei</text>\n</g>\n<!-- 0&#45;&gt;2 -->\n<g id=\"edge14\" class=\"edge\">\n<title>0&#45;&gt;2</title>\n<path fill=\"none\" stroke=\"#000000\" d=\"M593.1821,-698.8796C599.9017,-687.7735 607.1757,-675.7513 613.9414,-664.5691\"/>\n<polygon fill=\"#000000\" stroke=\"#000000\" points=\"617.0559,-666.1826 619.238,-655.8149 611.0668,-662.5589 617.0559,-666.1826\"/>\n<text text-anchor=\"middle\" x=\"625.2117\" y=\"-676.3908\" font-family=\"Helvetica,sans-Serif\" font-size=\"14.00\" fill=\"#000000\">False</text>\n</g>\n<!-- 3 -->\n<g id=\"node3\" class=\"node\">\n<title>3</title>\n<path fill=\"#68b4eb\" stroke=\"#000000\" d=\"M489,-544C489,-544 351,-544 351,-544 345,-544 339,-538 339,-532 339,-532 339,-473 339,-473 339,-467 345,-461 351,-461 351,-461 489,-461 489,-461 495,-461 501,-467 501,-473 501,-473 501,-532 501,-532 501,-538 495,-544 489,-544\"/>\n<text text-anchor=\"start\" x=\"347\" y=\"-528.8\" font-family=\"Helvetica,sans-Serif\" font-size=\"14.00\" fill=\"#000000\">word contains g? ≤ 0.5</text>\n<text text-anchor=\"start\" x=\"382\" y=\"-513.8\" font-family=\"Helvetica,sans-Serif\" font-size=\"14.00\" fill=\"#000000\">gini = 0.309</text>\n<text text-anchor=\"start\" x=\"372\" y=\"-498.8\" font-family=\"Helvetica,sans-Serif\" font-size=\"14.00\" fill=\"#000000\">samples = 440</text>\n<text text-anchor=\"start\" x=\"366\" y=\"-483.8\" font-family=\"Helvetica,sans-Serif\" font-size=\"14.00\" fill=\"#000000\">value = [84, 356]</text>\n<text text-anchor=\"start\" x=\"389.5\" y=\"-468.8\" font-family=\"Helvetica,sans-Serif\" font-size=\"14.00\" fill=\"#000000\">class = ie</text>\n</g>\n<!-- 1&#45;&gt;3 -->\n<g id=\"edge2\" class=\"edge\">\n<title>1&#45;&gt;3</title>\n<path fill=\"none\" stroke=\"#000000\" d=\"M469.4189,-579.8796C463.8395,-571.1434 457.8981,-561.8404 452.1405,-552.8253\"/>\n<polygon fill=\"#000000\" stroke=\"#000000\" points=\"455.0269,-550.8421 446.6946,-544.2981 449.1274,-554.6098 455.0269,-550.8421\"/>\n</g>\n<!-- 4 -->\n<g id=\"node14\" class=\"node\">\n<title>4</title>\n<path fill=\"#e58139\" stroke=\"#000000\" d=\"M614.5,-536.5C614.5,-536.5 531.5,-536.5 531.5,-536.5 525.5,-536.5 519.5,-530.5 519.5,-524.5 519.5,-524.5 519.5,-480.5 519.5,-480.5 519.5,-474.5 525.5,-468.5 531.5,-468.5 531.5,-468.5 614.5,-468.5 614.5,-468.5 620.5,-468.5 626.5,-474.5 626.5,-480.5 626.5,-480.5 626.5,-524.5 626.5,-524.5 626.5,-530.5 620.5,-536.5 614.5,-536.5\"/>\n<text text-anchor=\"start\" x=\"543.5\" y=\"-521.3\" font-family=\"Helvetica,sans-Serif\" font-size=\"14.00\" fill=\"#000000\">gini = 0.0</text>\n<text text-anchor=\"start\" x=\"529\" y=\"-506.3\" font-family=\"Helvetica,sans-Serif\" font-size=\"14.00\" fill=\"#000000\">samples = 15</text>\n<text text-anchor=\"start\" x=\"527.5\" y=\"-491.3\" font-family=\"Helvetica,sans-Serif\" font-size=\"14.00\" fill=\"#000000\">value = [15, 0]</text>\n<text text-anchor=\"start\" x=\"542.5\" y=\"-476.3\" font-family=\"Helvetica,sans-Serif\" font-size=\"14.00\" fill=\"#000000\">class = ei</text>\n</g>\n<!-- 1&#45;&gt;4 -->\n<g id=\"edge13\" class=\"edge\">\n<title>1&#45;&gt;4</title>\n<path fill=\"none\" stroke=\"#000000\" d=\"M522.9309,-579.8796C530.1883,-568.6636 538.0503,-556.5131 545.3465,-545.2372\"/>\n<polygon fill=\"#000000\" stroke=\"#000000\" points=\"548.3022,-547.112 550.7962,-536.8149 542.4252,-543.3093 548.3022,-547.112\"/>\n</g>\n<!-- 5 -->\n<g id=\"node4\" class=\"node\">\n<title>5</title>\n<path fill=\"#63b2eb\" stroke=\"#000000\" d=\"M414,-425C414,-425 272,-425 272,-425 266,-425 260,-419 260,-413 260,-413 260,-354 260,-354 260,-348 266,-342 272,-342 272,-342 414,-342 414,-342 420,-342 426,-348 426,-354 426,-354 426,-413 426,-413 426,-419 420,-425 414,-425\"/>\n<text text-anchor=\"start\" x=\"268\" y=\"-409.8\" font-family=\"Helvetica,sans-Serif\" font-size=\"14.00\" fill=\"#000000\">word contains m? ≤ 0.5</text>\n<text text-anchor=\"start\" x=\"305\" y=\"-394.8\" font-family=\"Helvetica,sans-Serif\" font-size=\"14.00\" fill=\"#000000\">gini = 0.289</text>\n<text text-anchor=\"start\" x=\"295\" y=\"-379.8\" font-family=\"Helvetica,sans-Serif\" font-size=\"14.00\" fill=\"#000000\">samples = 423</text>\n<text text-anchor=\"start\" x=\"289\" y=\"-364.8\" font-family=\"Helvetica,sans-Serif\" font-size=\"14.00\" fill=\"#000000\">value = [74, 349]</text>\n<text text-anchor=\"start\" x=\"312.5\" y=\"-349.8\" font-family=\"Helvetica,sans-Serif\" font-size=\"14.00\" fill=\"#000000\">class = ie</text>\n</g>\n<!-- 3&#45;&gt;5 -->\n<g id=\"edge3\" class=\"edge\">\n<title>3&#45;&gt;5</title>\n<path fill=\"none\" stroke=\"#000000\" d=\"M393.0691,-460.8796C387.4163,-452.1434 381.3967,-442.8404 375.5634,-433.8253\"/>\n<polygon fill=\"#000000\" stroke=\"#000000\" points=\"378.4169,-431.7924 370.0458,-425.2981 372.5399,-435.5952 378.4169,-431.7924\"/>\n</g>\n<!-- 6 -->\n<g id=\"node13\" class=\"node\">\n<title>6</title>\n<path fill=\"#f7d9c4\" stroke=\"#000000\" d=\"M539.5,-417.5C539.5,-417.5 456.5,-417.5 456.5,-417.5 450.5,-417.5 444.5,-411.5 444.5,-405.5 444.5,-405.5 444.5,-361.5 444.5,-361.5 444.5,-355.5 450.5,-349.5 456.5,-349.5 456.5,-349.5 539.5,-349.5 539.5,-349.5 545.5,-349.5 551.5,-355.5 551.5,-361.5 551.5,-361.5 551.5,-405.5 551.5,-405.5 551.5,-411.5 545.5,-417.5 539.5,-417.5\"/>\n<text text-anchor=\"start\" x=\"460\" y=\"-402.3\" font-family=\"Helvetica,sans-Serif\" font-size=\"14.00\" fill=\"#000000\">gini = 0.484</text>\n<text text-anchor=\"start\" x=\"454\" y=\"-387.3\" font-family=\"Helvetica,sans-Serif\" font-size=\"14.00\" fill=\"#000000\">samples = 17</text>\n<text text-anchor=\"start\" x=\"452.5\" y=\"-372.3\" font-family=\"Helvetica,sans-Serif\" font-size=\"14.00\" fill=\"#000000\">value = [10, 7]</text>\n<text text-anchor=\"start\" x=\"467.5\" y=\"-357.3\" font-family=\"Helvetica,sans-Serif\" font-size=\"14.00\" fill=\"#000000\">class = ei</text>\n</g>\n<!-- 3&#45;&gt;6 -->\n<g id=\"edge12\" class=\"edge\">\n<title>3&#45;&gt;6</title>\n<path fill=\"none\" stroke=\"#000000\" d=\"M447.2806,-460.8796C454.6323,-449.6636 462.5964,-437.5131 469.9874,-426.2372\"/>\n<polygon fill=\"#000000\" stroke=\"#000000\" points=\"472.9531,-428.0972 475.5079,-417.8149 467.0986,-424.2598 472.9531,-428.0972\"/>\n</g>\n<!-- 7 -->\n<g id=\"node5\" class=\"node\">\n<title>7</title>\n<path fill=\"#60b0ea\" stroke=\"#000000\" d=\"M332.5,-306C332.5,-306 209.5,-306 209.5,-306 203.5,-306 197.5,-300 197.5,-294 197.5,-294 197.5,-235 197.5,-235 197.5,-229 203.5,-223 209.5,-223 209.5,-223 332.5,-223 332.5,-223 338.5,-223 344.5,-229 344.5,-235 344.5,-235 344.5,-294 344.5,-294 344.5,-300 338.5,-306 332.5,-306\"/>\n<text text-anchor=\"start\" x=\"205.5\" y=\"-290.8\" font-family=\"Helvetica,sans-Serif\" font-size=\"14.00\" fill=\"#000000\">sounds like E? ≤ 0.5</text>\n<text text-anchor=\"start\" x=\"233\" y=\"-275.8\" font-family=\"Helvetica,sans-Serif\" font-size=\"14.00\" fill=\"#000000\">gini = 0.275</text>\n<text text-anchor=\"start\" x=\"223\" y=\"-260.8\" font-family=\"Helvetica,sans-Serif\" font-size=\"14.00\" fill=\"#000000\">samples = 413</text>\n<text text-anchor=\"start\" x=\"217\" y=\"-245.8\" font-family=\"Helvetica,sans-Serif\" font-size=\"14.00\" fill=\"#000000\">value = [68, 345]</text>\n<text text-anchor=\"start\" x=\"240.5\" y=\"-230.8\" font-family=\"Helvetica,sans-Serif\" font-size=\"14.00\" fill=\"#000000\">class = ie</text>\n</g>\n<!-- 5&#45;&gt;7 -->\n<g id=\"edge4\" class=\"edge\">\n<title>5&#45;&gt;7</title>\n<path fill=\"none\" stroke=\"#000000\" d=\"M317.8179,-341.8796C312.5867,-333.2335 307.0195,-324.0322 301.6177,-315.1042\"/>\n<polygon fill=\"#000000\" stroke=\"#000000\" points=\"304.4608,-313.0421 296.2896,-306.2981 298.4717,-316.6658 304.4608,-313.0421\"/>\n</g>\n<!-- 8 -->\n<g id=\"node12\" class=\"node\">\n<title>8</title>\n<path fill=\"#f6d5bd\" stroke=\"#000000\" d=\"M455,-298.5C455,-298.5 375,-298.5 375,-298.5 369,-298.5 363,-292.5 363,-286.5 363,-286.5 363,-242.5 363,-242.5 363,-236.5 369,-230.5 375,-230.5 375,-230.5 455,-230.5 455,-230.5 461,-230.5 467,-236.5 467,-242.5 467,-242.5 467,-286.5 467,-286.5 467,-292.5 461,-298.5 455,-298.5\"/>\n<text text-anchor=\"start\" x=\"381.5\" y=\"-283.3\" font-family=\"Helvetica,sans-Serif\" font-size=\"14.00\" fill=\"#000000\">gini = 0.48</text>\n<text text-anchor=\"start\" x=\"371\" y=\"-268.3\" font-family=\"Helvetica,sans-Serif\" font-size=\"14.00\" fill=\"#000000\">samples = 10</text>\n<text text-anchor=\"start\" x=\"373.5\" y=\"-253.3\" font-family=\"Helvetica,sans-Serif\" font-size=\"14.00\" fill=\"#000000\">value = [6, 4]</text>\n<text text-anchor=\"start\" x=\"384.5\" y=\"-238.3\" font-family=\"Helvetica,sans-Serif\" font-size=\"14.00\" fill=\"#000000\">class = ei</text>\n</g>\n<!-- 5&#45;&gt;8 -->\n<g id=\"edge11\" class=\"edge\">\n<title>5&#45;&gt;8</title>\n<path fill=\"none\" stroke=\"#000000\" d=\"M368.1821,-341.8796C374.9017,-330.7735 382.1757,-318.7513 388.9414,-307.5691\"/>\n<polygon fill=\"#000000\" stroke=\"#000000\" points=\"392.0559,-309.1826 394.238,-298.8149 386.0668,-305.5589 392.0559,-309.1826\"/>\n</g>\n<!-- 9 -->\n<g id=\"node6\" class=\"node\">\n<title>9</title>\n<path fill=\"#5dafea\" stroke=\"#000000\" d=\"M273,-187C273,-187 107,-187 107,-187 101,-187 95,-181 95,-175 95,-175 95,-116 95,-116 95,-110 101,-104 107,-104 107,-104 273,-104 273,-104 279,-104 285,-110 285,-116 285,-116 285,-175 285,-175 285,-181 279,-187 273,-187\"/>\n<text text-anchor=\"start\" x=\"103\" y=\"-171.8\" font-family=\"Helvetica,sans-Serif\" font-size=\"14.00\" fill=\"#000000\">immediately before t? ≤ 0.5</text>\n<text text-anchor=\"start\" x=\"152\" y=\"-156.8\" font-family=\"Helvetica,sans-Serif\" font-size=\"14.00\" fill=\"#000000\">gini = 0.263</text>\n<text text-anchor=\"start\" x=\"142\" y=\"-141.8\" font-family=\"Helvetica,sans-Serif\" font-size=\"14.00\" fill=\"#000000\">samples = 405</text>\n<text text-anchor=\"start\" x=\"136\" y=\"-126.8\" font-family=\"Helvetica,sans-Serif\" font-size=\"14.00\" fill=\"#000000\">value = [63, 342]</text>\n<text text-anchor=\"start\" x=\"159.5\" y=\"-111.8\" font-family=\"Helvetica,sans-Serif\" font-size=\"14.00\" fill=\"#000000\">class = ie</text>\n</g>\n<!-- 7&#45;&gt;9 -->\n<g id=\"edge5\" class=\"edge\">\n<title>7&#45;&gt;9</title>\n<path fill=\"none\" stroke=\"#000000\" d=\"M242.6701,-222.8796C236.7237,-214.1434 230.3914,-204.8404 224.255,-195.8253\"/>\n<polygon fill=\"#000000\" stroke=\"#000000\" points=\"226.9711,-193.5953 218.4508,-187.2981 221.1844,-197.5342 226.9711,-193.5953\"/>\n</g>\n<!-- 10 -->\n<g id=\"node9\" class=\"node\">\n<title>10</title>\n<path fill=\"#f5cdb0\" stroke=\"#000000\" d=\"M390.5,-187C390.5,-187 315.5,-187 315.5,-187 309.5,-187 303.5,-181 303.5,-175 303.5,-175 303.5,-116 303.5,-116 303.5,-110 309.5,-104 315.5,-104 315.5,-104 390.5,-104 390.5,-104 396.5,-104 402.5,-110 402.5,-116 402.5,-116 402.5,-175 402.5,-175 402.5,-181 396.5,-187 390.5,-187\"/>\n<text text-anchor=\"start\" x=\"313\" y=\"-171.8\" font-family=\"Helvetica,sans-Serif\" font-size=\"14.00\" fill=\"#000000\">after f? ≤ 0.5</text>\n<text text-anchor=\"start\" x=\"315\" y=\"-156.8\" font-family=\"Helvetica,sans-Serif\" font-size=\"14.00\" fill=\"#000000\">gini = 0.469</text>\n<text text-anchor=\"start\" x=\"313.5\" y=\"-141.8\" font-family=\"Helvetica,sans-Serif\" font-size=\"14.00\" fill=\"#000000\">samples = 8</text>\n<text text-anchor=\"start\" x=\"311.5\" y=\"-126.8\" font-family=\"Helvetica,sans-Serif\" font-size=\"14.00\" fill=\"#000000\">value = [5, 3]</text>\n<text text-anchor=\"start\" x=\"322.5\" y=\"-111.8\" font-family=\"Helvetica,sans-Serif\" font-size=\"14.00\" fill=\"#000000\">class = ei</text>\n</g>\n<!-- 7&#45;&gt;10 -->\n<g id=\"edge8\" class=\"edge\">\n<title>7&#45;&gt;10</title>\n<path fill=\"none\" stroke=\"#000000\" d=\"M299.6796,-222.8796C305.7615,-214.0534 312.2422,-204.6485 318.5141,-195.5466\"/>\n<polygon fill=\"#000000\" stroke=\"#000000\" points=\"321.4059,-197.5184 324.198,-187.2981 315.6418,-193.5465 321.4059,-197.5184\"/>\n</g>\n<!-- 13 -->\n<g id=\"node7\" class=\"node\">\n<title>13</title>\n<path fill=\"#58ace9\" stroke=\"#000000\" d=\"M112,-68C112,-68 12,-68 12,-68 6,-68 0,-62 0,-56 0,-56 0,-12 0,-12 0,-6 6,0 12,0 12,0 112,0 112,0 118,0 124,-6 124,-12 124,-12 124,-56 124,-56 124,-62 118,-68 112,-68\"/>\n<text text-anchor=\"start\" x=\"24\" y=\"-52.8\" font-family=\"Helvetica,sans-Serif\" font-size=\"14.00\" fill=\"#000000\">gini = 0.234</text>\n<text text-anchor=\"start\" x=\"14\" y=\"-37.8\" font-family=\"Helvetica,sans-Serif\" font-size=\"14.00\" fill=\"#000000\">samples = 363</text>\n<text text-anchor=\"start\" x=\"8\" y=\"-22.8\" font-family=\"Helvetica,sans-Serif\" font-size=\"14.00\" fill=\"#000000\">value = [49, 314]</text>\n<text text-anchor=\"start\" x=\"31.5\" y=\"-7.8\" font-family=\"Helvetica,sans-Serif\" font-size=\"14.00\" fill=\"#000000\">class = ie</text>\n</g>\n<!-- 9&#45;&gt;13 -->\n<g id=\"edge6\" class=\"edge\">\n<title>9&#45;&gt;13</title>\n<path fill=\"none\" stroke=\"#000000\" d=\"M142.3375,-103.9815C131.4703,-94.5151 119.9295,-84.462 109.0865,-75.0168\"/>\n<polygon fill=\"#000000\" stroke=\"#000000\" points=\"111.1734,-72.1929 101.3341,-68.2637 106.5755,-77.4712 111.1734,-72.1929\"/>\n</g>\n<!-- 14 -->\n<g id=\"node8\" class=\"node\">\n<title>14</title>\n<path fill=\"#9ccef2\" stroke=\"#000000\" d=\"M246,-68C246,-68 154,-68 154,-68 148,-68 142,-62 142,-56 142,-56 142,-12 142,-12 142,-6 148,0 154,0 154,0 246,0 246,0 252,0 258,-6 258,-12 258,-12 258,-56 258,-56 258,-62 252,-68 246,-68\"/>\n<text text-anchor=\"start\" x=\"162\" y=\"-52.8\" font-family=\"Helvetica,sans-Serif\" font-size=\"14.00\" fill=\"#000000\">gini = 0.444</text>\n<text text-anchor=\"start\" x=\"156\" y=\"-37.8\" font-family=\"Helvetica,sans-Serif\" font-size=\"14.00\" fill=\"#000000\">samples = 42</text>\n<text text-anchor=\"start\" x=\"150\" y=\"-22.8\" font-family=\"Helvetica,sans-Serif\" font-size=\"14.00\" fill=\"#000000\">value = [14, 28]</text>\n<text text-anchor=\"start\" x=\"169.5\" y=\"-7.8\" font-family=\"Helvetica,sans-Serif\" font-size=\"14.00\" fill=\"#000000\">class = ie</text>\n</g>\n<!-- 9&#45;&gt;14 -->\n<g id=\"edge7\" class=\"edge\">\n<title>9&#45;&gt;14</title>\n<path fill=\"none\" stroke=\"#000000\" d=\"M193.7236,-103.9815C194.4737,-95.618 195.2649,-86.7965 196.0232,-78.3409\"/>\n<polygon fill=\"#000000\" stroke=\"#000000\" points=\"199.5197,-78.5364 196.927,-68.2637 192.5477,-77.911 199.5197,-78.5364\"/>\n</g>\n<!-- 11 -->\n<g id=\"node10\" class=\"node\">\n<title>11</title>\n<path fill=\"#e58139\" stroke=\"#000000\" d=\"M381.5,-68C381.5,-68 306.5,-68 306.5,-68 300.5,-68 294.5,-62 294.5,-56 294.5,-56 294.5,-12 294.5,-12 294.5,-6 300.5,0 306.5,0 306.5,0 381.5,0 381.5,0 387.5,0 393.5,-6 393.5,-12 393.5,-12 393.5,-56 393.5,-56 393.5,-62 387.5,-68 381.5,-68\"/>\n<text text-anchor=\"start\" x=\"314.5\" y=\"-52.8\" font-family=\"Helvetica,sans-Serif\" font-size=\"14.00\" fill=\"#000000\">gini = 0.0</text>\n<text text-anchor=\"start\" x=\"304.5\" y=\"-37.8\" font-family=\"Helvetica,sans-Serif\" font-size=\"14.00\" fill=\"#000000\">samples = 5</text>\n<text text-anchor=\"start\" x=\"302.5\" y=\"-22.8\" font-family=\"Helvetica,sans-Serif\" font-size=\"14.00\" fill=\"#000000\">value = [5, 0]</text>\n<text text-anchor=\"start\" x=\"313.5\" y=\"-7.8\" font-family=\"Helvetica,sans-Serif\" font-size=\"14.00\" fill=\"#000000\">class = ei</text>\n</g>\n<!-- 10&#45;&gt;11 -->\n<g id=\"edge9\" class=\"edge\">\n<title>10&#45;&gt;11</title>\n<path fill=\"none\" stroke=\"#000000\" d=\"M349.6487,-103.9815C348.9737,-95.618 348.2616,-86.7965 347.5791,-78.3409\"/>\n<polygon fill=\"#000000\" stroke=\"#000000\" points=\"351.059,-77.9496 346.7657,-68.2637 344.0817,-78.5129 351.059,-77.9496\"/>\n</g>\n<!-- 12 -->\n<g id=\"node11\" class=\"node\">\n<title>12</title>\n<path fill=\"#399de5\" stroke=\"#000000\" d=\"M498.5,-68C498.5,-68 423.5,-68 423.5,-68 417.5,-68 411.5,-62 411.5,-56 411.5,-56 411.5,-12 411.5,-12 411.5,-6 417.5,0 423.5,0 423.5,0 498.5,0 498.5,0 504.5,0 510.5,-6 510.5,-12 510.5,-12 510.5,-56 510.5,-56 510.5,-62 504.5,-68 498.5,-68\"/>\n<text text-anchor=\"start\" x=\"431.5\" y=\"-52.8\" font-family=\"Helvetica,sans-Serif\" font-size=\"14.00\" fill=\"#000000\">gini = 0.0</text>\n<text text-anchor=\"start\" x=\"421.5\" y=\"-37.8\" font-family=\"Helvetica,sans-Serif\" font-size=\"14.00\" fill=\"#000000\">samples = 3</text>\n<text text-anchor=\"start\" x=\"419.5\" y=\"-22.8\" font-family=\"Helvetica,sans-Serif\" font-size=\"14.00\" fill=\"#000000\">value = [0, 3]</text>\n<text text-anchor=\"start\" x=\"430.5\" y=\"-7.8\" font-family=\"Helvetica,sans-Serif\" font-size=\"14.00\" fill=\"#000000\">class = ie</text>\n</g>\n<!-- 10&#45;&gt;12 -->\n<g id=\"edge10\" class=\"edge\">\n<title>10&#45;&gt;12</title>\n<path fill=\"none\" stroke=\"#000000\" d=\"M393.2152,-103.9815C402.2064,-94.6989 411.744,-84.8522 420.7371,-75.5677\"/>\n<polygon fill=\"#000000\" stroke=\"#000000\" points=\"423.3684,-77.8817 427.8119,-68.2637 418.3404,-73.0115 423.3684,-77.8817\"/>\n</g>\n</g>\n</svg>\n"
          },
          "metadata": {},
          "execution_count": 9
        }
      ]
    },
    {
      "cell_type": "code",
      "metadata": {
        "id": "mYsz4WQGqI-u"
      },
      "source": [
        ""
      ],
      "execution_count": null,
      "outputs": []
    }
  ]
}